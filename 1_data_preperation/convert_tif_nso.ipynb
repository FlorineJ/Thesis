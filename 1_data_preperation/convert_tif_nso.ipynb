{
 "cells": [
  {
   "cell_type": "code",
   "execution_count": 1,
   "id": "6db215a1",
   "metadata": {},
   "outputs": [],
   "source": [
    "import os\n",
    "import json\n",
    "import geojson\n",
    "import numpy as np\n",
    "import pandas as pd\n",
    "from osgeo import gdal\n",
    "from sklearn.model_selection import train_test_split\n",
    "\n",
    "# custom functions\n",
    "#from detectron2-spacenet.utils.functions import grab_certain_file, tif_to_png\n",
    "import sys\n",
    "sys.path.append('../')\n",
    "from utils.functions import grab_certain_file, tif_to_png"
   ]
  },
  {
   "cell_type": "code",
   "execution_count": 2,
   "id": "5e3f231c",
   "metadata": {},
   "outputs": [
    {
     "name": "stderr",
     "output_type": "stream",
     "text": [
      "Converting TIF images to PNG to NSO/train: 100%|██████████| 4592/4592 [06:02<00:00, 12.67it/s]\n"
     ]
    },
    {
     "name": "stdout",
     "output_type": "stream",
     "text": [
      "Done converting NSO/train images\n"
     ]
    },
    {
     "name": "stderr",
     "output_type": "stream",
     "text": [
      "Converting TIF images to PNG to NSO/val: 100%|██████████| 1148/1148 [01:26<00:00, 13.21it/s]"
     ]
    },
    {
     "name": "stdout",
     "output_type": "stream",
     "text": [
      "Done converting NSO/val images\n"
     ]
    },
    {
     "name": "stderr",
     "output_type": "stream",
     "text": [
      "\n"
     ]
    }
   ],
   "source": [
    "# Source: https://russland.medium.com/using-detectron2-for-instance-segmentation-on-the-spacenet-dataset-94338f739cd0\n",
    "# Random seed, to get the same split results - Explanation (https://stackoverflow.com/questions/58955816/difference-between-shuffle-and-random-state-in-train-test-split)\n",
    "RANDOM_SEED = 560\n",
    "\n",
    "# Path to all images\n",
    "nso_train = \"NSO/nso_all\"\n",
    "# No test dataset yet, split them prior to val\n",
    "#nso_test = \"NSO/test\"\n",
    "\n",
    "# Convert TIFF to PNG\n",
    "nso_images = grab_certain_file(\".tif\", nso_train)\n",
    "train, val = train_test_split(nso_images, test_size=0.2, random_state=RANDOM_SEED)\n",
    "#test = grab_certain_file(\".tif\", nso_test)\n",
    "\n",
    "tif_to_png(train, nso_train, \"NSO/train\")\n",
    "print(\"Done converting NSO/train images\")\n",
    "tif_to_png(val, nso_train, \"NSO/val\")\n",
    "print(\"Done converting NSO/val images\")\n",
    "#tif_to_png(test, rio_test, \"Spacenet/test\")\n",
    "#print(\"Done converting NSO/test images\")\n"
   ]
  },
  {
   "cell_type": "markdown",
   "id": "79ebe1cb",
   "metadata": {},
   "source": []
  }
 ],
 "metadata": {
  "kernelspec": {
   "display_name": "Python 3 (ipykernel)",
   "language": "python",
   "name": "python3"
  },
  "language_info": {
   "codemirror_mode": {
    "name": "ipython",
    "version": 3
   },
   "file_extension": ".py",
   "mimetype": "text/x-python",
   "name": "python",
   "nbconvert_exporter": "python",
   "pygments_lexer": "ipython3",
   "version": "3.8.13"
  },
  "vscode": {
   "interpreter": {
    "hash": "31f2aee4e71d21fbe5cf8b01ff0e069b9275f58929596ceb00d14d90e3e16cd6"
   }
  }
 },
 "nbformat": 4,
 "nbformat_minor": 5
}
