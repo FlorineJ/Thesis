{
 "cells": [
  {
   "cell_type": "code",
   "execution_count": 1,
   "metadata": {},
   "outputs": [],
   "source": [
    "import sys\n",
    "import pandas as pd\n",
    "import geopandas as gpd\n",
    "import os\n",
    "\n",
    "# Add the scripts with custom function to the path and import all functions\n",
    "sys.path.append(os.path.join('..',\"utils\"))\n",
    "from extract_osm import *"
   ]
  },
  {
   "cell_type": "code",
   "execution_count": null,
   "metadata": {},
   "outputs": [],
   "source": [
    "# Set the paths to the data and output\n",
    "osm_path = os.path.join('..',\"data/netherlands-latest.osm.pbf\")\n",
    "output_path = os.path.join('..',\"output\")"
   ]
  },
  {
   "cell_type": "code",
   "execution_count": 6,
   "metadata": {},
   "outputs": [
    {
     "name": "stdout",
     "output_type": "stream",
     "text": [
      "query is finished, lets start the loop\n"
     ]
    },
    {
     "name": "stderr",
     "output_type": "stream",
     "text": [
      "extract: 100%|██████████| 3515/3515 [03:26<00:00, 17.06it/s]  \n"
     ]
    }
   ],
   "source": [
    "# Extract the power substations from the OSM data with key:val = power:substation\n",
    "df_power_sub = power_subs(osm_path)"
   ]
  },
  {
   "cell_type": "code",
   "execution_count": 7,
   "metadata": {},
   "outputs": [],
   "source": [
    "# Set up filtering of other.tags column with a w_list and a b_list \n",
    "w_list = ['substation'] # !!! add in funtion w_list arg and '|'.join(w_list) if more than one w_list key word\n",
    "b_list = ['minor_distribution', 'converter', 'indoor', 'pipeline', 'gas']"
   ]
  },
  {
   "cell_type": "code",
   "execution_count": 8,
   "metadata": {},
   "outputs": [
    {
     "name": "stdout",
     "output_type": "stream",
     "text": [
      "query is finished, lets start the loop\n"
     ]
    },
    {
     "name": "stderr",
     "output_type": "stream",
     "text": [
      "extract: 100%|██████████| 10989123/10989123 [17:09<00:00, 10670.31it/s]\n"
     ]
    }
   ],
   "source": [
    "# Retrieve multipolygons of substation from the OSM data with filtering\n",
    "df_power_poly = retrieve_poly_subs(osm_path, w_list, b_list)"
   ]
  },
  {
   "cell_type": "code",
   "execution_count": 3,
   "metadata": {},
   "outputs": [
    {
     "name": "stdout",
     "output_type": "stream",
     "text": [
      "query is finished, lets start the loop\n"
     ]
    },
    {
     "name": "stderr",
     "output_type": "stream",
     "text": [
      "extract: 100%|██████████| 10457438/10457438 [08:21<00:00, 20868.92it/s]\n"
     ]
    }
   ],
   "source": [
    "#Retrieve points substations\n",
    "#TODO:  filter out using b_list\n",
    "df_power_point = power_point(osm_path)"
   ]
  },
  {
   "cell_type": "code",
   "execution_count": 4,
   "metadata": {},
   "outputs": [
    {
     "name": "stdout",
     "output_type": "stream",
     "text": [
      "query is finished, lets start the loop\n"
     ]
    },
    {
     "name": "stderr",
     "output_type": "stream",
     "text": [
      "extract: 100%|██████████| 1815988/1815988 [03:16<00:00, 9258.28it/s] \n"
     ]
    }
   ],
   "source": [
    "#Retrieve substation lines\n",
    "df_power_lines = retrieve_line_subs(osm_path,w_list,b_list)"
   ]
  },
  {
   "cell_type": "code",
   "execution_count": 9,
   "metadata": {},
   "outputs": [
    {
     "name": "stderr",
     "output_type": "stream",
     "text": [
      "/Users/joeldeplaen/opt/anaconda3/envs/py38_cisi/lib/python3.8/site-packages/geopandas/io/file.py:362: FutureWarning: pandas.Int64Index is deprecated and will be removed from pandas in a future version. Use pandas.Index with the appropriate dtype instead.\n",
      "  pd.Int64Index,\n",
      "/Users/joeldeplaen/opt/anaconda3/envs/py38_cisi/lib/python3.8/site-packages/geopandas/io/file.py:362: FutureWarning: pandas.Int64Index is deprecated and will be removed from pandas in a future version. Use pandas.Index with the appropriate dtype instead.\n",
      "  pd.Int64Index,\n"
     ]
    }
   ],
   "source": [
    "### SAVING SHP FILE ###\n",
    "# set the crs for the geodataframe\n",
    "crs_gdf ='epsg:4326'\n",
    "\n",
    "save_df_to_shp(df_power_sub, 'power_substation_osm_ndls_14-07.shp', crs_gdf)\n",
    "save_df_to_shp(df_power_poly, 'poly_substation_osm_ndls_14-07.shp', crs_gdf)\n",
    "save_df_to_shp(df_power_point, 'point_substation_osm_ndls_14-07.shp', crs_gdf)\n",
    "save_df_to_shp(df_power_lines, 'line_substation_osm_ndls_14-07.shp', crs_gdf)"
   ]
  }
 ],
 "metadata": {
  "kernelspec": {
   "display_name": "Python 3 (ipykernel)",
   "language": "python",
   "name": "python3"
  },
  "language_info": {
   "codemirror_mode": {
    "name": "ipython",
    "version": 3
   },
   "file_extension": ".py",
   "mimetype": "text/x-python",
   "name": "python",
   "nbconvert_exporter": "python",
   "pygments_lexer": "ipython3",
   "version": "3.8.13"
  },
  "vscode": {
   "interpreter": {
    "hash": "5bc4db46b6a73bd30a11a2fa3e93f40c6d7b47ce177475cde816571bd5c02b40"
   }
  }
 },
 "nbformat": 4,
 "nbformat_minor": 2
}
