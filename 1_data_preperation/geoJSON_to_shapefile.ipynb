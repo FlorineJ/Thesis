{
 "cells": [
  {
   "cell_type": "code",
   "execution_count": 2,
   "metadata": {},
   "outputs": [],
   "source": [
    "import geopandas as gpd\n",
    "import os\n",
    "\n",
    "directory_path = 'C:\\\\Users\\\\florine.jonkers\\\\Documents\\\\Thesis\\\\Data Jasper New\\\\GeoJSON Files'\n",
    "output_directory = 'C:\\\\Users\\\\florine.jonkers\\\\Documents\\\\Thesis\\\\Data Jasper New\\\\Shapefiles'\n",
    "\n",
    "# Make sure the output directory exists\n",
    "if not os.path.exists(output_directory):\n",
    "    os.makedirs(output_directory)\n",
    "\n",
    "# Loop through all files in the directory\n",
    "for filename in os.listdir(directory_path):\n",
    "    if filename.endswith(\".geojson\"):\n",
    "        file_path = os.path.join(directory_path, filename)\n",
    "        # Load GeoJSON file\n",
    "        gdf = gpd.read_file(file_path)\n",
    "        # Save to Shapefile\n",
    "        output_path = os.path.join(output_directory, filename.replace('.geojson', ''))\n",
    "        gdf.to_file(output_path, driver='ESRI Shapefile')\n"
   ]
  },
  {
   "cell_type": "code",
   "execution_count": null,
   "metadata": {},
   "outputs": [],
   "source": []
  }
 ],
 "metadata": {
  "kernelspec": {
   "display_name": "thesis2",
   "language": "python",
   "name": "python3"
  },
  "language_info": {
   "codemirror_mode": {
    "name": "ipython",
    "version": 3
   },
   "file_extension": ".py",
   "mimetype": "text/x-python",
   "name": "python",
   "nbconvert_exporter": "python",
   "pygments_lexer": "ipython3",
   "version": "3.10.14"
  }
 },
 "nbformat": 4,
 "nbformat_minor": 2
}
