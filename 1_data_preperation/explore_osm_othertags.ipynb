{
 "cells": [
  {
   "cell_type": "code",
   "execution_count": 1,
   "metadata": {},
   "outputs": [],
   "source": [
    "'''\n",
    "Aim: go through the other tags of tenerife osm and check all k:v related to substations combinations\n",
    "\n",
    "'''\n",
    "\n",
    "import pandas as pd\n",
    "tenerife_path = '/Users/joeldeplaen/Documents/Tenerife/attribute_table_tenerife.csv'"
   ]
  },
  {
   "cell_type": "code",
   "execution_count": 2,
   "metadata": {},
   "outputs": [
    {
     "name": "stderr",
     "output_type": "stream",
     "text": [
      "/var/folders/0n/dhghwnr10818sldm15nkjl4r0000gn/T/ipykernel_46763/1132164966.py:1: DtypeWarning: Columns (4,9,11,12,18,20) have mixed types. Specify dtype option on import or set low_memory=False.\n",
      "  df = pd.read_csv(tenerife_path)\n"
     ]
    }
   ],
   "source": [
    "df = pd.read_csv(tenerife_path) "
   ]
  },
  {
   "cell_type": "code",
   "execution_count": 3,
   "metadata": {},
   "outputs": [
    {
     "data": {
      "text/plain": [
       "133463"
      ]
     },
     "execution_count": 3,
     "metadata": {},
     "output_type": "execute_result"
    }
   ],
   "source": [
    "len (df)"
   ]
  },
  {
   "cell_type": "code",
   "execution_count": 8,
   "metadata": {},
   "outputs": [],
   "source": [
    "df = df[df.other_tags.str.contains('substation', case=False, na=False)]"
   ]
  },
  {
   "cell_type": "code",
   "execution_count": 9,
   "metadata": {},
   "outputs": [
    {
     "data": {
      "text/plain": [
       "132"
      ]
     },
     "execution_count": 9,
     "metadata": {},
     "output_type": "execute_result"
    }
   ],
   "source": [
    "len (df)"
   ]
  },
  {
   "cell_type": "code",
   "execution_count": 10,
   "metadata": {},
   "outputs": [],
   "source": [
    "df_ot = df['other_tags']"
   ]
  },
  {
   "cell_type": "code",
   "execution_count": null,
   "metadata": {},
   "outputs": [],
   "source": [
    "# Voltage not on all\n",
    "# Black list with minor"
   ]
  }
 ],
 "metadata": {
  "kernelspec": {
   "display_name": "Python 3.8.13 ('py38_cisi')",
   "language": "python",
   "name": "python3"
  },
  "language_info": {
   "codemirror_mode": {
    "name": "ipython",
    "version": 3
   },
   "file_extension": ".py",
   "mimetype": "text/x-python",
   "name": "python",
   "nbconvert_exporter": "python",
   "pygments_lexer": "ipython3",
   "version": "3.8.13"
  },
  "orig_nbformat": 4,
  "vscode": {
   "interpreter": {
    "hash": "5bc4db46b6a73bd30a11a2fa3e93f40c6d7b47ce177475cde816571bd5c02b40"
   }
  }
 },
 "nbformat": 4,
 "nbformat_minor": 2
}
