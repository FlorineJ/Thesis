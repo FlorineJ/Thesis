{
 "cells": [
  {
   "cell_type": "code",
   "execution_count": 11,
   "metadata": {},
   "outputs": [],
   "source": [
    "import os\n",
    "import numpy as np\n",
    "import rasterio\n",
    "\n",
    "def split_geotiff(input_file,output_dir,width,height):\n",
    "    \"\"\"This splits geotiff raster in tiles into an outputfolder with a certain width and height\n",
    "\n",
    "    Args:\n",
    "        input_file (str): File path to a geotiff raster layer\n",
    "        output_dir (str): file path to the output folder where to save the created tiles\n",
    "        width (int): width in pixel of the tiles\n",
    "        height (int): height in pixel of the tiles\n",
    "    \"\"\"    \n",
    "    with rasterio.open(input_file) as src:\n",
    "        out_image = src.read()\n",
    "        out_meta = src.meta\n",
    "        out_transform = src.transform\n",
    "        \n",
    "        heights = np.arange(0,out_image.shape[1],height)\n",
    "        widths = np.arange(0,out_image.shape[2],width)\n",
    "\n",
    "\n",
    "        for x in range(len(heights)):\n",
    "            for y in range(len(widths)):\n",
    "                if (x+1 == len(heights)) or y+1 == len(widths):\n",
    "                    continue\n",
    "                else:\n",
    "                    new_tile = out_image[:,heights[x]:heights[x+1],widths[y]:widths[y+1]]\n",
    "                    #extract origine from metadata of tiff\n",
    "                    #transform_new = rasterio.transform.from_origin(198838.0+widths[y]/2, 462910.5-heights[x]/2, 0.5, 0.5)\n",
    "                    transform_new = rasterio.transform.from_origin(177836.0+widths[y]/2, 439004-heights[x]/2, 0.5, 0.5)\n",
    "\n",
    "                    out_meta.update({\"driver\": \"GTiff\",\n",
    "                         \"height\": new_tile.shape[1],\n",
    "                         \"width\": new_tile.shape[2],\n",
    "                         \"transform\": transform_new})\n",
    "\n",
    "                    with rasterio.open(os.path.join(output_dir,\"{}_{}.tif\".format(heights[x],widths[y])), \"w\",compress='lzw', **out_meta) as dest:\n",
    "                        dest.write(new_tile)\n"
   ]
  },
  {
   "cell_type": "code",
   "execution_count": 14,
   "metadata": {},
   "outputs": [],
   "source": [
    "### Split aster tiff into width and height\n",
    "tif_path = os.path.join('..',\"gis/tiling/20211221_110101_SV1-04_SV_RD_8bit_RGB_50cm_Brummen/20211221_110101_SV1-04_SV_RD_8bit_RGB_50cm_Brummen.tif\")\n",
    "tiles_path = os.path.join('..',\"gis/tiling/20211221_110101_SV1-04_SV_RD_8bit_RGB_50cm_Brummen/output\")\n",
    "width = 438\n",
    "height = 406\n",
    "\n",
    "split_geotiff(tif_path,tiles_path, width, height)"
   ]
  },
  {
   "cell_type": "code",
   "execution_count": 21,
   "metadata": {},
   "outputs": [],
   "source": [
    "### Split aster tiff into width and height\n",
    "#tif_path = os.path.join('..',\"gis/tiling/20221114_104447_SV2-01_SV_RD_8bit_RGB_50cm_Nijmegen/20221114_104447_SV2-01_SV_RD_8bit_RGB_50cm_Nijmegen.tif\")\n",
    "#tiles_path = os.path.join('..',\"/gis/tiling\")\n",
    "from pathlib import Path\n",
    "tif_path = Path(\"../gis/tiling/20221114_104447_SV2-01_SV_RD_8bit_RGB_50cm_Nijmegen/20221114_104447_SV2-01_SV_RD_8bit_RGB_50cm_Nijmegen.tif\")\n",
    "tiles_path = Path(\"../gis/tiling/20221114_104447_SV2-01_SV_RD_8bit_RGB_50cm_Nijmegen/output\")\n",
    "\n",
    "#new_directory = \"output\"\n",
    "#path = os.path.join ('..', parent_dir, new_directory)\n",
    "#tiles_path = os.makedirs(path)\n",
    "#tiles_path = os.path.join('..',\"/gis/tiling/20221114_104447_SV2-01_SV_RD_8bit_RGB_50cm_Nijmegen\")\n",
    "width = 438\n",
    "height = 406\n",
    "\n",
    "split_geotiff(tif_path,tiles_path, width, height)"
   ]
  },
  {
   "cell_type": "code",
   "execution_count": 3,
   "metadata": {},
   "outputs": [
    {
     "name": "stdout",
     "output_type": "stream",
     "text": [
      "0    POLYGON ((6.10665 52.05895, 6.10644 52.05911, ...\n",
      "1    POLYGON ((6.10692 52.05807, 6.10745 52.05741, ...\n",
      "Name: geometry, dtype: geometry\n",
      "0    POLYGON ((6.107 52.059, 6.106 52.059, 6.108 52...\n",
      "1    POLYGON ((6.107 52.058, 6.107 52.057, 6.106 52...\n",
      "Name: geometry, dtype: object\n",
      "0    POLYGON ((204340.569 452538.473, 204325.68 452...\n",
      "1    POLYGON ((204359.771 452441.098, 204397.039 45...\n",
      "Name: geometry, dtype: object\n"
     ]
    }
   ],
   "source": [
    "import pygeos\n",
    "import geopandas as gpd\n",
    "import pandas as pd\n",
    "import pyproj\n",
    "\n",
    "def reproject(df_ds,current_crs=\"epsg:4326\",approximate_crs = \"epsg:28992\"):\n",
    "    \"\"\"Reproject a geodataframe of a shapefiles from \"epsg:4326\" to \"epsg:28992\"\n",
    "\n",
    "    Args:\n",
    "        df_ds (DataFrame): a geodataframe of a shapefile layer\n",
    "        current_crs (str): epsg (coordinate reference system) code of the shapefile\n",
    "        approximate_crs (str): new epsg (coordinate reference system) code \n",
    "\n",
    "    Returns:\n",
    "        _type_: _description_\n",
    "    \"\"\"  \n",
    "\n",
    "    geometries = df_ds['geometry']\n",
    "    coords = pygeos.get_coordinates(geometries)\n",
    "    transformer=pyproj.Transformer.from_crs(current_crs, approximate_crs,always_xy=True)\n",
    "    new_coords = transformer.transform(coords[:, 0], coords[:, 1])\n",
    "    \n",
    "    return pygeos.set_coordinates(geometries.copy(), np.array(new_coords).T)\n"
   ]
  },
  {
   "cell_type": "code",
   "execution_count": null,
   "metadata": {},
   "outputs": [],
   "source": [
    "###Reproject crs shapefile to crs tifs files###\n",
    "\n",
    "#Path to the shapefile \n",
    "shp_path = os.path.join('..',\"gis/tiling/annotation_example.shp\")\n",
    "df = pd.DataFrame(gpd.read_file(shp_path).copy())\n",
    "print(df.geometry)\n",
    "\n",
    "#Make df geometry column as a pygeos array\n",
    "df.geometry = pygeos.from_shapely(df.geometry)\n",
    "print(df.geometry)\n",
    "\n",
    "#reproject geometry column\n",
    "df.geometry = reproject(df)\n",
    "print (df.geometry)"
   ]
  },
  {
   "cell_type": "code",
   "execution_count": 4,
   "metadata": {},
   "outputs": [
    {
     "name": "stderr",
     "output_type": "stream",
     "text": [
      "/Users/joeldeplaen/opt/anaconda3/envs/py38_cisi/lib/python3.8/site-packages/geopandas/io/file.py:362: FutureWarning: pandas.Int64Index is deprecated and will be removed from pandas in a future version. Use pandas.Index with the appropriate dtype instead.\n",
      "  pd.Int64Index,\n",
      "/Users/joeldeplaen/opt/anaconda3/envs/py38_cisi/lib/python3.8/site-packages/geopandas/io/file.py:362: FutureWarning: pandas.Int64Index is deprecated and will be removed from pandas in a future version. Use pandas.Index with the appropriate dtype instead.\n",
      "  pd.Int64Index,\n",
      "/Users/joeldeplaen/opt/anaconda3/envs/py38_cisi/lib/python3.8/site-packages/geopandas/io/file.py:362: FutureWarning: pandas.Int64Index is deprecated and will be removed from pandas in a future version. Use pandas.Index with the appropriate dtype instead.\n",
      "  pd.Int64Index,\n",
      "/Users/joeldeplaen/opt/anaconda3/envs/py38_cisi/lib/python3.8/site-packages/geopandas/io/file.py:362: FutureWarning: pandas.Int64Index is deprecated and will be removed from pandas in a future version. Use pandas.Index with the appropriate dtype instead.\n",
      "  pd.Int64Index,\n",
      "/Users/joeldeplaen/opt/anaconda3/envs/py38_cisi/lib/python3.8/site-packages/geopandas/io/file.py:362: FutureWarning: pandas.Int64Index is deprecated and will be removed from pandas in a future version. Use pandas.Index with the appropriate dtype instead.\n",
      "  pd.Int64Index,\n"
     ]
    }
   ],
   "source": [
    "import geopandas as gpd\n",
    "import pandas as pd\n",
    "import json\n",
    "\n",
    "###spliting annotations data into the raster tiles\n",
    "###Adjustiong geojson to format of train-net.py: Pygeos to GPD to geojson\n",
    "\n",
    "out_path = \"../gis/tiling/geojsons_annotations\"\n",
    "\n",
    "spatial_index = pygeos.STRtree(df.geometry)\n",
    "id_obj = 0\n",
    "for tile in os.listdir(tiles_path):\n",
    "    input_file = os.path.join(tiles_path,tile)\n",
    "    with rasterio.open(input_file) as src:\n",
    "        out_image = src.read()#, out_transform = rasterio.mask.mask(src, shapes, crop=True)\n",
    "        out_meta = src.meta\n",
    "    geom = pygeos.box(*src.bounds)\n",
    "    check_overlaps = spatial_index.query(geom,predicate='intersects')\n",
    "    if len(check_overlaps) > 0:\n",
    "        id_obj += 1\n",
    "        get_matches = df.iloc[check_overlaps]\n",
    "        get_exact_overlap = pygeos.intersection(get_matches.geometry.values,geom)\n",
    "        geometries_objects = pygeos.to_wkb(get_exact_overlap)\n",
    "        df_obj = pd.DataFrame()\n",
    "        df_obj['properties'] = [{\"id\":\"{}\".format(id_obj),\"building\":\"yes\"}]\n",
    "        df_obj['geometry'] = gpd.GeoSeries.from_wkb(geometries_objects)\n",
    "        gdf_obj = gpd.GeoDataFrame(df_obj, geometry='geometry', crs=\"epsg:28992\")\n",
    "        gdf_obj.set_geometry(col='geometry', inplace=True)\n",
    "        img_id = tile.split(\".tif\")[0]\n",
    "        gdf_obj.to_file(os.path.join(out_path,\"{}.geojson\".format(img_id)), driver=\"GeoJSON\")\n",
    "\n",
    "#make a function out of the cell\n"
   ]
  },
  {
   "cell_type": "code",
   "execution_count": 25,
   "metadata": {},
   "outputs": [
    {
     "name": "stderr",
     "output_type": "stream",
     "text": [
      "/Users/joeldeplaen/opt/anaconda3/envs/py38_cisi/lib/python3.8/site-packages/geopandas/io/file.py:362: FutureWarning: pandas.Int64Index is deprecated and will be removed from pandas in a future version. Use pandas.Index with the appropriate dtype instead.\n",
      "  pd.Int64Index,\n",
      "/Users/joeldeplaen/opt/anaconda3/envs/py38_cisi/lib/python3.8/site-packages/geopandas/io/file.py:362: FutureWarning: pandas.Int64Index is deprecated and will be removed from pandas in a future version. Use pandas.Index with the appropriate dtype instead.\n",
      "  pd.Int64Index,\n",
      "/Users/joeldeplaen/opt/anaconda3/envs/py38_cisi/lib/python3.8/site-packages/geopandas/io/file.py:362: FutureWarning: pandas.Int64Index is deprecated and will be removed from pandas in a future version. Use pandas.Index with the appropriate dtype instead.\n",
      "  pd.Int64Index,\n",
      "/Users/joeldeplaen/opt/anaconda3/envs/py38_cisi/lib/python3.8/site-packages/geopandas/io/file.py:362: FutureWarning: pandas.Int64Index is deprecated and will be removed from pandas in a future version. Use pandas.Index with the appropriate dtype instead.\n",
      "  pd.Int64Index,\n",
      "/Users/joeldeplaen/opt/anaconda3/envs/py38_cisi/lib/python3.8/site-packages/geopandas/io/file.py:362: FutureWarning: pandas.Int64Index is deprecated and will be removed from pandas in a future version. Use pandas.Index with the appropriate dtype instead.\n",
      "  pd.Int64Index,\n"
     ]
    }
   ],
   "source": [
    "\n",
    "#adjust if more than one object:\n",
    "\n",
    "import geopandas as gpd\n",
    "import pandas as pd\n",
    "import json\n",
    "\n",
    "###spliting annotations data into the raster tiles\n",
    "###Adjustiong geojson to format of train-net.py: Pygeos to GPD to geojson\n",
    "\n",
    "path = \"../gis/tiling/geojsons_annotations\"\n",
    "\n",
    "spatial_index = pygeos.STRtree(df.geometry)\n",
    "id_obj = 0\n",
    "for tile in os.listdir(tiles_path):\n",
    "    input_file = os.path.join(tiles_path,tile)\n",
    "    with rasterio.open(input_file) as src:\n",
    "        out_image = src.read()#, out_transform = rasterio.mask.mask(src, shapes, crop=True)\n",
    "        out_meta = src.meta\n",
    "    geom = pygeos.box(*src.bounds)\n",
    "    check_overlaps = spatial_index.query(geom,predicate='intersects')\n",
    "    if len(check_overlaps) > 0:\n",
    "        id_obj += 1\n",
    "        get_matches = df.iloc[check_overlaps]\n",
    "        get_exact_overlap = pygeos.intersection(get_matches['geometry'].values,geom)\n",
    "        #old: get_exact_overlap = pygeos.intersection(row['geometry'].values,geom)\n",
    "    #for object_coord in get_exact_overlap:\n",
    "        # Pygeos coordinates to geoson coordinates to geopandas lead to backslash into the geosonfile so used to_wkb\n",
    "        geometries_objects = pygeos.to_wkb(get_exact_overlap)\n",
    "        df_obj = pd.DataFrame()\n",
    "        df_obj['properties'] = [{\"id\":\"{}\".format(id_obj),\"building\":\"yes\"}]\n",
    "        df_obj['geometry'] = gpd.GeoSeries.from_wkb(geometries_objects)\n",
    "        gdf_obj = gpd.GeoDataFrame(df_obj, geometry='geometry', crs=\"epsg:28992\")\n",
    "        gdf_obj.set_geometry(col='geometry', inplace=True)\n",
    "        img_id = tile.split(\".tif\")[0]\n",
    "        gdf_obj.to_file(os.path.join(path,\"{}.geojson\".format(img_id)), driver=\"GeoJSON\")\n",
    "\n",
    "#append instead of writing different jsonfiles\n",
    "#make a function out of the cell"
   ]
  },
  {
   "cell_type": "code",
   "execution_count": 26,
   "metadata": {},
   "outputs": [
    {
     "name": "stdout",
     "output_type": "stream",
     "text": [
      "                       properties  \\\n",
      "0  {'id': '5', 'building': 'yes'}   \n",
      "\n",
      "                                            geometry  \n",
      "0  POLYGON ((204438.009 452638.555, 204502.053 45...  \n"
     ]
    }
   ],
   "source": [
    "print (gdf_obj)"
   ]
  },
  {
   "cell_type": "code",
   "execution_count": null,
   "metadata": {},
   "outputs": [],
   "source": []
  }
 ],
 "metadata": {
  "kernelspec": {
   "display_name": "Python 3 (ipykernel)",
   "language": "python",
   "name": "python3"
  },
  "language_info": {
   "codemirror_mode": {
    "name": "ipython",
    "version": 3
   },
   "file_extension": ".py",
   "mimetype": "text/x-python",
   "name": "python",
   "nbconvert_exporter": "python",
   "pygments_lexer": "ipython3",
   "version": "3.8.13"
  },
  "vscode": {
   "interpreter": {
    "hash": "5bc4db46b6a73bd30a11a2fa3e93f40c6d7b47ce177475cde816571bd5c02b40"
   }
  }
 },
 "nbformat": 4,
 "nbformat_minor": 2
}
