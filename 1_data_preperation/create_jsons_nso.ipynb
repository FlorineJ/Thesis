{
 "cells": [
  {
   "cell_type": "code",
   "execution_count": 10,
   "id": "38c314c4",
   "metadata": {},
   "outputs": [],
   "source": [
    "import os\n",
    "import json\n",
    "import geojson\n",
    "import pandas as pd\n",
    "from tqdm import tqdm\n",
    "from osgeo import gdal\n",
    "from sklearn.model_selection import train_test_split\n",
    "\n",
    "# custom functions\n",
    "import sys\n",
    "sys.path.append('../')\n",
    "from utils.functions import grab_certain_file\n",
    "# TODO delete functions.py in data_preperation folder. Use main utils instead."
   ]
  },
  {
   "cell_type": "markdown",
   "id": "c9d9e91b",
   "metadata": {},
   "source": [
    "'''\n",
    "Read NSO tiles and annotations geojsons, convert lat/lon of tile to pixel coordinates and save pixel coordinates into\n",
    ".json file If more than on .json file can be saved as one via_regions.json.\n",
    "Source:  https://github.com/rl02898/detectron2-spacenet. JDP Edits:some and saving json with origins of tile in jsons to allow stiching back\n",
    "of the tiles.\n",
    "'''"
   ]
  },
  {
   "cell_type": "code",
   "execution_count": 11,
   "id": "7343cc91",
   "metadata": {},
   "outputs": [],
   "source": [
    "# Divide dataset and set a random seed for reproducibility of the splits for next script\n",
    "# TODO: path nso_train and nso_geojson to tiling.py output => Better move output of tiling to those 2 folder in NSO/ \n",
    "\n",
    "RANDOM_SEED = 560\n",
    "\n",
    "\n",
    "# Change name to dataset...\n",
    "nso_train = \"../NSO/train\"\n",
    "nso_test = \"../NSO/test\"\n",
    "nso_val = \"../NSO/val\"\n",
    "nso_geojson = \"../NSO/geojsons\""
   ]
  },
  {
   "cell_type": "code",
   "execution_count": 15,
   "id": "1f49ce02",
   "metadata": {},
   "outputs": [],
   "source": [
    "RANDOM_SEED = 560\n",
    "\n",
    "nso_small_tiles = \"../NSO/NSO_small_tiles\"\n",
    "nso_geojson = \"../NSO/geojsons\"\n",
    "\n",
    "# Create JSONs for Detectron2 NO test set\n",
    "#nso_images = grab_certain_file(\".tif\", nso_small_tiles)\n",
    "#train, val = train_test_split(nso_images, test_size=0.2, random_state=RANDOM_SEED)\n",
    "\n",
    "# Create JSONs for Detectron2 WITH test set\n",
    "nso_images = grab_certain_file(\".tif\", nso_small_tiles)\n",
    "train, test = train_test_split(nso_images, test_size=0.20, random_state=RANDOM_SEED)\n",
    "train, val = train_test_split(train, test_size=0.25, random_state=RANDOM_SEED)"
   ]
  },
  {
   "cell_type": "code",
   "execution_count": 18,
   "id": "f447e756",
   "metadata": {},
   "outputs": [
    {
     "name": "stderr",
     "output_type": "stream",
     "text": [
      "Creating JSONs for Detectron2 on train:   1%|          | 151/22719 [00:00<00:20, 1086.69it/s]"
     ]
    },
    {
     "name": "stdout",
     "output_type": "stream",
     "text": [
      "2\n",
      "{'0': {'shape_attributes': {'name': 'polygon', 'all_points_x': [380, 380, 331, 317, 332, 117, 106, 93, 103, 0, 0, 380], 'all_points_y': [412, 414, 568, 566, 516, 442, 483, 471, 437, 398, 269, 412], 'category': 0}, 'region_attributes': {}}}\n",
      "{'0': {'shape_attributes': {'name': 'polygon', 'all_points_x': [380, 380, 331, 317, 332, 117, 106, 93, 103, 0, 0, 380], 'all_points_y': [412, 414, 568, 566, 516, 442, 483, 471, 437, 398, 269, 412], 'category': 0}, 'region_attributes': {}}, '1': {'shape_attributes': {'name': 'polygon', 'all_points_x': [380, 380, 331, 317, 332, 117, 106, 93, 103, 0, 0, 380], 'all_points_y': [412, 414, 568, 566, 516, 442, 483, 471, 437, 398, 269, 412], 'category': 0}, 'region_attributes': {}}}\n",
      "{'file_ref': '', 'size': 3318900, 'filename': '11_20221009_111423_SV1-03_SV_RD_8bit_RGB_50cm_Rhoon_11000_13000.png', 'base64_img_data': '', 'file_attributes': {}, 'regions': {'0': {'shape_attributes': {'name': 'polygon', 'all_points_x': [380, 380, 331, 317, 332, 117, 106, 93, 103, 0, 0, 380], 'all_points_y': [412, 414, 568, 566, 516, 442, 483, 471, 437, 398, 269, 412], 'category': 0}, 'region_attributes': {}}, '1': {'shape_attributes': {'name': 'polygon', 'all_points_x': [380, 380, 331, 317, 332, 117, 106, 93, 103, 0, 0, 380], 'all_points_y': [412, 414, 568, 566, 516, 442, 483, 471, 437, 398, 269, 412], 'category': 0}, 'region_attributes': {}}}, 'origin_x': 88518.0, 'origin_y': 433624.0}\n",
      "2\n",
      "{'0': {'shape_attributes': {'name': 'polygon', 'all_points_x': [602, 766, 799, 788, 791, 802, 812, 754, 740, 730, 743, 722, 708, 699, 715, 693, 681, 668, 684, 662, 652, 642, 655, 635, 623, 610, 626, 600, 588, 552, 577, 545, 532, 523, 489, 601, 598, 492, 485, 591, 582, 482, 474, 574, 602], 'all_points_y': [438, 374, 458, 467, 486, 478, 502, 524, 482, 487, 526, 531, 495, 498, 539, 547, 506, 511, 549, 557, 519, 524, 564, 570, 528, 533, 574, 586, 541, 552, 594, 612, 572, 576, 490, 447, 439, 478, 468, 429, 407, 444, 424, 387, 438], 'category': 0}, 'region_attributes': {}}}\n",
      "{'0': {'shape_attributes': {'name': 'polygon', 'all_points_x': [602, 766, 799, 788, 791, 802, 812, 754, 740, 730, 743, 722, 708, 699, 715, 693, 681, 668, 684, 662, 652, 642, 655, 635, 623, 610, 626, 600, 588, 552, 577, 545, 532, 523, 489, 601, 598, 492, 485, 591, 582, 482, 474, 574, 602], 'all_points_y': [438, 374, 458, 467, 486, 478, 502, 524, 482, 487, 526, 531, 495, 498, 539, 547, 506, 511, 549, 557, 519, 524, 564, 570, 528, 533, 574, 586, 541, 552, 594, 612, 572, 576, 490, 447, 439, 478, 468, 429, 407, 444, 424, 387, 438], 'category': 0}, 'region_attributes': {}}, '1': {'shape_attributes': {'name': 'polygon', 'all_points_x': [602, 766, 799, 788, 791, 802, 812, 754, 740, 730, 743, 722, 708, 699, 715, 693, 681, 668, 684, 662, 652, 642, 655, 635, 623, 610, 626, 600, 588, 552, 577, 545, 532, 523, 489, 601, 598, 492, 485, 591, 582, 482, 474, 574, 602], 'all_points_y': [438, 374, 458, 467, 486, 478, 502, 524, 482, 487, 526, 531, 495, 498, 539, 547, 506, 511, 549, 557, 519, 524, 564, 570, 528, 533, 574, 586, 541, 552, 594, 612, 572, 576, 490, 447, 439, 478, 468, 429, 407, 444, 424, 387, 438], 'category': 0}, 'region_attributes': {}}}\n",
      "{'file_ref': '', 'size': 66462, 'filename': '7_20220811_110743_SV1-04_SV_RD_8bit_RGB_50cm_EttenLeur_10000_3000.png', 'base64_img_data': '', 'file_attributes': {}, 'regions': {'0': {'shape_attributes': {'name': 'polygon', 'all_points_x': [602, 766, 799, 788, 791, 802, 812, 754, 740, 730, 743, 722, 708, 699, 715, 693, 681, 668, 684, 662, 652, 642, 655, 635, 623, 610, 626, 600, 588, 552, 577, 545, 532, 523, 489, 601, 598, 492, 485, 591, 582, 482, 474, 574, 602], 'all_points_y': [438, 374, 458, 467, 486, 478, 502, 524, 482, 487, 526, 531, 495, 498, 539, 547, 506, 511, 549, 557, 519, 524, 564, 570, 528, 533, 574, 586, 541, 552, 594, 612, 572, 576, 490, 447, 439, 478, 468, 429, 407, 444, 424, 387, 438], 'category': 0}, 'region_attributes': {}}, '1': {'shape_attributes': {'name': 'polygon', 'all_points_x': [602, 766, 799, 788, 791, 802, 812, 754, 740, 730, 743, 722, 708, 699, 715, 693, 681, 668, 684, 662, 652, 642, 655, 635, 623, 610, 626, 600, 588, 552, 577, 545, 532, 523, 489, 601, 598, 492, 485, 591, 582, 482, 474, 574, 602], 'all_points_y': [438, 374, 458, 467, 486, 478, 502, 524, 482, 487, 526, 531, 495, 498, 539, 547, 506, 511, 549, 557, 519, 524, 564, 570, 528, 533, 574, 586, 541, 552, 594, 612, 572, 576, 490, 447, 439, 478, 468, 429, 407, 444, 424, 387, 438], 'category': 0}, 'region_attributes': {}}}, 'origin_x': 98974.0, 'origin_y': 408908.0}\n"
     ]
    },
    {
     "name": "stderr",
     "output_type": "stream",
     "text": [
      "Creating JSONs for Detectron2 on train:   6%|▌         | 1407/22719 [00:00<00:04, 4815.97it/s]"
     ]
    },
    {
     "name": "stdout",
     "output_type": "stream",
     "text": [
      "2\n",
      "{'0': {'shape_attributes': {'name': 'polygon', 'all_points_x': [999, 1000, 1000, 999], 'all_points_y': [344, 335, 344, 344], 'category': 0}, 'region_attributes': {}}}\n",
      "{'0': {'shape_attributes': {'name': 'polygon', 'all_points_x': [999, 1000, 1000, 999], 'all_points_y': [344, 335, 344, 344], 'category': 0}, 'region_attributes': {}}, '1': {'shape_attributes': {'name': 'polygon', 'all_points_x': [999, 1000, 1000, 999], 'all_points_y': [344, 335, 344, 344], 'category': 0}, 'region_attributes': {}}}\n",
      "{'file_ref': '', 'size': 3165795, 'filename': '6_20220717_104955_SV2-01_SV_RD_8bit_RGB_50cm_Venlo_13000_6000.png', 'base64_img_data': '', 'file_attributes': {}, 'regions': {'0': {'shape_attributes': {'name': 'polygon', 'all_points_x': [999, 1000, 1000, 999], 'all_points_y': [344, 335, 344, 344], 'category': 0}, 'region_attributes': {}}, '1': {'shape_attributes': {'name': 'polygon', 'all_points_x': [999, 1000, 1000, 999], 'all_points_y': [344, 335, 344, 344], 'category': 0}, 'region_attributes': {}}}, 'origin_x': 204974.0, 'origin_y': 378258.0}\n",
      "2\n",
      "{'0': {'shape_attributes': {'name': 'polygon', 'all_points_x': [836, 840, 831, 836], 'all_points_y': [996, 1000, 1000, 996], 'category': 0}, 'region_attributes': {}}}\n",
      "{'0': {'shape_attributes': {'name': 'polygon', 'all_points_x': [836, 840, 831, 836], 'all_points_y': [996, 1000, 1000, 996], 'category': 0}, 'region_attributes': {}}, '1': {'shape_attributes': {'name': 'polygon', 'all_points_x': [836, 840, 831, 836], 'all_points_y': [996, 1000, 1000, 996], 'category': 0}, 'region_attributes': {}}}\n",
      "{'file_ref': '', 'size': 3408643, 'filename': '25_20220906_104605_SV1-03_SV_RD_8bit_RGB_50cm_Heerlen_16000_17000.png', 'base64_img_data': '', 'file_attributes': {}, 'regions': {'0': {'shape_attributes': {'name': 'polygon', 'all_points_x': [836, 840, 831, 836], 'all_points_y': [996, 1000, 1000, 996], 'category': 0}, 'region_attributes': {}}, '1': {'shape_attributes': {'name': 'polygon', 'all_points_x': [836, 840, 831, 836], 'all_points_y': [996, 1000, 1000, 996], 'category': 0}, 'region_attributes': {}}}, 'origin_x': 198936.0, 'origin_y': 320592.0}\n",
      "2\n",
      "{'0': {'shape_attributes': {'name': 'polygon', 'all_points_x': [622, 625, 793, 786, 752, 749, 785, 785, 882, 883, 832, 837, 861, 861, 883, 885, 918, 923, 916, 918, 901, 897, 869, 872, 850, 847, 780, 782, 793, 724, 721, 755, 750, 725, 726, 704, 700, 661, 661, 633, 630, 577, 575, 583, 577, 622], 'all_points_y': [693, 725, 702, 662, 665, 632, 627, 635, 624, 641, 652, 683, 684, 665, 661, 681, 676, 724, 728, 763, 767, 742, 741, 768, 772, 748, 757, 782, 872, 880, 823, 819, 761, 763, 785, 794, 768, 772, 798, 808, 782, 789, 764, 762, 699, 693], 'category': 0}, 'region_attributes': {}}}\n",
      "{'0': {'shape_attributes': {'name': 'polygon', 'all_points_x': [622, 625, 793, 786, 752, 749, 785, 785, 882, 883, 832, 837, 861, 861, 883, 885, 918, 923, 916, 918, 901, 897, 869, 872, 850, 847, 780, 782, 793, 724, 721, 755, 750, 725, 726, 704, 700, 661, 661, 633, 630, 577, 575, 583, 577, 622], 'all_points_y': [693, 725, 702, 662, 665, 632, 627, 635, 624, 641, 652, 683, 684, 665, 661, 681, 676, 724, 728, 763, 767, 742, 741, 768, 772, 748, 757, 782, 872, 880, 823, 819, 761, 763, 785, 794, 768, 772, 798, 808, 782, 789, 764, 762, 699, 693], 'category': 0}, 'region_attributes': {}}, '1': {'shape_attributes': {'name': 'polygon', 'all_points_x': [622, 625, 793, 786, 752, 749, 785, 785, 882, 883, 832, 837, 861, 861, 883, 885, 918, 923, 916, 918, 901, 897, 869, 872, 850, 847, 780, 782, 793, 724, 721, 755, 750, 725, 726, 704, 700, 661, 661, 633, 630, 577, 575, 583, 577, 622], 'all_points_y': [693, 725, 702, 662, 665, 632, 627, 635, 624, 641, 652, 683, 684, 665, 661, 681, 676, 724, 728, 763, 767, 742, 741, 768, 772, 748, 757, 782, 872, 880, 823, 819, 761, 763, 785, 794, 768, 772, 798, 808, 782, 789, 764, 762, 699, 693], 'category': 0}, 'region_attributes': {}}}\n",
      "{'file_ref': '', 'size': 3197318, 'filename': '20_20220729_103928_SV2-01_SV_RD_8bit_RGB_50cm_Nuenen_24000_36000.png', 'base64_img_data': '', 'file_attributes': {}, 'regions': {'0': {'shape_attributes': {'name': 'polygon', 'all_points_x': [622, 625, 793, 786, 752, 749, 785, 785, 882, 883, 832, 837, 861, 861, 883, 885, 918, 923, 916, 918, 901, 897, 869, 872, 850, 847, 780, 782, 793, 724, 721, 755, 750, 725, 726, 704, 700, 661, 661, 633, 630, 577, 575, 583, 577, 622], 'all_points_y': [693, 725, 702, 662, 665, 632, 627, 635, 624, 641, 652, 683, 684, 665, 661, 681, 676, 724, 728, 763, 767, 742, 741, 768, 772, 748, 757, 782, 872, 880, 823, 819, 761, 763, 785, 794, 768, 772, 798, 808, 782, 789, 764, 762, 699, 693], 'category': 0}, 'region_attributes': {}}, '1': {'shape_attributes': {'name': 'polygon', 'all_points_x': [622, 625, 793, 786, 752, 749, 785, 785, 882, 883, 832, 837, 861, 861, 883, 885, 918, 923, 916, 918, 901, 897, 869, 872, 850, 847, 780, 782, 793, 724, 721, 755, 750, 725, 726, 704, 700, 661, 661, 633, 630, 577, 575, 583, 577, 622], 'all_points_y': [693, 725, 702, 662, 665, 632, 627, 635, 624, 641, 652, 683, 684, 665, 661, 681, 676, 724, 728, 763, 767, 742, 741, 768, 772, 748, 757, 782, 872, 880, 823, 819, 761, 763, 785, 794, 768, 772, 798, 808, 782, 789, 764, 762, 699, 693], 'category': 0}, 'region_attributes': {}}}, 'origin_x': 175536.0, 'origin_y': 386554.0}\n",
      "2\n",
      "{'0': {'shape_attributes': {'name': 'polygon', 'all_points_x': [873, 915, 913, 929, 929, 913, 913, 1000, 1000, 1000, 1000, 1000, 1000, 922, 919, 909, 911, 893, 893, 862, 861, 849, 849, 873, 873], 'all_points_y': [47, 48, 23, 24, 11, 11, 0, 0, 10, 10, 20, 19, 116, 119, 53, 52, 116, 116, 57, 57, 46, 47, 0, 0, 47], 'category': 0}, 'region_attributes': {}}}\n",
      "{'0': {'shape_attributes': {'name': 'polygon', 'all_points_x': [873, 915, 913, 929, 929, 913, 913, 1000, 1000, 1000, 1000, 1000, 1000, 922, 919, 909, 911, 893, 893, 862, 861, 849, 849, 873, 873], 'all_points_y': [47, 48, 23, 24, 11, 11, 0, 0, 10, 10, 20, 19, 116, 119, 53, 52, 116, 116, 57, 57, 46, 47, 0, 0, 47], 'category': 0}, 'region_attributes': {}}, '1': {'shape_attributes': {'name': 'polygon', 'all_points_x': [873, 915, 913, 929, 929, 913, 913, 1000, 1000, 1000, 1000, 1000, 1000, 922, 919, 909, 911, 893, 893, 862, 861, 849, 849, 873, 873], 'all_points_y': [47, 48, 23, 24, 11, 11, 0, 0, 10, 10, 20, 19, 116, 119, 53, 52, 116, 116, 57, 57, 46, 47, 0, 0, 47], 'category': 0}, 'region_attributes': {}}}\n",
      "{'file_ref': '', 'size': 66462, 'filename': '20_20220729_103928_SV2-01_SV_RD_8bit_RGB_50cm_Nuenen_37000_5000.png', 'base64_img_data': '', 'file_attributes': {}, 'regions': {'0': {'shape_attributes': {'name': 'polygon', 'all_points_x': [873, 915, 913, 929, 929, 913, 913, 1000, 1000, 1000, 1000, 1000, 1000, 922, 919, 909, 911, 893, 893, 862, 861, 849, 849, 873, 873], 'all_points_y': [47, 48, 23, 24, 11, 11, 0, 0, 10, 10, 20, 19, 116, 119, 53, 52, 116, 116, 57, 57, 46, 47, 0, 0, 47], 'category': 0}, 'region_attributes': {}}, '1': {'shape_attributes': {'name': 'polygon', 'all_points_x': [873, 915, 913, 929, 929, 913, 913, 1000, 1000, 1000, 1000, 1000, 1000, 922, 919, 909, 911, 893, 893, 862, 861, 849, 849, 873, 873], 'all_points_y': [47, 48, 23, 24, 11, 11, 0, 0, 10, 10, 20, 19, 116, 119, 53, 52, 116, 116, 57, 57, 46, 47, 0, 0, 47], 'category': 0}, 'region_attributes': {}}}, 'origin_x': 160036.0, 'origin_y': 380054.0}\n",
      "2\n",
      "{'0': {'shape_attributes': {'name': 'polygon', 'all_points_x': [988, 1000, 1000, 988], 'all_points_y': [83, 74, 105, 83], 'category': 0}, 'region_attributes': {}}}\n",
      "{'0': {'shape_attributes': {'name': 'polygon', 'all_points_x': [988, 1000, 1000, 988], 'all_points_y': [83, 74, 105, 83], 'category': 0}, 'region_attributes': {}}, '1': {'shape_attributes': {'name': 'polygon', 'all_points_x': [988, 1000, 1000, 988], 'all_points_y': [83, 74, 105, 83], 'category': 0}, 'region_attributes': {}}}\n",
      "{'file_ref': '', 'size': 3325174, 'filename': '10_20220719_105318_SV1-04_SV_RD_8bit_RGB_50cm_Heel_27000_11000.png', 'base64_img_data': '', 'file_attributes': {}, 'regions': {'0': {'shape_attributes': {'name': 'polygon', 'all_points_x': [988, 1000, 1000, 988], 'all_points_y': [83, 74, 105, 83], 'category': 0}, 'region_attributes': {}}, '1': {'shape_attributes': {'name': 'polygon', 'all_points_x': [988, 1000, 1000, 988], 'all_points_y': [83, 74, 105, 83], 'category': 0}, 'region_attributes': {}}}, 'origin_x': 191456.0, 'origin_y': 351108.0}\n"
     ]
    },
    {
     "name": "stderr",
     "output_type": "stream",
     "text": [
      "Creating JSONs for Detectron2 on train:  12%|█▏        | 2766/22719 [00:00<00:03, 5726.14it/s]"
     ]
    },
    {
     "name": "stdout",
     "output_type": "stream",
     "text": [
      "2\n",
      "{'0': {'shape_attributes': {'name': 'polygon', 'all_points_x': [116, 67, 61, 115, 116], 'all_points_y': [4, 20, 0, 0, 4], 'category': 0}, 'region_attributes': {}}}\n",
      "{'0': {'shape_attributes': {'name': 'polygon', 'all_points_x': [116, 67, 61, 115, 116], 'all_points_y': [4, 20, 0, 0, 4], 'category': 0}, 'region_attributes': {}}, '1': {'shape_attributes': {'name': 'polygon', 'all_points_x': [116, 67, 61, 115, 116], 'all_points_y': [4, 20, 0, 0, 4], 'category': 0}, 'region_attributes': {}}}\n",
      "{'file_ref': '', 'size': 3227064, 'filename': '20_20220729_103928_SV2-01_SV_RD_8bit_RGB_50cm_Nuenen_29000_15000.png', 'base64_img_data': '', 'file_attributes': {}, 'regions': {'0': {'shape_attributes': {'name': 'polygon', 'all_points_x': [116, 67, 61, 115, 116], 'all_points_y': [4, 20, 0, 0, 4], 'category': 0}, 'region_attributes': {}}, '1': {'shape_attributes': {'name': 'polygon', 'all_points_x': [116, 67, 61, 115, 116], 'all_points_y': [4, 20, 0, 0, 4], 'category': 0}, 'region_attributes': {}}}, 'origin_x': 165036.0, 'origin_y': 384054.0}\n",
      "2\n",
      "{'0': {'shape_attributes': {'name': 'polygon', 'all_points_x': [1, 4, 25, 26, 6, 8, 32, 34, 13, 12, 0, 0, 1], 'all_points_y': [362, 369, 368, 385, 385, 395, 391, 408, 409, 414, 418, 362, 362], 'category': 0}, 'region_attributes': {}}}\n",
      "{'0': {'shape_attributes': {'name': 'polygon', 'all_points_x': [1, 4, 25, 26, 6, 8, 32, 34, 13, 12, 0, 0, 1], 'all_points_y': [362, 369, 368, 385, 385, 395, 391, 408, 409, 414, 418, 362, 362], 'category': 0}, 'region_attributes': {}}, '1': {'shape_attributes': {'name': 'polygon', 'all_points_x': [1, 4, 25, 26, 6, 8, 32, 34, 13, 12, 0, 0, 1], 'all_points_y': [362, 369, 368, 385, 385, 395, 391, 408, 409, 414, 418, 362, 362], 'category': 0}, 'region_attributes': {}}}\n",
      "{'file_ref': '', 'size': 66462, 'filename': '3_20220718_101820_SV1-01_SV_RD_8bit_RGB_50cm_Oploo_4000_28000.png', 'base64_img_data': '', 'file_attributes': {}, 'regions': {'0': {'shape_attributes': {'name': 'polygon', 'all_points_x': [1, 4, 25, 26, 6, 8, 32, 34, 13, 12, 0, 0, 1], 'all_points_y': [362, 369, 368, 385, 385, 395, 391, 408, 409, 414, 418, 362, 362], 'category': 0}, 'region_attributes': {}}, '1': {'shape_attributes': {'name': 'polygon', 'all_points_x': [1, 4, 25, 26, 6, 8, 32, 34, 13, 12, 0, 0, 1], 'all_points_y': [362, 369, 368, 385, 385, 395, 391, 408, 409, 414, 418, 362, 362], 'category': 0}, 'region_attributes': {}}}, 'origin_x': 195134.5, 'origin_y': 411973.5}\n",
      "2\n",
      "{'0': {'shape_attributes': {'name': 'polygon', 'all_points_x': [417, 425, 443, 461, 486, 498, 479, 483, 478, 481, 503, 509, 490, 496, 513, 522, 502, 507, 510, 473, 471, 459, 458, 442, 437, 448, 451, 465, 458, 432, 425, 438, 452, 444, 425, 416, 437, 424, 403, 383, 405, 403, 417, 417], 'all_points_y': [2, 0, 0, 72, 63, 102, 109, 123, 124, 139, 131, 159, 166, 186, 178, 205, 208, 217, 237, 246, 240, 246, 252, 253, 211, 211, 224, 221, 193, 203, 167, 174, 173, 145, 156, 123, 120, 73, 85, 10, 6, 0, 0, 2], 'category': 0}, 'region_attributes': {}}}\n",
      "{'0': {'shape_attributes': {'name': 'polygon', 'all_points_x': [417, 425, 443, 461, 486, 498, 479, 483, 478, 481, 503, 509, 490, 496, 513, 522, 502, 507, 510, 473, 471, 459, 458, 442, 437, 448, 451, 465, 458, 432, 425, 438, 452, 444, 425, 416, 437, 424, 403, 383, 405, 403, 417, 417], 'all_points_y': [2, 0, 0, 72, 63, 102, 109, 123, 124, 139, 131, 159, 166, 186, 178, 205, 208, 217, 237, 246, 240, 246, 252, 253, 211, 211, 224, 221, 193, 203, 167, 174, 173, 145, 156, 123, 120, 73, 85, 10, 6, 0, 0, 2], 'category': 0}, 'region_attributes': {}}, '1': {'shape_attributes': {'name': 'polygon', 'all_points_x': [417, 425, 443, 461, 486, 498, 479, 483, 478, 481, 503, 509, 490, 496, 513, 522, 502, 507, 510, 473, 471, 459, 458, 442, 437, 448, 451, 465, 458, 432, 425, 438, 452, 444, 425, 416, 437, 424, 403, 383, 405, 403, 417, 417], 'all_points_y': [2, 0, 0, 72, 63, 102, 109, 123, 124, 139, 131, 159, 166, 186, 178, 205, 208, 217, 237, 246, 240, 246, 252, 253, 211, 211, 224, 221, 193, 203, 167, 174, 173, 145, 156, 123, 120, 73, 85, 10, 6, 0, 0, 2], 'category': 0}, 'region_attributes': {}}}\n",
      "{'file_ref': '', 'size': 66462, 'filename': '32_20221012_104910_SV2-01_SV_RD_8bit_RGB_50cm_Fijnaart_2000_25000.png', 'base64_img_data': '', 'file_attributes': {}, 'regions': {'0': {'shape_attributes': {'name': 'polygon', 'all_points_x': [417, 425, 443, 461, 486, 498, 479, 483, 478, 481, 503, 509, 490, 496, 513, 522, 502, 507, 510, 473, 471, 459, 458, 442, 437, 448, 451, 465, 458, 432, 425, 438, 452, 444, 425, 416, 437, 424, 403, 383, 405, 403, 417, 417], 'all_points_y': [2, 0, 0, 72, 63, 102, 109, 123, 124, 139, 131, 159, 166, 186, 178, 205, 208, 217, 237, 246, 240, 246, 252, 253, 211, 211, 224, 221, 193, 203, 167, 174, 173, 145, 156, 123, 120, 73, 85, 10, 6, 0, 0, 2], 'category': 0}, 'region_attributes': {}}, '1': {'shape_attributes': {'name': 'polygon', 'all_points_x': [417, 425, 443, 461, 486, 498, 479, 483, 478, 481, 503, 509, 490, 496, 513, 522, 502, 507, 510, 473, 471, 459, 458, 442, 437, 448, 451, 465, 458, 432, 425, 438, 452, 444, 425, 416, 437, 424, 403, 383, 405, 403, 417, 417], 'all_points_y': [2, 0, 0, 72, 63, 102, 109, 123, 124, 139, 131, 159, 166, 186, 178, 205, 208, 217, 237, 246, 240, 246, 252, 253, 211, 211, 224, 221, 193, 203, 167, 174, 173, 145, 156, 123, 120, 73, 85, 10, 6, 0, 0, 2], 'category': 0}, 'region_attributes': {}}}, 'origin_x': 99094.0, 'origin_y': 411094.0}\n",
      "2\n",
      "{'0': {'shape_attributes': {'name': 'polygon', 'all_points_x': [471, 455, 444, 474, 460, 503, 510, 537, 534, 550, 553, 559, 583, 602, 614, 593, 590, 519, 546, 467, 456, 472, 471], 'all_points_y': [140, 147, 103, 92, 23, 9, 35, 28, 8, 0, 0, 26, 20, 15, 69, 77, 69, 88, 187, 206, 153, 149, 140], 'category': 0}, 'region_attributes': {}}}\n",
      "{'0': {'shape_attributes': {'name': 'polygon', 'all_points_x': [471, 455, 444, 474, 460, 503, 510, 537, 534, 550, 553, 559, 583, 602, 614, 593, 590, 519, 546, 467, 456, 472, 471], 'all_points_y': [140, 147, 103, 92, 23, 9, 35, 28, 8, 0, 0, 26, 20, 15, 69, 77, 69, 88, 187, 206, 153, 149, 140], 'category': 0}, 'region_attributes': {}}, '1': {'shape_attributes': {'name': 'polygon', 'all_points_x': [471, 455, 444, 474, 460, 503, 510, 537, 534, 550, 553, 559, 583, 602, 614, 593, 590, 519, 546, 467, 456, 472, 471], 'all_points_y': [140, 147, 103, 92, 23, 9, 35, 28, 8, 0, 0, 26, 20, 15, 69, 77, 69, 88, 187, 206, 153, 149, 140], 'category': 0}, 'region_attributes': {}}}\n",
      "{'file_ref': '', 'size': 66462, 'filename': '6_20220717_104955_SV2-01_SV_RD_8bit_RGB_50cm_Venlo_6000_5000.png', 'base64_img_data': '', 'file_attributes': {}, 'regions': {'0': {'shape_attributes': {'name': 'polygon', 'all_points_x': [471, 455, 444, 474, 460, 503, 510, 537, 534, 550, 553, 559, 583, 602, 614, 593, 590, 519, 546, 467, 456, 472, 471], 'all_points_y': [140, 147, 103, 92, 23, 9, 35, 28, 8, 0, 0, 26, 20, 15, 69, 77, 69, 88, 187, 206, 153, 149, 140], 'category': 0}, 'region_attributes': {}}, '1': {'shape_attributes': {'name': 'polygon', 'all_points_x': [471, 455, 444, 474, 460, 503, 510, 537, 534, 550, 553, 559, 583, 602, 614, 593, 590, 519, 546, 467, 456, 472, 471], 'all_points_y': [140, 147, 103, 92, 23, 9, 35, 28, 8, 0, 0, 26, 20, 15, 69, 77, 69, 88, 187, 206, 153, 149, 140], 'category': 0}, 'region_attributes': {}}}, 'origin_x': 204474.0, 'origin_y': 381758.0}\n"
     ]
    },
    {
     "name": "stderr",
     "output_type": "stream",
     "text": [
      "\r",
      "Creating JSONs for Detectron2 on train:  15%|█▍        | 3403/22719 [00:00<00:03, 5413.12it/s]"
     ]
    },
    {
     "name": "stdout",
     "output_type": "stream",
     "text": [
      "2\n",
      "{'0': {'shape_attributes': {'name': 'polygon', 'all_points_x': [1, 0, 0, 18, 36, 0, 0, 20, 57, 84, 50, 102, 141, 149, 190, 141, 159, 140, 113, 96, 122, 99, 75, 53, 74, 15, 0, 0, 1], 'all_points_y': [166, 165, 119, 148, 133, 87, 84, 69, 126, 108, 47, 8, 66, 60, 129, 173, 208, 221, 187, 198, 230, 252, 217, 237, 263, 310, 286, 166, 166], 'category': 0}, 'region_attributes': {}}}\n",
      "{'0': {'shape_attributes': {'name': 'polygon', 'all_points_x': [1, 0, 0, 18, 36, 0, 0, 20, 57, 84, 50, 102, 141, 149, 190, 141, 159, 140, 113, 96, 122, 99, 75, 53, 74, 15, 0, 0, 1], 'all_points_y': [166, 165, 119, 148, 133, 87, 84, 69, 126, 108, 47, 8, 66, 60, 129, 173, 208, 221, 187, 198, 230, 252, 217, 237, 263, 310, 286, 166, 166], 'category': 0}, 'region_attributes': {}}, '1': {'shape_attributes': {'name': 'polygon', 'all_points_x': [1, 0, 0, 18, 36, 0, 0, 20, 57, 84, 50, 102, 141, 149, 190, 141, 159, 140, 113, 96, 122, 99, 75, 53, 74, 15, 0, 0, 1], 'all_points_y': [166, 165, 119, 148, 133, 87, 84, 69, 126, 108, 47, 8, 66, 60, 129, 173, 208, 221, 187, 198, 230, 252, 217, 237, 263, 310, 286, 166, 166], 'category': 0}, 'region_attributes': {}}}\n",
      "{'file_ref': '', 'size': 3176968, 'filename': '10_20220719_105318_SV1-04_SV_RD_8bit_RGB_50cm_Heel_27000_13000.png', 'base64_img_data': '', 'file_attributes': {}, 'regions': {'0': {'shape_attributes': {'name': 'polygon', 'all_points_x': [1, 0, 0, 18, 36, 0, 0, 20, 57, 84, 50, 102, 141, 149, 190, 141, 159, 140, 113, 96, 122, 99, 75, 53, 74, 15, 0, 0, 1], 'all_points_y': [166, 165, 119, 148, 133, 87, 84, 69, 126, 108, 47, 8, 66, 60, 129, 173, 208, 221, 187, 198, 230, 252, 217, 237, 263, 310, 286, 166, 166], 'category': 0}, 'region_attributes': {}}, '1': {'shape_attributes': {'name': 'polygon', 'all_points_x': [1, 0, 0, 18, 36, 0, 0, 20, 57, 84, 50, 102, 141, 149, 190, 141, 159, 140, 113, 96, 122, 99, 75, 53, 74, 15, 0, 0, 1], 'all_points_y': [166, 165, 119, 148, 133, 87, 84, 69, 126, 108, 47, 8, 66, 60, 129, 173, 208, 221, 187, 198, 230, 252, 217, 237, 263, 310, 286, 166, 166], 'category': 0}, 'region_attributes': {}}}, 'origin_x': 192456.0, 'origin_y': 351108.0}\n",
      "2\n",
      "{'0': {'shape_attributes': {'name': 'polygon', 'all_points_x': [48, 0, 0, 44, 48], 'all_points_y': [16, 31, 0, 0, 16], 'category': 0}, 'region_attributes': {}}}\n",
      "{'0': {'shape_attributes': {'name': 'polygon', 'all_points_x': [48, 0, 0, 44, 48], 'all_points_y': [16, 31, 0, 0, 16], 'category': 0}, 'region_attributes': {}}, '1': {'shape_attributes': {'name': 'polygon', 'all_points_x': [48, 0, 0, 44, 48], 'all_points_y': [16, 31, 0, 0, 16], 'category': 0}, 'region_attributes': {}}}\n",
      "{'file_ref': '', 'size': 390353, 'filename': '23_20220717_103405_SV1-01_SV_RD_8bit_RGB_50cm_Made_4000_24000.png', 'base64_img_data': '', 'file_attributes': {}, 'regions': {'0': {'shape_attributes': {'name': 'polygon', 'all_points_x': [48, 0, 0, 44, 48], 'all_points_y': [16, 31, 0, 0, 16], 'category': 0}, 'region_attributes': {}}, '1': {'shape_attributes': {'name': 'polygon', 'all_points_x': [48, 0, 0, 44, 48], 'all_points_y': [16, 31, 0, 0, 16], 'category': 0}, 'region_attributes': {}}}, 'origin_x': 116700.5, 'origin_y': 412660.5}\n",
      "2\n",
      "{'0': {'shape_attributes': {'name': 'polygon', 'all_points_x': [56, 29, 29, 60, 56], 'all_points_y': [11, 1, 0, 0, 11], 'category': 0}, 'region_attributes': {}}}\n",
      "{'0': {'shape_attributes': {'name': 'polygon', 'all_points_x': [56, 29, 29, 60, 56], 'all_points_y': [11, 1, 0, 0, 11], 'category': 0}, 'region_attributes': {}}, '1': {'shape_attributes': {'name': 'polygon', 'all_points_x': [56, 29, 29, 60, 56], 'all_points_y': [11, 1, 0, 0, 11], 'category': 0}, 'region_attributes': {}}}\n",
      "{'file_ref': '', 'size': 66462, 'filename': '8_20221009_105642_SV1-04_SV_RD_8bit_RGB_50cm_Lunteren_28000_1000.png', 'base64_img_data': '', 'file_attributes': {}, 'regions': {'0': {'shape_attributes': {'name': 'polygon', 'all_points_x': [56, 29, 29, 60, 56], 'all_points_y': [11, 1, 0, 0, 11], 'category': 0}, 'region_attributes': {}}, '1': {'shape_attributes': {'name': 'polygon', 'all_points_x': [56, 29, 29, 60, 56], 'all_points_y': [11, 1, 0, 0, 11], 'category': 0}, 'region_attributes': {}}}, 'origin_x': 165920.0, 'origin_y': 448346.0}\n",
      "2\n",
      "{'0': {'shape_attributes': {'name': 'polygon', 'all_points_x': [783, 785, 800, 806, 861, 860, 867, 878, 863, 870, 860, 867, 885, 892, 852, 843, 863, 857, 797, 777, 778, 798, 798, 703, 702, 760, 758, 743, 744, 727, 726, 711, 712, 694, 692, 672, 667, 636, 629, 649, 648, 663, 662, 783], 'all_points_y': [780, 797, 795, 826, 810, 805, 804, 848, 851, 879, 879, 898, 898, 942, 954, 909, 903, 884, 898, 904, 928, 927, 937, 955, 947, 931, 917, 918, 930, 934, 924, 926, 937, 941, 930, 935, 913, 920, 865, 861, 838, 836, 810, 780], 'category': 0}, 'region_attributes': {}}}\n",
      "{'0': {'shape_attributes': {'name': 'polygon', 'all_points_x': [783, 785, 800, 806, 861, 860, 867, 878, 863, 870, 860, 867, 885, 892, 852, 843, 863, 857, 797, 777, 778, 798, 798, 703, 702, 760, 758, 743, 744, 727, 726, 711, 712, 694, 692, 672, 667, 636, 629, 649, 648, 663, 662, 783], 'all_points_y': [780, 797, 795, 826, 810, 805, 804, 848, 851, 879, 879, 898, 898, 942, 954, 909, 903, 884, 898, 904, 928, 927, 937, 955, 947, 931, 917, 918, 930, 934, 924, 926, 937, 941, 930, 935, 913, 920, 865, 861, 838, 836, 810, 780], 'category': 0}, 'region_attributes': {}}, '1': {'shape_attributes': {'name': 'polygon', 'all_points_x': [783, 785, 800, 806, 861, 860, 867, 878, 863, 870, 860, 867, 885, 892, 852, 843, 863, 857, 797, 777, 778, 798, 798, 703, 702, 760, 758, 743, 744, 727, 726, 711, 712, 694, 692, 672, 667, 636, 629, 649, 648, 663, 662, 783], 'all_points_y': [780, 797, 795, 826, 810, 805, 804, 848, 851, 879, 879, 898, 898, 942, 954, 909, 903, 884, 898, 904, 928, 927, 937, 955, 947, 931, 917, 918, 930, 934, 924, 926, 937, 941, 930, 935, 913, 920, 865, 861, 838, 836, 810, 780], 'category': 0}, 'region_attributes': {}}}\n",
      "{'file_ref': '', 'size': 3344031, 'filename': '20_20220729_103928_SV2-01_SV_RD_8bit_RGB_50cm_Nuenen_25000_33000.png', 'base64_img_data': '', 'file_attributes': {}, 'regions': {'0': {'shape_attributes': {'name': 'polygon', 'all_points_x': [783, 785, 800, 806, 861, 860, 867, 878, 863, 870, 860, 867, 885, 892, 852, 843, 863, 857, 797, 777, 778, 798, 798, 703, 702, 760, 758, 743, 744, 727, 726, 711, 712, 694, 692, 672, 667, 636, 629, 649, 648, 663, 662, 783], 'all_points_y': [780, 797, 795, 826, 810, 805, 804, 848, 851, 879, 879, 898, 898, 942, 954, 909, 903, 884, 898, 904, 928, 927, 937, 955, 947, 931, 917, 918, 930, 934, 924, 926, 937, 941, 930, 935, 913, 920, 865, 861, 838, 836, 810, 780], 'category': 0}, 'region_attributes': {}}, '1': {'shape_attributes': {'name': 'polygon', 'all_points_x': [783, 785, 800, 806, 861, 860, 867, 878, 863, 870, 860, 867, 885, 892, 852, 843, 863, 857, 797, 777, 778, 798, 798, 703, 702, 760, 758, 743, 744, 727, 726, 711, 712, 694, 692, 672, 667, 636, 629, 649, 648, 663, 662, 783], 'all_points_y': [780, 797, 795, 826, 810, 805, 804, 848, 851, 879, 879, 898, 898, 942, 954, 909, 903, 884, 898, 904, 928, 927, 937, 955, 947, 931, 917, 918, 930, 934, 924, 926, 937, 941, 930, 935, 913, 920, 865, 861, 838, 836, 810, 780], 'category': 0}, 'region_attributes': {}}}, 'origin_x': 174036.0, 'origin_y': 386054.0}\n"
     ]
    },
    {
     "name": "stderr",
     "output_type": "stream",
     "text": [
      "Creating JSONs for Detectron2 on train:  22%|██▏       | 5002/22719 [00:01<00:03, 5457.10it/s]"
     ]
    },
    {
     "name": "stdout",
     "output_type": "stream",
     "text": [
      "2\n",
      "{'0': {'shape_attributes': {'name': 'polygon', 'all_points_x': [1000, 1000, 998, 1000, 1000, 874, 866, 827, 848, 858, 869, 896, 940, 975, 988, 1000], 'all_points_y': [478, 503, 507, 508, 649, 547, 563, 533, 498, 506, 494, 517, 462, 490, 466, 478], 'category': 0}, 'region_attributes': {}}}\n",
      "{'0': {'shape_attributes': {'name': 'polygon', 'all_points_x': [1000, 1000, 998, 1000, 1000, 874, 866, 827, 848, 858, 869, 896, 940, 975, 988, 1000], 'all_points_y': [478, 503, 507, 508, 649, 547, 563, 533, 498, 506, 494, 517, 462, 490, 466, 478], 'category': 0}, 'region_attributes': {}}, '1': {'shape_attributes': {'name': 'polygon', 'all_points_x': [1000, 1000, 998, 1000, 1000, 874, 866, 827, 848, 858, 869, 896, 940, 975, 988, 1000], 'all_points_y': [478, 503, 507, 508, 649, 547, 563, 533, 498, 506, 494, 517, 462, 490, 466, 478], 'category': 0}, 'region_attributes': {}}}\n",
      "{'file_ref': '', 'size': 3377169, 'filename': '14_20220830_110404_SV1-03_SV_RD_8bit_RGB_50cm_Amsterdam_17000_10000.png', 'base64_img_data': '', 'file_attributes': {}, 'regions': {'0': {'shape_attributes': {'name': 'polygon', 'all_points_x': [1000, 1000, 998, 1000, 1000, 874, 866, 827, 848, 858, 869, 896, 940, 975, 988, 1000], 'all_points_y': [478, 503, 507, 508, 649, 547, 563, 533, 498, 506, 494, 517, 462, 490, 466, 478], 'category': 0}, 'region_attributes': {}}, '1': {'shape_attributes': {'name': 'polygon', 'all_points_x': [1000, 1000, 998, 1000, 1000, 874, 866, 827, 848, 858, 869, 896, 940, 975, 988, 1000], 'all_points_y': [478, 503, 507, 508, 649, 547, 563, 533, 498, 506, 494, 517, 462, 490, 466, 478], 'category': 0}, 'region_attributes': {}}}, 'origin_x': 117780.0, 'origin_y': 490972.0}\n"
     ]
    },
    {
     "name": "stderr",
     "output_type": "stream",
     "text": [
      "\r",
      "Creating JSONs for Detectron2 on train:  25%|██▍       | 5643/22719 [00:01<00:04, 3901.75it/s]"
     ]
    },
    {
     "name": "stdout",
     "output_type": "stream",
     "text": [
      "2\n",
      "{'0': {'shape_attributes': {'name': 'polygon', 'all_points_x': [75, 58, 54, 84, 73, 70, 78, 76, 67, 65, 72, 69, 41, 47, 31, 33, 27, 22, 0, 0, 6, 0, 0, 20, 20, 8, 16, 79, 75], 'all_points_y': [458, 452, 469, 480, 479, 492, 497, 503, 500, 510, 514, 525, 514, 496, 488, 480, 477, 487, 477, 474, 460, 458, 437, 443, 438, 430, 413, 440, 458], 'category': 0}, 'region_attributes': {}}}\n",
      "{'0': {'shape_attributes': {'name': 'polygon', 'all_points_x': [75, 58, 54, 84, 73, 70, 78, 76, 67, 65, 72, 69, 41, 47, 31, 33, 27, 22, 0, 0, 6, 0, 0, 20, 20, 8, 16, 79, 75], 'all_points_y': [458, 452, 469, 480, 479, 492, 497, 503, 500, 510, 514, 525, 514, 496, 488, 480, 477, 487, 477, 474, 460, 458, 437, 443, 438, 430, 413, 440, 458], 'category': 0}, 'region_attributes': {}}, '1': {'shape_attributes': {'name': 'polygon', 'all_points_x': [75, 58, 54, 84, 73, 70, 78, 76, 67, 65, 72, 69, 41, 47, 31, 33, 27, 22, 0, 0, 6, 0, 0, 20, 20, 8, 16, 79, 75], 'all_points_y': [458, 452, 469, 480, 479, 492, 497, 503, 500, 510, 514, 525, 514, 496, 488, 480, 477, 487, 477, 474, 460, 458, 437, 443, 438, 430, 413, 440, 458], 'category': 0}, 'region_attributes': {}}}\n",
      "{'file_ref': '', 'size': 3497793, 'filename': '10_20220719_105318_SV1-04_SV_RD_8bit_RGB_50cm_Heel_19000_20000.png', 'base64_img_data': '', 'file_attributes': {}, 'regions': {'0': {'shape_attributes': {'name': 'polygon', 'all_points_x': [75, 58, 54, 84, 73, 70, 78, 76, 67, 65, 72, 69, 41, 47, 31, 33, 27, 22, 0, 0, 6, 0, 0, 20, 20, 8, 16, 79, 75], 'all_points_y': [458, 452, 469, 480, 479, 492, 497, 503, 500, 510, 514, 525, 514, 496, 488, 480, 477, 487, 477, 474, 460, 458, 437, 443, 438, 430, 413, 440, 458], 'category': 0}, 'region_attributes': {}}, '1': {'shape_attributes': {'name': 'polygon', 'all_points_x': [75, 58, 54, 84, 73, 70, 78, 76, 67, 65, 72, 69, 41, 47, 31, 33, 27, 22, 0, 0, 6, 0, 0, 20, 20, 8, 16, 79, 75], 'all_points_y': [458, 452, 469, 480, 479, 492, 497, 503, 500, 510, 514, 525, 514, 496, 488, 480, 477, 487, 477, 474, 460, 458, 437, 443, 438, 430, 413, 440, 458], 'category': 0}, 'region_attributes': {}}}, 'origin_x': 195956.0, 'origin_y': 355108.0}\n",
      "3\n",
      "{'0': {'shape_attributes': {'name': 'polygon', 'all_points_x': [17, 14, 32, 23, 2, 0, 0, 17], 'all_points_y': [52, 58, 68, 88, 76, 80, 38, 52], 'category': 0}, 'region_attributes': {}}}\n",
      "{'0': {'shape_attributes': {'name': 'polygon', 'all_points_x': [17, 14, 32, 23, 2, 0, 0, 17], 'all_points_y': [52, 58, 68, 88, 76, 80, 38, 52], 'category': 0}, 'region_attributes': {}}, '1': {'shape_attributes': {'name': 'polygon', 'all_points_x': [146, 68, 0, 0, 204, 146], 'all_points_y': [100, 55, 154, 0, 0, 100], 'category': 0}, 'region_attributes': {}}}\n",
      "{'0': {'shape_attributes': {'name': 'polygon', 'all_points_x': [17, 14, 32, 23, 2, 0, 0, 17], 'all_points_y': [52, 58, 68, 88, 76, 80, 38, 52], 'category': 0}, 'region_attributes': {}}, '1': {'shape_attributes': {'name': 'polygon', 'all_points_x': [146, 68, 0, 0, 204, 146], 'all_points_y': [100, 55, 154, 0, 0, 100], 'category': 0}, 'region_attributes': {}}, '2': {'shape_attributes': {'name': 'polygon', 'all_points_x': [146, 68, 0, 0, 204, 146], 'all_points_y': [100, 55, 154, 0, 0, 100], 'category': 0}, 'region_attributes': {}}}\n",
      "{'file_ref': '', 'size': 3261044, 'filename': '33_20220714_105920_SV1-03_SV_RD_8bit_RGB_50cm_Oploo_16000_22000.png', 'base64_img_data': '', 'file_attributes': {}, 'regions': {'0': {'shape_attributes': {'name': 'polygon', 'all_points_x': [17, 14, 32, 23, 2, 0, 0, 17], 'all_points_y': [52, 58, 68, 88, 76, 80, 38, 52], 'category': 0}, 'region_attributes': {}}, '1': {'shape_attributes': {'name': 'polygon', 'all_points_x': [146, 68, 0, 0, 204, 146], 'all_points_y': [100, 55, 154, 0, 0, 100], 'category': 0}, 'region_attributes': {}}, '2': {'shape_attributes': {'name': 'polygon', 'all_points_x': [146, 68, 0, 0, 204, 146], 'all_points_y': [100, 55, 154, 0, 0, 100], 'category': 0}, 'region_attributes': {}}}, 'origin_x': 191430.0, 'origin_y': 405718.0}\n"
     ]
    },
    {
     "name": "stderr",
     "output_type": "stream",
     "text": [
      "\r",
      "Creating JSONs for Detectron2 on train:  29%|██▊       | 6503/22719 [00:01<00:03, 4825.58it/s]"
     ]
    },
    {
     "name": "stdout",
     "output_type": "stream",
     "text": [
      "2\n",
      "{'0': {'shape_attributes': {'name': 'polygon', 'all_points_x': [852, 852, 803, 789, 804, 589, 578, 565, 575, 429, 414, 404, 418, 377, 362, 316, 322, 303, 291, 248, 258, 242, 229, 197, 213, 198, 219, 400, 404, 225, 238, 852], 'all_points_y': [696, 698, 852, 850, 800, 726, 767, 755, 721, 665, 707, 703, 660, 645, 689, 666, 636, 632, 665, 643, 613, 603, 643, 627, 586, 578, 516, 577, 567, 507, 465, 696], 'category': 0}, 'region_attributes': {}}}\n",
      "{'0': {'shape_attributes': {'name': 'polygon', 'all_points_x': [852, 852, 803, 789, 804, 589, 578, 565, 575, 429, 414, 404, 418, 377, 362, 316, 322, 303, 291, 248, 258, 242, 229, 197, 213, 198, 219, 400, 404, 225, 238, 852], 'all_points_y': [696, 698, 852, 850, 800, 726, 767, 755, 721, 665, 707, 703, 660, 645, 689, 666, 636, 632, 665, 643, 613, 603, 643, 627, 586, 578, 516, 577, 567, 507, 465, 696], 'category': 0}, 'region_attributes': {}}, '1': {'shape_attributes': {'name': 'polygon', 'all_points_x': [852, 852, 803, 789, 804, 589, 578, 565, 575, 429, 414, 404, 418, 377, 362, 316, 322, 303, 291, 248, 258, 242, 229, 197, 213, 198, 219, 400, 404, 225, 238, 852], 'all_points_y': [696, 698, 852, 850, 800, 726, 767, 755, 721, 665, 707, 703, 660, 645, 689, 666, 636, 632, 665, 643, 613, 603, 643, 627, 586, 578, 516, 577, 567, 507, 465, 696], 'category': 0}, 'region_attributes': {}}}\n",
      "{'file_ref': '', 'size': 3017115, 'filename': '22_20220922_110553_SV2-01_SV_RD_8bit_RGB_50cm_Spijkenisse_12000_37000.png', 'base64_img_data': '', 'file_attributes': {}, 'regions': {'0': {'shape_attributes': {'name': 'polygon', 'all_points_x': [852, 852, 803, 789, 804, 589, 578, 565, 575, 429, 414, 404, 418, 377, 362, 316, 322, 303, 291, 248, 258, 242, 229, 197, 213, 198, 219, 400, 404, 225, 238, 852], 'all_points_y': [696, 698, 852, 850, 800, 726, 767, 755, 721, 665, 707, 703, 660, 645, 689, 666, 636, 632, 665, 643, 613, 603, 643, 627, 586, 578, 516, 577, 567, 507, 465, 696], 'category': 0}, 'region_attributes': {}}, '1': {'shape_attributes': {'name': 'polygon', 'all_points_x': [852, 852, 803, 789, 804, 589, 578, 565, 575, 429, 414, 404, 418, 377, 362, 316, 322, 303, 291, 248, 258, 242, 229, 197, 213, 198, 219, 400, 404, 225, 238, 852], 'all_points_y': [696, 698, 852, 850, 800, 726, 767, 755, 721, 665, 707, 703, 660, 645, 689, 666, 636, 632, 665, 643, 613, 603, 643, 627, 586, 578, 516, 577, 567, 507, 465, 696], 'category': 0}, 'region_attributes': {}}}, 'origin_x': 88282.0, 'origin_y': 433766.0}\n",
      "2\n",
      "{'0': {'shape_attributes': {'name': 'polygon', 'all_points_x': [871, 893, 928, 961, 990, 990, 1000, 1000, 990, 967, 936, 936, 914, 914, 913, 910, 900, 901, 881, 881, 871, 846, 841, 871], 'all_points_y': [460, 460, 455, 451, 447, 441, 440, 488, 487, 493, 495, 490, 493, 498, 500, 494, 494, 502, 504, 511, 510, 508, 452, 460], 'category': 0}, 'region_attributes': {}}}\n",
      "{'0': {'shape_attributes': {'name': 'polygon', 'all_points_x': [871, 893, 928, 961, 990, 990, 1000, 1000, 990, 967, 936, 936, 914, 914, 913, 910, 900, 901, 881, 881, 871, 846, 841, 871], 'all_points_y': [460, 460, 455, 451, 447, 441, 440, 488, 487, 493, 495, 490, 493, 498, 500, 494, 494, 502, 504, 511, 510, 508, 452, 460], 'category': 0}, 'region_attributes': {}}, '1': {'shape_attributes': {'name': 'polygon', 'all_points_x': [871, 893, 928, 961, 990, 990, 1000, 1000, 990, 967, 936, 936, 914, 914, 913, 910, 900, 901, 881, 881, 871, 846, 841, 871], 'all_points_y': [460, 460, 455, 451, 447, 441, 440, 488, 487, 493, 495, 490, 493, 498, 500, 494, 494, 502, 504, 511, 510, 508, 452, 460], 'category': 0}, 'region_attributes': {}}}\n",
      "{'file_ref': '', 'size': 3323524, 'filename': '28_20221004_105553_SV2-01_SV_RD_8bit_RGB_50cm_Gennep_27000_5000.png', 'base64_img_data': '', 'file_attributes': {}, 'regions': {'0': {'shape_attributes': {'name': 'polygon', 'all_points_x': [871, 893, 928, 961, 990, 990, 1000, 1000, 990, 967, 936, 936, 914, 914, 913, 910, 900, 901, 881, 881, 871, 846, 841, 871], 'all_points_y': [460, 460, 455, 451, 447, 441, 440, 488, 487, 493, 495, 490, 493, 498, 500, 494, 494, 502, 504, 511, 510, 508, 452, 460], 'category': 0}, 'region_attributes': {}}, '1': {'shape_attributes': {'name': 'polygon', 'all_points_x': [871, 893, 928, 961, 990, 990, 1000, 1000, 990, 967, 936, 936, 914, 914, 913, 910, 900, 901, 881, 881, 871, 846, 841, 871], 'all_points_y': [460, 460, 455, 451, 447, 441, 440, 488, 487, 493, 495, 490, 493, 498, 500, 494, 494, 502, 504, 511, 510, 508, 452, 460], 'category': 0}, 'region_attributes': {}}}, 'origin_x': 194628.0, 'origin_y': 412011.5}\n",
      "2\n",
      "{'0': {'shape_attributes': {'name': 'polygon', 'all_points_x': [5, 0, 0, 5], 'all_points_y': [691, 693, 682, 691], 'category': 0}, 'region_attributes': {}}}\n",
      "{'0': {'shape_attributes': {'name': 'polygon', 'all_points_x': [5, 0, 0, 5], 'all_points_y': [691, 693, 682, 691], 'category': 0}, 'region_attributes': {}}, '1': {'shape_attributes': {'name': 'polygon', 'all_points_x': [5, 0, 0, 5], 'all_points_y': [691, 693, 682, 691], 'category': 0}, 'region_attributes': {}}}\n",
      "{'file_ref': '', 'size': 3387505, 'filename': '16_20220730_110228_SV2-01_SV_RD_8bit_RGB_50cm_Ketelmeer_24000_31000.png', 'base64_img_data': '', 'file_attributes': {}, 'regions': {'0': {'shape_attributes': {'name': 'polygon', 'all_points_x': [5, 0, 0, 5], 'all_points_y': [691, 693, 682, 691], 'category': 0}, 'region_attributes': {}}, '1': {'shape_attributes': {'name': 'polygon', 'all_points_x': [5, 0, 0, 5], 'all_points_y': [691, 693, 682, 691], 'category': 0}, 'region_attributes': {}}}, 'origin_x': 188486.0, 'origin_y': 508507.0}\n"
     ]
    },
    {
     "name": "stderr",
     "output_type": "stream",
     "text": [
      "Creating JSONs for Detectron2 on train:  35%|███▍      | 7949/22719 [00:01<00:02, 5294.27it/s]"
     ]
    },
    {
     "name": "stdout",
     "output_type": "stream",
     "text": [
      "2\n",
      "{'0': {'shape_attributes': {'name': 'polygon', 'all_points_x': [5, 0, 0, 5], 'all_points_y': [610, 613, 605, 610], 'category': 0}, 'region_attributes': {}}}\n",
      "{'0': {'shape_attributes': {'name': 'polygon', 'all_points_x': [5, 0, 0, 5], 'all_points_y': [610, 613, 605, 610], 'category': 0}, 'region_attributes': {}}, '1': {'shape_attributes': {'name': 'polygon', 'all_points_x': [5, 0, 0, 5], 'all_points_y': [610, 613, 605, 610], 'category': 0}, 'region_attributes': {}}}\n",
      "{'file_ref': '', 'size': 3324898, 'filename': '2_20220724_110844_SV1-04_SV_RD_8bit_RGB_50cm_Dongen_14000_9000.png', 'base64_img_data': '', 'file_attributes': {}, 'regions': {'0': {'shape_attributes': {'name': 'polygon', 'all_points_x': [5, 0, 0, 5], 'all_points_y': [610, 613, 605, 610], 'category': 0}, 'region_attributes': {}}, '1': {'shape_attributes': {'name': 'polygon', 'all_points_x': [5, 0, 0, 5], 'all_points_y': [610, 613, 605, 610], 'category': 0}, 'region_attributes': {}}}, 'origin_x': 123104.0, 'origin_y': 406872.0}\n",
      "2\n",
      "{'0': {'shape_attributes': {'name': 'polygon', 'all_points_x': [217, 178, 175, 189, 200, 214, 217], 'all_points_y': [517, 521, 505, 503, 492, 491, 517], 'category': 0}, 'region_attributes': {}}}\n",
      "{'0': {'shape_attributes': {'name': 'polygon', 'all_points_x': [217, 178, 175, 189, 200, 214, 217], 'all_points_y': [517, 521, 505, 503, 492, 491, 517], 'category': 0}, 'region_attributes': {}}, '1': {'shape_attributes': {'name': 'polygon', 'all_points_x': [217, 178, 175, 189, 200, 214, 217], 'all_points_y': [517, 521, 505, 503, 492, 491, 517], 'category': 0}, 'region_attributes': {}}}\n",
      "{'file_ref': '', 'size': 66462, 'filename': '23_20220717_103405_SV1-01_SV_RD_8bit_RGB_50cm_Made_30000_9000.png', 'base64_img_data': '', 'file_attributes': {}, 'regions': {'0': {'shape_attributes': {'name': 'polygon', 'all_points_x': [217, 178, 175, 189, 200, 214, 217], 'all_points_y': [517, 521, 505, 503, 492, 491, 517], 'category': 0}, 'region_attributes': {}}, '1': {'shape_attributes': {'name': 'polygon', 'all_points_x': [217, 178, 175, 189, 200, 214, 217], 'all_points_y': [517, 521, 505, 503, 492, 491, 517], 'category': 0}, 'region_attributes': {}}}, 'origin_x': 109200.5, 'origin_y': 399660.5}\n",
      "2\n",
      "{'0': {'shape_attributes': {'name': 'polygon', 'all_points_x': [553, 553, 550, 553], 'all_points_y': [998, 1000, 1000, 998], 'category': 0}, 'region_attributes': {}}}\n",
      "{'0': {'shape_attributes': {'name': 'polygon', 'all_points_x': [553, 553, 550, 553], 'all_points_y': [998, 1000, 1000, 998], 'category': 0}, 'region_attributes': {}}, '1': {'shape_attributes': {'name': 'polygon', 'all_points_x': [553, 553, 550, 553], 'all_points_y': [998, 1000, 1000, 998], 'category': 0}, 'region_attributes': {}}}\n",
      "{'file_ref': '', 'size': 66462, 'filename': '6_20220717_104955_SV2-01_SV_RD_8bit_RGB_50cm_Venlo_5000_5000.png', 'base64_img_data': '', 'file_attributes': {}, 'regions': {'0': {'shape_attributes': {'name': 'polygon', 'all_points_x': [553, 553, 550, 553], 'all_points_y': [998, 1000, 1000, 998], 'category': 0}, 'region_attributes': {}}, '1': {'shape_attributes': {'name': 'polygon', 'all_points_x': [553, 553, 550, 553], 'all_points_y': [998, 1000, 1000, 998], 'category': 0}, 'region_attributes': {}}}, 'origin_x': 204474.0, 'origin_y': 382258.0}\n",
      "2\n",
      "{'0': {'shape_attributes': {'name': 'polygon', 'all_points_x': [199, 320, 358, 376, 339, 388, 422, 474, 421, 524, 573, 614, 567, 709, 758, 783, 852, 706, 771, 734, 667, 631, 664, 682, 709, 591, 38, 34, 199], 'all_points_y': [865, 782, 847, 827, 756, 736, 804, 767, 690, 619, 692, 658, 581, 484, 557, 540, 650, 762, 875, 904, 794, 817, 882, 867, 913, 1000, 1000, 992, 865], 'category': 0}, 'region_attributes': {}}}\n",
      "{'0': {'shape_attributes': {'name': 'polygon', 'all_points_x': [199, 320, 358, 376, 339, 388, 422, 474, 421, 524, 573, 614, 567, 709, 758, 783, 852, 706, 771, 734, 667, 631, 664, 682, 709, 591, 38, 34, 199], 'all_points_y': [865, 782, 847, 827, 756, 736, 804, 767, 690, 619, 692, 658, 581, 484, 557, 540, 650, 762, 875, 904, 794, 817, 882, 867, 913, 1000, 1000, 992, 865], 'category': 0}, 'region_attributes': {}}, '1': {'shape_attributes': {'name': 'polygon', 'all_points_x': [199, 320, 358, 376, 339, 388, 422, 474, 421, 524, 573, 614, 567, 709, 758, 783, 852, 706, 771, 734, 667, 631, 664, 682, 709, 591, 38, 34, 199], 'all_points_y': [865, 782, 847, 827, 756, 736, 804, 767, 690, 619, 692, 658, 581, 484, 557, 540, 650, 762, 875, 904, 794, 817, 882, 867, 913, 1000, 1000, 992, 865], 'category': 0}, 'region_attributes': {}}}\n",
      "{'file_ref': '', 'size': 3282958, 'filename': '10_20220719_105318_SV1-04_SV_RD_8bit_RGB_50cm_Heel_26000_12000.png', 'base64_img_data': '', 'file_attributes': {}, 'regions': {'0': {'shape_attributes': {'name': 'polygon', 'all_points_x': [199, 320, 358, 376, 339, 388, 422, 474, 421, 524, 573, 614, 567, 709, 758, 783, 852, 706, 771, 734, 667, 631, 664, 682, 709, 591, 38, 34, 199], 'all_points_y': [865, 782, 847, 827, 756, 736, 804, 767, 690, 619, 692, 658, 581, 484, 557, 540, 650, 762, 875, 904, 794, 817, 882, 867, 913, 1000, 1000, 992, 865], 'category': 0}, 'region_attributes': {}}, '1': {'shape_attributes': {'name': 'polygon', 'all_points_x': [199, 320, 358, 376, 339, 388, 422, 474, 421, 524, 573, 614, 567, 709, 758, 783, 852, 706, 771, 734, 667, 631, 664, 682, 709, 591, 38, 34, 199], 'all_points_y': [865, 782, 847, 827, 756, 736, 804, 767, 690, 619, 692, 658, 581, 484, 557, 540, 650, 762, 875, 904, 794, 817, 882, 867, 913, 1000, 1000, 992, 865], 'category': 0}, 'region_attributes': {}}}, 'origin_x': 191956.0, 'origin_y': 351608.0}\n",
      "2\n",
      "{'0': {'shape_attributes': {'name': 'polygon', 'all_points_x': [414, 395, 412, 427, 455, 446, 440, 429, 432, 427, 438, 401, 390, 380, 363, 328, 335, 314, 304, 286, 294, 288, 278, 267, 273, 265, 251, 235, 223, 205, 222, 243, 251, 241, 296, 333, 348, 340, 348, 414], 'all_points_y': [583, 598, 614, 594, 629, 638, 629, 644, 646, 655, 669, 719, 687, 697, 709, 667, 653, 628, 640, 620, 612, 605, 612, 596, 590, 579, 600, 583, 621, 613, 566, 573, 565, 554, 499, 538, 522, 512, 506, 583], 'category': 0}, 'region_attributes': {}}}\n",
      "{'0': {'shape_attributes': {'name': 'polygon', 'all_points_x': [414, 395, 412, 427, 455, 446, 440, 429, 432, 427, 438, 401, 390, 380, 363, 328, 335, 314, 304, 286, 294, 288, 278, 267, 273, 265, 251, 235, 223, 205, 222, 243, 251, 241, 296, 333, 348, 340, 348, 414], 'all_points_y': [583, 598, 614, 594, 629, 638, 629, 644, 646, 655, 669, 719, 687, 697, 709, 667, 653, 628, 640, 620, 612, 605, 612, 596, 590, 579, 600, 583, 621, 613, 566, 573, 565, 554, 499, 538, 522, 512, 506, 583], 'category': 0}, 'region_attributes': {}}, '1': {'shape_attributes': {'name': 'polygon', 'all_points_x': [414, 395, 412, 427, 455, 446, 440, 429, 432, 427, 438, 401, 390, 380, 363, 328, 335, 314, 304, 286, 294, 288, 278, 267, 273, 265, 251, 235, 223, 205, 222, 243, 251, 241, 296, 333, 348, 340, 348, 414], 'all_points_y': [583, 598, 614, 594, 629, 638, 629, 644, 646, 655, 669, 719, 687, 697, 709, 667, 653, 628, 640, 620, 612, 605, 612, 596, 590, 579, 600, 583, 621, 613, 566, 573, 565, 554, 499, 538, 522, 512, 506, 583], 'category': 0}, 'region_attributes': {}}}\n",
      "{'file_ref': '', 'size': 197089, 'filename': '15_20221009_105651_SV1-04_SV_RD_8bit_RGB_50cm_Best_30000_16000.png', 'base64_img_data': '', 'file_attributes': {}, 'regions': {'0': {'shape_attributes': {'name': 'polygon', 'all_points_x': [414, 395, 412, 427, 455, 446, 440, 429, 432, 427, 438, 401, 390, 380, 363, 328, 335, 314, 304, 286, 294, 288, 278, 267, 273, 265, 251, 235, 223, 205, 222, 243, 251, 241, 296, 333, 348, 340, 348, 414], 'all_points_y': [583, 598, 614, 594, 629, 638, 629, 644, 646, 655, 669, 719, 687, 697, 709, 667, 653, 628, 640, 620, 612, 605, 612, 596, 590, 579, 600, 583, 621, 613, 566, 573, 565, 554, 499, 538, 522, 512, 506, 583], 'category': 0}, 'region_attributes': {}}, '1': {'shape_attributes': {'name': 'polygon', 'all_points_x': [414, 395, 412, 427, 455, 446, 440, 429, 432, 427, 438, 401, 390, 380, 363, 328, 335, 314, 304, 286, 294, 288, 278, 267, 273, 265, 251, 235, 223, 205, 222, 243, 251, 241, 296, 333, 348, 340, 348, 414], 'all_points_y': [583, 598, 614, 594, 629, 638, 629, 644, 646, 655, 669, 719, 687, 697, 709, 667, 653, 628, 640, 620, 612, 605, 612, 596, 590, 579, 600, 583, 621, 613, 566, 573, 565, 554, 499, 538, 522, 512, 506, 583], 'category': 0}, 'region_attributes': {}}}, 'origin_x': 158839.5, 'origin_y': 386196.0}\n"
     ]
    },
    {
     "name": "stderr",
     "output_type": "stream",
     "text": [
      "Creating JSONs for Detectron2 on train:  40%|████      | 9172/22719 [00:01<00:02, 4886.76it/s]"
     ]
    },
    {
     "name": "stdout",
     "output_type": "stream",
     "text": [
      "2\n",
      "{'0': {'shape_attributes': {'name': 'polygon', 'all_points_x': [962, 971, 978, 1000, 1000, 995, 988, 917, 920, 916, 923, 910, 902, 896, 907, 896, 884, 867, 872, 864, 846, 837, 835, 841, 836, 827, 822, 847, 860, 893, 886, 880, 874, 899, 908, 927, 923, 916, 909, 927, 944, 953, 961, 948, 962], 'all_points_y': [622, 651, 646, 682, 693, 695, 684, 731, 741, 743, 761, 770, 756, 744, 771, 780, 756, 765, 773, 778, 744, 746, 740, 737, 726, 727, 711, 699, 726, 706, 697, 697, 684, 668, 696, 685, 675, 677, 662, 648, 638, 660, 654, 630, 622], 'category': 0}, 'region_attributes': {}}}\n",
      "{'0': {'shape_attributes': {'name': 'polygon', 'all_points_x': [962, 971, 978, 1000, 1000, 995, 988, 917, 920, 916, 923, 910, 902, 896, 907, 896, 884, 867, 872, 864, 846, 837, 835, 841, 836, 827, 822, 847, 860, 893, 886, 880, 874, 899, 908, 927, 923, 916, 909, 927, 944, 953, 961, 948, 962], 'all_points_y': [622, 651, 646, 682, 693, 695, 684, 731, 741, 743, 761, 770, 756, 744, 771, 780, 756, 765, 773, 778, 744, 746, 740, 737, 726, 727, 711, 699, 726, 706, 697, 697, 684, 668, 696, 685, 675, 677, 662, 648, 638, 660, 654, 630, 622], 'category': 0}, 'region_attributes': {}}, '1': {'shape_attributes': {'name': 'polygon', 'all_points_x': [962, 971, 978, 1000, 1000, 995, 988, 917, 920, 916, 923, 910, 902, 896, 907, 896, 884, 867, 872, 864, 846, 837, 835, 841, 836, 827, 822, 847, 860, 893, 886, 880, 874, 899, 908, 927, 923, 916, 909, 927, 944, 953, 961, 948, 962], 'all_points_y': [622, 651, 646, 682, 693, 695, 684, 731, 741, 743, 761, 770, 756, 744, 771, 780, 756, 765, 773, 778, 744, 746, 740, 737, 726, 727, 711, 699, 726, 706, 697, 697, 684, 668, 696, 685, 675, 677, 662, 648, 638, 660, 654, 630, 622], 'category': 0}, 'region_attributes': {}}}\n",
      "{'file_ref': '', 'size': 3360861, 'filename': '16_20220730_110228_SV2-01_SV_RD_8bit_RGB_50cm_Ketelmeer_24000_30000.png', 'base64_img_data': '', 'file_attributes': {}, 'regions': {'0': {'shape_attributes': {'name': 'polygon', 'all_points_x': [962, 971, 978, 1000, 1000, 995, 988, 917, 920, 916, 923, 910, 902, 896, 907, 896, 884, 867, 872, 864, 846, 837, 835, 841, 836, 827, 822, 847, 860, 893, 886, 880, 874, 899, 908, 927, 923, 916, 909, 927, 944, 953, 961, 948, 962], 'all_points_y': [622, 651, 646, 682, 693, 695, 684, 731, 741, 743, 761, 770, 756, 744, 771, 780, 756, 765, 773, 778, 744, 746, 740, 737, 726, 727, 711, 699, 726, 706, 697, 697, 684, 668, 696, 685, 675, 677, 662, 648, 638, 660, 654, 630, 622], 'category': 0}, 'region_attributes': {}}, '1': {'shape_attributes': {'name': 'polygon', 'all_points_x': [962, 971, 978, 1000, 1000, 995, 988, 917, 920, 916, 923, 910, 902, 896, 907, 896, 884, 867, 872, 864, 846, 837, 835, 841, 836, 827, 822, 847, 860, 893, 886, 880, 874, 899, 908, 927, 923, 916, 909, 927, 944, 953, 961, 948, 962], 'all_points_y': [622, 651, 646, 682, 693, 695, 684, 731, 741, 743, 761, 770, 756, 744, 771, 780, 756, 765, 773, 778, 744, 746, 740, 737, 726, 727, 711, 699, 726, 706, 697, 697, 684, 668, 696, 685, 675, 677, 662, 648, 638, 660, 654, 630, 622], 'category': 0}, 'region_attributes': {}}}, 'origin_x': 187986.0, 'origin_y': 508507.0}\n",
      "2\n",
      "{'0': {'shape_attributes': {'name': 'polygon', 'all_points_x': [368, 365, 389, 389, 365, 364, 385, 386, 361, 362, 387, 388, 364, 364, 386, 386, 411, 417, 469, 471, 413, 411, 471, 470, 413, 416, 470, 470, 0, 0, 9, 5, 21, 24, 186, 220, 283, 284, 324, 323, 297, 301, 368], 'all_points_y': [483, 573, 575, 599, 599, 609, 612, 630, 633, 651, 652, 675, 678, 696, 693, 714, 715, 787, 788, 868, 874, 905, 906, 962, 959, 999, 997, 1000, 1000, 984, 984, 860, 866, 564, 571, 550, 557, 586, 587, 539, 539, 485, 483], 'category': 0}, 'region_attributes': {}}}\n",
      "{'0': {'shape_attributes': {'name': 'polygon', 'all_points_x': [368, 365, 389, 389, 365, 364, 385, 386, 361, 362, 387, 388, 364, 364, 386, 386, 411, 417, 469, 471, 413, 411, 471, 470, 413, 416, 470, 470, 0, 0, 9, 5, 21, 24, 186, 220, 283, 284, 324, 323, 297, 301, 368], 'all_points_y': [483, 573, 575, 599, 599, 609, 612, 630, 633, 651, 652, 675, 678, 696, 693, 714, 715, 787, 788, 868, 874, 905, 906, 962, 959, 999, 997, 1000, 1000, 984, 984, 860, 866, 564, 571, 550, 557, 586, 587, 539, 539, 485, 483], 'category': 0}, 'region_attributes': {}}, '1': {'shape_attributes': {'name': 'polygon', 'all_points_x': [368, 365, 389, 389, 365, 364, 385, 386, 361, 362, 387, 388, 364, 364, 386, 386, 411, 417, 469, 471, 413, 411, 471, 470, 413, 416, 470, 470, 0, 0, 9, 5, 21, 24, 186, 220, 283, 284, 324, 323, 297, 301, 368], 'all_points_y': [483, 573, 575, 599, 599, 609, 612, 630, 633, 651, 652, 675, 678, 696, 693, 714, 715, 787, 788, 868, 874, 905, 906, 962, 959, 999, 997, 1000, 1000, 984, 984, 860, 866, 564, 571, 550, 557, 586, 587, 539, 539, 485, 483], 'category': 0}, 'region_attributes': {}}}\n",
      "{'file_ref': '', 'size': 2956918, 'filename': '16_20220730_110228_SV2-01_SV_RD_8bit_RGB_50cm_Ketelmeer_11000_21000.png', 'base64_img_data': '', 'file_attributes': {}, 'regions': {'0': {'shape_attributes': {'name': 'polygon', 'all_points_x': [368, 365, 389, 389, 365, 364, 385, 386, 361, 362, 387, 388, 364, 364, 386, 386, 411, 417, 469, 471, 413, 411, 471, 470, 413, 416, 470, 470, 0, 0, 9, 5, 21, 24, 186, 220, 283, 284, 324, 323, 297, 301, 368], 'all_points_y': [483, 573, 575, 599, 599, 609, 612, 630, 633, 651, 652, 675, 678, 696, 693, 714, 715, 787, 788, 868, 874, 905, 906, 962, 959, 999, 997, 1000, 1000, 984, 984, 860, 866, 564, 571, 550, 557, 586, 587, 539, 539, 485, 483], 'category': 0}, 'region_attributes': {}}, '1': {'shape_attributes': {'name': 'polygon', 'all_points_x': [368, 365, 389, 389, 365, 364, 385, 386, 361, 362, 387, 388, 364, 364, 386, 386, 411, 417, 469, 471, 413, 411, 471, 470, 413, 416, 470, 470, 0, 0, 9, 5, 21, 24, 186, 220, 283, 284, 324, 323, 297, 301, 368], 'all_points_y': [483, 573, 575, 599, 599, 609, 612, 630, 633, 651, 652, 675, 678, 696, 693, 714, 715, 787, 788, 868, 874, 905, 906, 962, 959, 999, 997, 1000, 1000, 984, 984, 860, 866, 564, 571, 550, 557, 586, 587, 539, 539, 485, 483], 'category': 0}, 'region_attributes': {}}}, 'origin_x': 183486.0, 'origin_y': 515007.0}\n",
      "2\n",
      "{'0': {'shape_attributes': {'name': 'polygon', 'all_points_x': [13, 37, 31, 0, 0, 13], 'all_points_y': [680, 705, 724, 708, 673, 680], 'category': 0}, 'region_attributes': {}}}\n",
      "{'0': {'shape_attributes': {'name': 'polygon', 'all_points_x': [13, 37, 31, 0, 0, 13], 'all_points_y': [680, 705, 724, 708, 673, 680], 'category': 0}, 'region_attributes': {}}, '1': {'shape_attributes': {'name': 'polygon', 'all_points_x': [13, 37, 31, 0, 0, 13], 'all_points_y': [680, 705, 724, 708, 673, 680], 'category': 0}, 'region_attributes': {}}}\n",
      "{'file_ref': '', 'size': 3212766, 'filename': '22_20220922_110553_SV2-01_SV_RD_8bit_RGB_50cm_Spijkenisse_22000_16000.png', 'base64_img_data': '', 'file_attributes': {}, 'regions': {'0': {'shape_attributes': {'name': 'polygon', 'all_points_x': [13, 37, 31, 0, 0, 13], 'all_points_y': [680, 705, 724, 708, 673, 680], 'category': 0}, 'region_attributes': {}}, '1': {'shape_attributes': {'name': 'polygon', 'all_points_x': [13, 37, 31, 0, 0, 13], 'all_points_y': [680, 705, 724, 708, 673, 680], 'category': 0}, 'region_attributes': {}}}, 'origin_x': 77782.0, 'origin_y': 428766.0}\n"
     ]
    },
    {
     "name": "stderr",
     "output_type": "stream",
     "text": [
      "Creating JSONs for Detectron2 on train:  46%|████▌     | 10478/22719 [00:02<00:02, 4861.09it/s]"
     ]
    },
    {
     "name": "stdout",
     "output_type": "stream",
     "text": [
      "2\n",
      "{'0': {'shape_attributes': {'name': 'polygon', 'all_points_x': [12, 27, 0, 0, 12], 'all_points_y': [882, 932, 942, 837, 882], 'category': 0}, 'region_attributes': {}}}\n",
      "{'0': {'shape_attributes': {'name': 'polygon', 'all_points_x': [12, 27, 0, 0, 12], 'all_points_y': [882, 932, 942, 837, 882], 'category': 0}, 'region_attributes': {}}, '1': {'shape_attributes': {'name': 'polygon', 'all_points_x': [12, 27, 0, 0, 12], 'all_points_y': [882, 932, 942, 837, 882], 'category': 0}, 'region_attributes': {}}}\n",
      "{'file_ref': '', 'size': 66462, 'filename': '23_20220717_103405_SV1-01_SV_RD_8bit_RGB_50cm_Made_3000_24000.png', 'base64_img_data': '', 'file_attributes': {}, 'regions': {'0': {'shape_attributes': {'name': 'polygon', 'all_points_x': [12, 27, 0, 0, 12], 'all_points_y': [882, 932, 942, 837, 882], 'category': 0}, 'region_attributes': {}}, '1': {'shape_attributes': {'name': 'polygon', 'all_points_x': [12, 27, 0, 0, 12], 'all_points_y': [882, 932, 942, 837, 882], 'category': 0}, 'region_attributes': {}}}, 'origin_x': 116700.5, 'origin_y': 413160.5}\n",
      "3\n",
      "{'0': {'shape_attributes': {'name': 'polygon', 'all_points_x': [428, 436, 407, 399, 428], 'all_points_y': [29, 83, 89, 33, 29], 'category': 0}, 'region_attributes': {}}}\n",
      "{'0': {'shape_attributes': {'name': 'polygon', 'all_points_x': [428, 436, 407, 399, 428], 'all_points_y': [29, 83, 89, 33, 29], 'category': 0}, 'region_attributes': {}}, '1': {'shape_attributes': {'name': 'polygon', 'all_points_x': [485, 483, 503, 507, 488, 490, 470, 460, 485], 'all_points_y': [40, 27, 25, 57, 61, 80, 83, 41, 40], 'category': 0}, 'region_attributes': {}}}\n",
      "{'0': {'shape_attributes': {'name': 'polygon', 'all_points_x': [428, 436, 407, 399, 428], 'all_points_y': [29, 83, 89, 33, 29], 'category': 0}, 'region_attributes': {}}, '1': {'shape_attributes': {'name': 'polygon', 'all_points_x': [485, 483, 503, 507, 488, 490, 470, 460, 485], 'all_points_y': [40, 27, 25, 57, 61, 80, 83, 41, 40], 'category': 0}, 'region_attributes': {}}, '2': {'shape_attributes': {'name': 'polygon', 'all_points_x': [485, 483, 503, 507, 488, 490, 470, 460, 485], 'all_points_y': [40, 27, 25, 57, 61, 80, 83, 41, 40], 'category': 0}, 'region_attributes': {}}}\n",
      "{'file_ref': '', 'size': 3011273, 'filename': '9_20220717_105004_SV2-01_SV_RD_8bit_RGB_50cm_Heerlen_24000_4000.png', 'base64_img_data': '', 'file_attributes': {}, 'regions': {'0': {'shape_attributes': {'name': 'polygon', 'all_points_x': [428, 436, 407, 399, 428], 'all_points_y': [29, 83, 89, 33, 29], 'category': 0}, 'region_attributes': {}}, '1': {'shape_attributes': {'name': 'polygon', 'all_points_x': [485, 483, 503, 507, 488, 490, 470, 460, 485], 'all_points_y': [40, 27, 25, 57, 61, 80, 83, 41, 40], 'category': 0}, 'region_attributes': {}}, '2': {'shape_attributes': {'name': 'polygon', 'all_points_x': [485, 483, 503, 507, 488, 490, 470, 460, 485], 'all_points_y': [40, 27, 25, 57, 61, 80, 83, 41, 40], 'category': 0}, 'region_attributes': {}}}, 'origin_x': 189918.0, 'origin_y': 318435.0}\n",
      "2\n",
      "{'0': {'shape_attributes': {'name': 'polygon', 'all_points_x': [22, 0, 0, 31, 22], 'all_points_y': [920, 910, 880, 895, 920], 'category': 0}, 'region_attributes': {}}}\n",
      "{'0': {'shape_attributes': {'name': 'polygon', 'all_points_x': [22, 0, 0, 31, 22], 'all_points_y': [920, 910, 880, 895, 920], 'category': 0}, 'region_attributes': {}}, '1': {'shape_attributes': {'name': 'polygon', 'all_points_x': [22, 0, 0, 31, 22], 'all_points_y': [920, 910, 880, 895, 920], 'category': 0}, 'region_attributes': {}}}\n",
      "{'file_ref': '', 'size': 1380994, 'filename': '31_20220905_105531_SV2-01_SV_RD_8bit_RGB_50cm_Nuenen_13000_36000.png', 'base64_img_data': '', 'file_attributes': {}, 'regions': {'0': {'shape_attributes': {'name': 'polygon', 'all_points_x': [22, 0, 0, 31, 22], 'all_points_y': [920, 910, 880, 895, 920], 'category': 0}, 'region_attributes': {}}, '1': {'shape_attributes': {'name': 'polygon', 'all_points_x': [22, 0, 0, 31, 22], 'all_points_y': [920, 910, 880, 895, 920], 'category': 0}, 'region_attributes': {}}}, 'origin_x': 174680.0, 'origin_y': 391830.5}\n",
      "2\n"
     ]
    },
    {
     "name": "stderr",
     "output_type": "stream",
     "text": [
      "\r",
      "Creating JSONs for Detectron2 on train:  48%|████▊     | 11006/22719 [00:02<00:02, 3985.15it/s]"
     ]
    },
    {
     "name": "stdout",
     "output_type": "stream",
     "text": [
      "{'0': {'shape_attributes': {'name': 'polygon', 'all_points_x': [1000, 1000, 990, 954, 934, 945, 883, 908, 891, 908, 932, 965, 942, 956, 1000], 'all_points_y': [582, 722, 714, 758, 740, 726, 676, 640, 623, 608, 628, 582, 560, 544, 582], 'category': 0}, 'region_attributes': {}}}\n",
      "{'0': {'shape_attributes': {'name': 'polygon', 'all_points_x': [1000, 1000, 990, 954, 934, 945, 883, 908, 891, 908, 932, 965, 942, 956, 1000], 'all_points_y': [582, 722, 714, 758, 740, 726, 676, 640, 623, 608, 628, 582, 560, 544, 582], 'category': 0}, 'region_attributes': {}}, '1': {'shape_attributes': {'name': 'polygon', 'all_points_x': [1000, 1000, 990, 954, 934, 945, 883, 908, 891, 908, 932, 965, 942, 956, 1000], 'all_points_y': [582, 722, 714, 758, 740, 726, 676, 640, 623, 608, 628, 582, 560, 544, 582], 'category': 0}, 'region_attributes': {}}}\n",
      "{'file_ref': '', 'size': 2808859, 'filename': '12_20220719_105242_SV1-04_SV_RD_8bit_RGB_50cm_Eemshaven_25000_21000.png', 'base64_img_data': '', 'file_attributes': {}, 'regions': {'0': {'shape_attributes': {'name': 'polygon', 'all_points_x': [1000, 1000, 990, 954, 934, 945, 883, 908, 891, 908, 932, 965, 942, 956, 1000], 'all_points_y': [582, 722, 714, 758, 740, 726, 676, 640, 623, 608, 628, 582, 560, 544, 582], 'category': 0}, 'region_attributes': {}}, '1': {'shape_attributes': {'name': 'polygon', 'all_points_x': [1000, 1000, 990, 954, 934, 945, 883, 908, 891, 908, 932, 965, 942, 956, 1000], 'all_points_y': [582, 722, 714, 758, 740, 726, 676, 640, 623, 608, 628, 582, 560, 544, 582], 'category': 0}, 'region_attributes': {}}}, 'origin_x': 253098.0, 'origin_y': 607782.0}\n",
      "3\n",
      "{'0': {'shape_attributes': {'name': 'polygon', 'all_points_x': [349, 350, 355, 353, 363, 364, 367, 364, 374, 376, 379, 378, 387, 394, 412, 423, 418, 421, 421, 411, 410, 395, 396, 384, 382, 369, 370, 358, 339, 349], 'all_points_y': [151, 157, 155, 145, 142, 150, 149, 141, 138, 145, 145, 139, 135, 155, 147, 180, 182, 192, 194, 197, 195, 199, 206, 210, 205, 209, 215, 218, 153, 151], 'category': 0}, 'region_attributes': {}}}\n",
      "{'0': {'shape_attributes': {'name': 'polygon', 'all_points_x': [349, 350, 355, 353, 363, 364, 367, 364, 374, 376, 379, 378, 387, 394, 412, 423, 418, 421, 421, 411, 410, 395, 396, 384, 382, 369, 370, 358, 339, 349], 'all_points_y': [151, 157, 155, 145, 142, 150, 149, 141, 138, 145, 145, 139, 135, 155, 147, 180, 182, 192, 194, 197, 195, 199, 206, 210, 205, 209, 215, 218, 153, 151], 'category': 0}, 'region_attributes': {}}, '1': {'shape_attributes': {'name': 'polygon', 'all_points_x': [316, 316, 324, 316], 'all_points_y': [3, 0, 0, 3], 'category': 0}, 'region_attributes': {}}}\n",
      "{'0': {'shape_attributes': {'name': 'polygon', 'all_points_x': [349, 350, 355, 353, 363, 364, 367, 364, 374, 376, 379, 378, 387, 394, 412, 423, 418, 421, 421, 411, 410, 395, 396, 384, 382, 369, 370, 358, 339, 349], 'all_points_y': [151, 157, 155, 145, 142, 150, 149, 141, 138, 145, 145, 139, 135, 155, 147, 180, 182, 192, 194, 197, 195, 199, 206, 210, 205, 209, 215, 218, 153, 151], 'category': 0}, 'region_attributes': {}}, '1': {'shape_attributes': {'name': 'polygon', 'all_points_x': [316, 316, 324, 316], 'all_points_y': [3, 0, 0, 3], 'category': 0}, 'region_attributes': {}}, '2': {'shape_attributes': {'name': 'polygon', 'all_points_x': [316, 316, 324, 316], 'all_points_y': [3, 0, 0, 3], 'category': 0}, 'region_attributes': {}}}\n",
      "{'file_ref': '', 'size': 3548205, 'filename': '8_20221009_105642_SV1-04_SV_RD_8bit_RGB_50cm_Lunteren_21000_17000.png', 'base64_img_data': '', 'file_attributes': {}, 'regions': {'0': {'shape_attributes': {'name': 'polygon', 'all_points_x': [349, 350, 355, 353, 363, 364, 367, 364, 374, 376, 379, 378, 387, 394, 412, 423, 418, 421, 421, 411, 410, 395, 396, 384, 382, 369, 370, 358, 339, 349], 'all_points_y': [151, 157, 155, 145, 142, 150, 149, 141, 138, 145, 145, 139, 135, 155, 147, 180, 182, 192, 194, 197, 195, 199, 206, 210, 205, 209, 215, 218, 153, 151], 'category': 0}, 'region_attributes': {}}, '1': {'shape_attributes': {'name': 'polygon', 'all_points_x': [316, 316, 324, 316], 'all_points_y': [3, 0, 0, 3], 'category': 0}, 'region_attributes': {}}, '2': {'shape_attributes': {'name': 'polygon', 'all_points_x': [316, 316, 324, 316], 'all_points_y': [3, 0, 0, 3], 'category': 0}, 'region_attributes': {}}}, 'origin_x': 173920.0, 'origin_y': 451846.0}\n",
      "2\n",
      "{'0': {'shape_attributes': {'name': 'polygon', 'all_points_x': [858, 880, 915, 948, 977, 977, 1000, 1000, 992, 992, 977, 954, 923, 923, 901, 901, 900, 897, 887, 888, 868, 868, 858, 833, 828, 858], 'all_points_y': [384, 384, 379, 375, 371, 365, 362, 418, 420, 412, 411, 417, 419, 414, 417, 422, 424, 418, 418, 426, 428, 435, 434, 432, 376, 384], 'category': 0}, 'region_attributes': {}}}\n",
      "{'0': {'shape_attributes': {'name': 'polygon', 'all_points_x': [858, 880, 915, 948, 977, 977, 1000, 1000, 992, 992, 977, 954, 923, 923, 901, 901, 900, 897, 887, 888, 868, 868, 858, 833, 828, 858], 'all_points_y': [384, 384, 379, 375, 371, 365, 362, 418, 420, 412, 411, 417, 419, 414, 417, 422, 424, 418, 418, 426, 428, 435, 434, 432, 376, 384], 'category': 0}, 'region_attributes': {}}, '1': {'shape_attributes': {'name': 'polygon', 'all_points_x': [858, 880, 915, 948, 977, 977, 1000, 1000, 992, 992, 977, 954, 923, 923, 901, 901, 900, 897, 887, 888, 868, 868, 858, 833, 828, 858], 'all_points_y': [384, 384, 379, 375, 371, 365, 362, 418, 420, 412, 411, 417, 419, 414, 417, 422, 424, 418, 418, 426, 428, 435, 434, 432, 376, 384], 'category': 0}, 'region_attributes': {}}}\n",
      "{'file_ref': '', 'size': 66462, 'filename': '3_20220718_101820_SV1-01_SV_RD_8bit_RGB_50cm_Oploo_4000_27000.png', 'base64_img_data': '', 'file_attributes': {}, 'regions': {'0': {'shape_attributes': {'name': 'polygon', 'all_points_x': [858, 880, 915, 948, 977, 977, 1000, 1000, 992, 992, 977, 954, 923, 923, 901, 901, 900, 897, 887, 888, 868, 868, 858, 833, 828, 858], 'all_points_y': [384, 384, 379, 375, 371, 365, 362, 418, 420, 412, 411, 417, 419, 414, 417, 422, 424, 418, 418, 426, 428, 435, 434, 432, 376, 384], 'category': 0}, 'region_attributes': {}}, '1': {'shape_attributes': {'name': 'polygon', 'all_points_x': [858, 880, 915, 948, 977, 977, 1000, 1000, 992, 992, 977, 954, 923, 923, 901, 901, 900, 897, 887, 888, 868, 868, 858, 833, 828, 858], 'all_points_y': [384, 384, 379, 375, 371, 365, 362, 418, 420, 412, 411, 417, 419, 414, 417, 422, 424, 418, 418, 426, 428, 435, 434, 432, 376, 384], 'category': 0}, 'region_attributes': {}}}, 'origin_x': 194634.5, 'origin_y': 411973.5}\n",
      "2\n",
      "{'0': {'shape_attributes': {'name': 'polygon', 'all_points_x': [585, 571, 588, 581, 561, 547, 569, 577, 587, 592, 597, 604, 591, 598, 653, 639, 633, 585], 'all_points_y': [191, 177, 155, 146, 171, 154, 130, 115, 107, 100, 107, 99, 91, 83, 132, 136, 129, 191], 'category': 0}, 'region_attributes': {}}}\n",
      "{'0': {'shape_attributes': {'name': 'polygon', 'all_points_x': [585, 571, 588, 581, 561, 547, 569, 577, 587, 592, 597, 604, 591, 598, 653, 639, 633, 585], 'all_points_y': [191, 177, 155, 146, 171, 154, 130, 115, 107, 100, 107, 99, 91, 83, 132, 136, 129, 191], 'category': 0}, 'region_attributes': {}}, '1': {'shape_attributes': {'name': 'polygon', 'all_points_x': [585, 571, 588, 581, 561, 547, 569, 577, 587, 592, 597, 604, 591, 598, 653, 639, 633, 585], 'all_points_y': [191, 177, 155, 146, 171, 154, 130, 115, 107, 100, 107, 99, 91, 83, 132, 136, 129, 191], 'category': 0}, 'region_attributes': {}}}\n",
      "{'file_ref': '', 'size': 3277174, 'filename': '13_20220719_105243_SV1-04_SV_RD_8bit_RGB_50cm_Loppersum_7000_26000.png', 'base64_img_data': '', 'file_attributes': {}, 'regions': {'0': {'shape_attributes': {'name': 'polygon', 'all_points_x': [585, 571, 588, 581, 561, 547, 569, 577, 587, 592, 597, 604, 591, 598, 653, 639, 633, 585], 'all_points_y': [191, 177, 155, 146, 171, 154, 130, 115, 107, 100, 107, 99, 91, 83, 132, 136, 129, 191], 'category': 0}, 'region_attributes': {}}, '1': {'shape_attributes': {'name': 'polygon', 'all_points_x': [585, 571, 588, 581, 561, 547, 569, 577, 587, 592, 597, 604, 591, 598, 653, 639, 633, 585], 'all_points_y': [191, 177, 155, 146, 171, 154, 130, 115, 107, 100, 107, 99, 91, 83, 132, 136, 129, 191], 'category': 0}, 'region_attributes': {}}}, 'origin_x': 253231.0, 'origin_y': 605930.0}\n",
      "2\n",
      "{'0': {'shape_attributes': {'name': 'polygon', 'all_points_x': [14, 17, 38, 39, 19, 21, 45, 47, 26, 25, 5, 5, 0, 0, 14], 'all_points_y': [438, 445, 444, 461, 461, 471, 467, 484, 485, 490, 496, 488, 488, 440, 438], 'category': 0}, 'region_attributes': {}}}\n",
      "{'0': {'shape_attributes': {'name': 'polygon', 'all_points_x': [14, 17, 38, 39, 19, 21, 45, 47, 26, 25, 5, 5, 0, 0, 14], 'all_points_y': [438, 445, 444, 461, 461, 471, 467, 484, 485, 490, 496, 488, 488, 440, 438], 'category': 0}, 'region_attributes': {}}, '1': {'shape_attributes': {'name': 'polygon', 'all_points_x': [14, 17, 38, 39, 19, 21, 45, 47, 26, 25, 5, 5, 0, 0, 14], 'all_points_y': [438, 445, 444, 461, 461, 471, 467, 484, 485, 490, 496, 488, 488, 440, 438], 'category': 0}, 'region_attributes': {}}}\n",
      "{'file_ref': '', 'size': 3580853, 'filename': '28_20221004_105553_SV2-01_SV_RD_8bit_RGB_50cm_Gennep_27000_6000.png', 'base64_img_data': '', 'file_attributes': {}, 'regions': {'0': {'shape_attributes': {'name': 'polygon', 'all_points_x': [14, 17, 38, 39, 19, 21, 45, 47, 26, 25, 5, 5, 0, 0, 14], 'all_points_y': [438, 445, 444, 461, 461, 471, 467, 484, 485, 490, 496, 488, 488, 440, 438], 'category': 0}, 'region_attributes': {}}, '1': {'shape_attributes': {'name': 'polygon', 'all_points_x': [14, 17, 38, 39, 19, 21, 45, 47, 26, 25, 5, 5, 0, 0, 14], 'all_points_y': [438, 445, 444, 461, 461, 471, 467, 484, 485, 490, 496, 488, 488, 440, 438], 'category': 0}, 'region_attributes': {}}}, 'origin_x': 195128.0, 'origin_y': 412011.5}\n",
      "2\n",
      "{'0': {'shape_attributes': {'name': 'polygon', 'all_points_x': [985, 959, 975, 991, 987, 965, 951, 948, 923, 978, 1000, 1000, 985], 'all_points_y': [903, 969, 975, 982, 1000, 1000, 994, 1000, 1000, 870, 880, 910, 903], 'category': 0}, 'region_attributes': {}}}\n",
      "{'0': {'shape_attributes': {'name': 'polygon', 'all_points_x': [985, 959, 975, 991, 987, 965, 951, 948, 923, 978, 1000, 1000, 985], 'all_points_y': [903, 969, 975, 982, 1000, 1000, 994, 1000, 1000, 870, 880, 910, 903], 'category': 0}, 'region_attributes': {}}, '1': {'shape_attributes': {'name': 'polygon', 'all_points_x': [985, 959, 975, 991, 987, 965, 951, 948, 923, 978, 1000, 1000, 985], 'all_points_y': [903, 969, 975, 982, 1000, 1000, 994, 1000, 1000, 870, 880, 910, 903], 'category': 0}, 'region_attributes': {}}}\n",
      "{'file_ref': '', 'size': 3304137, 'filename': '31_20220905_105531_SV2-01_SV_RD_8bit_RGB_50cm_Nuenen_13000_35000.png', 'base64_img_data': '', 'file_attributes': {}, 'regions': {'0': {'shape_attributes': {'name': 'polygon', 'all_points_x': [985, 959, 975, 991, 987, 965, 951, 948, 923, 978, 1000, 1000, 985], 'all_points_y': [903, 969, 975, 982, 1000, 1000, 994, 1000, 1000, 870, 880, 910, 903], 'category': 0}, 'region_attributes': {}}, '1': {'shape_attributes': {'name': 'polygon', 'all_points_x': [985, 959, 975, 991, 987, 965, 951, 948, 923, 978, 1000, 1000, 985], 'all_points_y': [903, 969, 975, 982, 1000, 1000, 994, 1000, 1000, 870, 880, 910, 903], 'category': 0}, 'region_attributes': {}}}, 'origin_x': 174180.0, 'origin_y': 391830.5}\n"
     ]
    },
    {
     "name": "stderr",
     "output_type": "stream",
     "text": [
      "\r",
      "Creating JSONs for Detectron2 on train:  51%|█████▏    | 11671/22719 [00:02<00:02, 4459.56it/s]"
     ]
    },
    {
     "name": "stdout",
     "output_type": "stream",
     "text": [
      "2\n",
      "{'0': {'shape_attributes': {'name': 'polygon', 'all_points_x': [584, 585, 627, 625, 641, 641, 625, 625, 642, 642, 625, 624, 646, 642, 703, 704, 726, 728, 711, 711, 750, 752, 712, 712, 751, 753, 713, 714, 754, 757, 717, 717, 755, 756, 745, 745, 715, 716, 634, 631, 621, 623, 605, 605, 574, 573, 561, 561, 554, 553, 584], 'all_points_y': [486, 600, 601, 576, 577, 564, 564, 543, 544, 534, 535, 509, 508, 468, 468, 506, 503, 534, 534, 537, 533, 564, 563, 573, 571, 595, 595, 602, 599, 627, 625, 638, 634, 668, 668, 659, 657, 669, 672, 606, 605, 669, 669, 610, 610, 599, 600, 516, 516, 486, 486], 'category': 0}, 'region_attributes': {}}}\n",
      "{'0': {'shape_attributes': {'name': 'polygon', 'all_points_x': [584, 585, 627, 625, 641, 641, 625, 625, 642, 642, 625, 624, 646, 642, 703, 704, 726, 728, 711, 711, 750, 752, 712, 712, 751, 753, 713, 714, 754, 757, 717, 717, 755, 756, 745, 745, 715, 716, 634, 631, 621, 623, 605, 605, 574, 573, 561, 561, 554, 553, 584], 'all_points_y': [486, 600, 601, 576, 577, 564, 564, 543, 544, 534, 535, 509, 508, 468, 468, 506, 503, 534, 534, 537, 533, 564, 563, 573, 571, 595, 595, 602, 599, 627, 625, 638, 634, 668, 668, 659, 657, 669, 672, 606, 605, 669, 669, 610, 610, 599, 600, 516, 516, 486, 486], 'category': 0}, 'region_attributes': {}}, '1': {'shape_attributes': {'name': 'polygon', 'all_points_x': [584, 585, 627, 625, 641, 641, 625, 625, 642, 642, 625, 624, 646, 642, 703, 704, 726, 728, 711, 711, 750, 752, 712, 712, 751, 753, 713, 714, 754, 757, 717, 717, 755, 756, 745, 745, 715, 716, 634, 631, 621, 623, 605, 605, 574, 573, 561, 561, 554, 553, 584], 'all_points_y': [486, 600, 601, 576, 577, 564, 564, 543, 544, 534, 535, 509, 508, 468, 468, 506, 503, 534, 534, 537, 533, 564, 563, 573, 571, 595, 595, 602, 599, 627, 625, 638, 634, 668, 668, 659, 657, 669, 672, 606, 605, 669, 669, 610, 610, 599, 600, 516, 516, 486, 486], 'category': 0}, 'region_attributes': {}}}\n",
      "{'file_ref': '', 'size': 66462, 'filename': '31_20220905_105531_SV2-01_SV_RD_8bit_RGB_50cm_Nuenen_36000_7000.png', 'base64_img_data': '', 'file_attributes': {}, 'regions': {'0': {'shape_attributes': {'name': 'polygon', 'all_points_x': [584, 585, 627, 625, 641, 641, 625, 625, 642, 642, 625, 624, 646, 642, 703, 704, 726, 728, 711, 711, 750, 752, 712, 712, 751, 753, 713, 714, 754, 757, 717, 717, 755, 756, 745, 745, 715, 716, 634, 631, 621, 623, 605, 605, 574, 573, 561, 561, 554, 553, 584], 'all_points_y': [486, 600, 601, 576, 577, 564, 564, 543, 544, 534, 535, 509, 508, 468, 468, 506, 503, 534, 534, 537, 533, 564, 563, 573, 571, 595, 595, 602, 599, 627, 625, 638, 634, 668, 668, 659, 657, 669, 672, 606, 605, 669, 669, 610, 610, 599, 600, 516, 516, 486, 486], 'category': 0}, 'region_attributes': {}}, '1': {'shape_attributes': {'name': 'polygon', 'all_points_x': [584, 585, 627, 625, 641, 641, 625, 625, 642, 642, 625, 624, 646, 642, 703, 704, 726, 728, 711, 711, 750, 752, 712, 712, 751, 753, 713, 714, 754, 757, 717, 717, 755, 756, 745, 745, 715, 716, 634, 631, 621, 623, 605, 605, 574, 573, 561, 561, 554, 553, 584], 'all_points_y': [486, 600, 601, 576, 577, 564, 564, 543, 544, 534, 535, 509, 508, 468, 468, 506, 503, 534, 534, 537, 533, 564, 563, 573, 571, 595, 595, 602, 599, 627, 625, 638, 634, 668, 668, 659, 657, 669, 672, 606, 605, 669, 669, 610, 610, 599, 600, 516, 516, 486, 486], 'category': 0}, 'region_attributes': {}}}, 'origin_x': 160180.0, 'origin_y': 380330.5}\n",
      "2\n",
      "{'0': {'shape_attributes': {'name': 'polygon', 'all_points_x': [670, 631, 628, 631, 669, 670], 'all_points_y': [12, 16, 0, 0, 0, 12], 'category': 0}, 'region_attributes': {}}}\n",
      "{'0': {'shape_attributes': {'name': 'polygon', 'all_points_x': [670, 631, 628, 631, 669, 670], 'all_points_y': [12, 16, 0, 0, 0, 12], 'category': 0}, 'region_attributes': {}}, '1': {'shape_attributes': {'name': 'polygon', 'all_points_x': [670, 631, 628, 631, 669, 670], 'all_points_y': [12, 16, 0, 0, 0, 12], 'category': 0}, 'region_attributes': {}}}\n",
      "{'file_ref': '', 'size': 3420124, 'filename': '7_20220811_110743_SV1-04_SV_RD_8bit_RGB_50cm_EttenLeur_29000_23000.png', 'base64_img_data': '', 'file_attributes': {}, 'regions': {'0': {'shape_attributes': {'name': 'polygon', 'all_points_x': [670, 631, 628, 631, 669, 670], 'all_points_y': [12, 16, 0, 0, 0, 12], 'category': 0}, 'region_attributes': {}}, '1': {'shape_attributes': {'name': 'polygon', 'all_points_x': [670, 631, 628, 631, 669, 670], 'all_points_y': [12, 16, 0, 0, 0, 12], 'category': 0}, 'region_attributes': {}}}, 'origin_x': 108974.0, 'origin_y': 399408.0}\n",
      "4\n",
      "{'0': {'shape_attributes': {'name': 'polygon', 'all_points_x': [700, 686, 648, 615, 657, 645, 609, 591, 634, 619, 582, 557, 588, 581, 603, 618, 636, 656, 693, 711, 674, 688, 723, 743, 703, 721, 761, 781, 738, 749, 786, 805, 730, 717, 679, 657, 700], 'all_points_y': [564, 544, 575, 527, 505, 487, 515, 488, 461, 443, 470, 428, 411, 395, 379, 402, 390, 412, 387, 417, 438, 457, 427, 454, 484, 516, 486, 522, 547, 565, 532, 563, 616, 594, 625, 589, 564], 'category': 0}, 'region_attributes': {}}}\n",
      "{'0': {'shape_attributes': {'name': 'polygon', 'all_points_x': [700, 686, 648, 615, 657, 645, 609, 591, 634, 619, 582, 557, 588, 581, 603, 618, 636, 656, 693, 711, 674, 688, 723, 743, 703, 721, 761, 781, 738, 749, 786, 805, 730, 717, 679, 657, 700], 'all_points_y': [564, 544, 575, 527, 505, 487, 515, 488, 461, 443, 470, 428, 411, 395, 379, 402, 390, 412, 387, 417, 438, 457, 427, 454, 484, 516, 486, 522, 547, 565, 532, 563, 616, 594, 625, 589, 564], 'category': 0}, 'region_attributes': {}}, '1': {'shape_attributes': {'name': 'polygon', 'all_points_x': [586, 586, 605, 618, 649, 670, 690, 692, 710, 686, 699, 716, 718, 737, 708, 737, 757, 757, 778, 752, 763, 786, 787, 804, 733, 726, 711, 677, 661, 696, 685, 649, 624, 626, 659, 647, 608, 593, 602, 616, 635, 627, 617, 610, 579, 557, 586], 'all_points_y': [410, 391, 383, 402, 386, 408, 399, 384, 416, 429, 452, 438, 422, 457, 475, 514, 500, 486, 522, 535, 557, 543, 531, 565, 619, 607, 589, 620, 595, 563, 546, 575, 538, 531, 502, 483, 512, 489, 484, 476, 463, 445, 451, 445, 467, 426, 410], 'category': 0}, 'region_attributes': {}}}\n",
      "{'0': {'shape_attributes': {'name': 'polygon', 'all_points_x': [700, 686, 648, 615, 657, 645, 609, 591, 634, 619, 582, 557, 588, 581, 603, 618, 636, 656, 693, 711, 674, 688, 723, 743, 703, 721, 761, 781, 738, 749, 786, 805, 730, 717, 679, 657, 700], 'all_points_y': [564, 544, 575, 527, 505, 487, 515, 488, 461, 443, 470, 428, 411, 395, 379, 402, 390, 412, 387, 417, 438, 457, 427, 454, 484, 516, 486, 522, 547, 565, 532, 563, 616, 594, 625, 589, 564], 'category': 0}, 'region_attributes': {}}, '1': {'shape_attributes': {'name': 'polygon', 'all_points_x': [586, 586, 605, 618, 649, 670, 690, 692, 710, 686, 699, 716, 718, 737, 708, 737, 757, 757, 778, 752, 763, 786, 787, 804, 733, 726, 711, 677, 661, 696, 685, 649, 624, 626, 659, 647, 608, 593, 602, 616, 635, 627, 617, 610, 579, 557, 586], 'all_points_y': [410, 391, 383, 402, 386, 408, 399, 384, 416, 429, 452, 438, 422, 457, 475, 514, 500, 486, 522, 535, 557, 543, 531, 565, 619, 607, 589, 620, 595, 563, 546, 575, 538, 531, 502, 483, 512, 489, 484, 476, 463, 445, 451, 445, 467, 426, 410], 'category': 0}, 'region_attributes': {}}, '2': {'shape_attributes': {'name': 'polygon', 'all_points_x': [586, 586, 605, 618, 649, 670, 690, 692, 710, 686, 699, 716, 718, 737, 708, 737, 757, 757, 778, 752, 763, 786, 787, 804, 733, 726, 711, 677, 661, 696, 685, 649, 624, 626, 659, 647, 608, 593, 602, 616, 635, 627, 617, 610, 579, 557, 586], 'all_points_y': [410, 391, 383, 402, 386, 408, 399, 384, 416, 429, 452, 438, 422, 457, 475, 514, 500, 486, 522, 535, 557, 543, 531, 565, 619, 607, 589, 620, 595, 563, 546, 575, 538, 531, 502, 483, 512, 489, 484, 476, 463, 445, 451, 445, 467, 426, 410], 'category': 0}, 'region_attributes': {}}}\n",
      "{'0': {'shape_attributes': {'name': 'polygon', 'all_points_x': [700, 686, 648, 615, 657, 645, 609, 591, 634, 619, 582, 557, 588, 581, 603, 618, 636, 656, 693, 711, 674, 688, 723, 743, 703, 721, 761, 781, 738, 749, 786, 805, 730, 717, 679, 657, 700], 'all_points_y': [564, 544, 575, 527, 505, 487, 515, 488, 461, 443, 470, 428, 411, 395, 379, 402, 390, 412, 387, 417, 438, 457, 427, 454, 484, 516, 486, 522, 547, 565, 532, 563, 616, 594, 625, 589, 564], 'category': 0}, 'region_attributes': {}}, '1': {'shape_attributes': {'name': 'polygon', 'all_points_x': [586, 586, 605, 618, 649, 670, 690, 692, 710, 686, 699, 716, 718, 737, 708, 737, 757, 757, 778, 752, 763, 786, 787, 804, 733, 726, 711, 677, 661, 696, 685, 649, 624, 626, 659, 647, 608, 593, 602, 616, 635, 627, 617, 610, 579, 557, 586], 'all_points_y': [410, 391, 383, 402, 386, 408, 399, 384, 416, 429, 452, 438, 422, 457, 475, 514, 500, 486, 522, 535, 557, 543, 531, 565, 619, 607, 589, 620, 595, 563, 546, 575, 538, 531, 502, 483, 512, 489, 484, 476, 463, 445, 451, 445, 467, 426, 410], 'category': 0}, 'region_attributes': {}}, '2': {'shape_attributes': {'name': 'polygon', 'all_points_x': [586, 586, 605, 618, 649, 670, 690, 692, 710, 686, 699, 716, 718, 737, 708, 737, 757, 757, 778, 752, 763, 786, 787, 804, 733, 726, 711, 677, 661, 696, 685, 649, 624, 626, 659, 647, 608, 593, 602, 616, 635, 627, 617, 610, 579, 557, 586], 'all_points_y': [410, 391, 383, 402, 386, 408, 399, 384, 416, 429, 452, 438, 422, 457, 475, 514, 500, 486, 522, 535, 557, 543, 531, 565, 619, 607, 589, 620, 595, 563, 546, 575, 538, 531, 502, 483, 512, 489, 484, 476, 463, 445, 451, 445, 467, 426, 410], 'category': 0}, 'region_attributes': {}}, '3': {'shape_attributes': {'name': 'polygon', 'all_points_x': [586, 586, 605, 618, 649, 670, 690, 692, 710, 686, 699, 716, 718, 737, 708, 737, 757, 757, 778, 752, 763, 786, 787, 804, 733, 726, 711, 677, 661, 696, 685, 649, 624, 626, 659, 647, 608, 593, 602, 616, 635, 627, 617, 610, 579, 557, 586], 'all_points_y': [410, 391, 383, 402, 386, 408, 399, 384, 416, 429, 452, 438, 422, 457, 475, 514, 500, 486, 522, 535, 557, 543, 531, 565, 619, 607, 589, 620, 595, 563, 546, 575, 538, 531, 502, 483, 512, 489, 484, 476, 463, 445, 451, 445, 467, 426, 410], 'category': 0}, 'region_attributes': {}}}\n",
      "{'file_ref': '', 'size': 3310123, 'filename': '9_20220717_105004_SV2-01_SV_RD_8bit_RGB_50cm_Heerlen_13000_15000.png', 'base64_img_data': '', 'file_attributes': {}, 'regions': {'0': {'shape_attributes': {'name': 'polygon', 'all_points_x': [700, 686, 648, 615, 657, 645, 609, 591, 634, 619, 582, 557, 588, 581, 603, 618, 636, 656, 693, 711, 674, 688, 723, 743, 703, 721, 761, 781, 738, 749, 786, 805, 730, 717, 679, 657, 700], 'all_points_y': [564, 544, 575, 527, 505, 487, 515, 488, 461, 443, 470, 428, 411, 395, 379, 402, 390, 412, 387, 417, 438, 457, 427, 454, 484, 516, 486, 522, 547, 565, 532, 563, 616, 594, 625, 589, 564], 'category': 0}, 'region_attributes': {}}, '1': {'shape_attributes': {'name': 'polygon', 'all_points_x': [586, 586, 605, 618, 649, 670, 690, 692, 710, 686, 699, 716, 718, 737, 708, 737, 757, 757, 778, 752, 763, 786, 787, 804, 733, 726, 711, 677, 661, 696, 685, 649, 624, 626, 659, 647, 608, 593, 602, 616, 635, 627, 617, 610, 579, 557, 586], 'all_points_y': [410, 391, 383, 402, 386, 408, 399, 384, 416, 429, 452, 438, 422, 457, 475, 514, 500, 486, 522, 535, 557, 543, 531, 565, 619, 607, 589, 620, 595, 563, 546, 575, 538, 531, 502, 483, 512, 489, 484, 476, 463, 445, 451, 445, 467, 426, 410], 'category': 0}, 'region_attributes': {}}, '2': {'shape_attributes': {'name': 'polygon', 'all_points_x': [586, 586, 605, 618, 649, 670, 690, 692, 710, 686, 699, 716, 718, 737, 708, 737, 757, 757, 778, 752, 763, 786, 787, 804, 733, 726, 711, 677, 661, 696, 685, 649, 624, 626, 659, 647, 608, 593, 602, 616, 635, 627, 617, 610, 579, 557, 586], 'all_points_y': [410, 391, 383, 402, 386, 408, 399, 384, 416, 429, 452, 438, 422, 457, 475, 514, 500, 486, 522, 535, 557, 543, 531, 565, 619, 607, 589, 620, 595, 563, 546, 575, 538, 531, 502, 483, 512, 489, 484, 476, 463, 445, 451, 445, 467, 426, 410], 'category': 0}, 'region_attributes': {}}, '3': {'shape_attributes': {'name': 'polygon', 'all_points_x': [586, 586, 605, 618, 649, 670, 690, 692, 710, 686, 699, 716, 718, 737, 708, 737, 757, 757, 778, 752, 763, 786, 787, 804, 733, 726, 711, 677, 661, 696, 685, 649, 624, 626, 659, 647, 608, 593, 602, 616, 635, 627, 617, 610, 579, 557, 586], 'all_points_y': [410, 391, 383, 402, 386, 408, 399, 384, 416, 429, 452, 438, 422, 457, 475, 514, 500, 486, 522, 535, 557, 543, 531, 565, 619, 607, 589, 620, 595, 563, 546, 575, 538, 531, 502, 483, 512, 489, 484, 476, 463, 445, 451, 445, 467, 426, 410], 'category': 0}, 'region_attributes': {}}}, 'origin_x': 195418.0, 'origin_y': 323935.0}\n",
      "2\n",
      "{'0': {'shape_attributes': {'name': 'polygon', 'all_points_x': [589, 462, 435, 571, 589], 'all_points_y': [799, 1000, 1000, 789, 799], 'category': 0}, 'region_attributes': {}}}\n",
      "{'0': {'shape_attributes': {'name': 'polygon', 'all_points_x': [589, 462, 435, 571, 589], 'all_points_y': [799, 1000, 1000, 789, 799], 'category': 0}, 'region_attributes': {}}, '1': {'shape_attributes': {'name': 'polygon', 'all_points_x': [589, 462, 435, 571, 589], 'all_points_y': [799, 1000, 1000, 789, 799], 'category': 0}, 'region_attributes': {}}}\n",
      "{'file_ref': '', 'size': 3371137, 'filename': '14_20220830_110404_SV1-03_SV_RD_8bit_RGB_50cm_Amsterdam_17000_18000.png', 'base64_img_data': '', 'file_attributes': {}, 'regions': {'0': {'shape_attributes': {'name': 'polygon', 'all_points_x': [589, 462, 435, 571, 589], 'all_points_y': [799, 1000, 1000, 789, 799], 'category': 0}, 'region_attributes': {}}, '1': {'shape_attributes': {'name': 'polygon', 'all_points_x': [589, 462, 435, 571, 589], 'all_points_y': [799, 1000, 1000, 789, 799], 'category': 0}, 'region_attributes': {}}}, 'origin_x': 121780.0, 'origin_y': 490972.0}\n",
      "2\n",
      "{'0': {'shape_attributes': {'name': 'polygon', 'all_points_x': [185, 227, 225, 241, 241, 312, 312, 351, 353, 313, 314, 354, 357, 317, 317, 355, 356, 345, 345, 315, 316, 234, 231, 221, 223, 205, 205, 174, 173, 161, 161, 185, 185], 'all_points_y': [31, 32, 7, 8, 0, 0, 4, 2, 26, 26, 33, 30, 58, 56, 69, 65, 99, 99, 90, 88, 100, 103, 37, 36, 100, 100, 41, 41, 30, 31, 0, 0, 31], 'category': 0}, 'region_attributes': {}}}\n",
      "{'0': {'shape_attributes': {'name': 'polygon', 'all_points_x': [185, 227, 225, 241, 241, 312, 312, 351, 353, 313, 314, 354, 357, 317, 317, 355, 356, 345, 345, 315, 316, 234, 231, 221, 223, 205, 205, 174, 173, 161, 161, 185, 185], 'all_points_y': [31, 32, 7, 8, 0, 0, 4, 2, 26, 26, 33, 30, 58, 56, 69, 65, 99, 99, 90, 88, 100, 103, 37, 36, 100, 100, 41, 41, 30, 31, 0, 0, 31], 'category': 0}, 'region_attributes': {}}, '1': {'shape_attributes': {'name': 'polygon', 'all_points_x': [185, 227, 225, 241, 241, 312, 312, 351, 353, 313, 314, 354, 357, 317, 317, 355, 356, 345, 345, 315, 316, 234, 231, 221, 223, 205, 205, 174, 173, 161, 161, 185, 185], 'all_points_y': [31, 32, 7, 8, 0, 0, 4, 2, 26, 26, 33, 30, 58, 56, 69, 65, 99, 99, 90, 88, 100, 103, 37, 36, 100, 100, 41, 41, 30, 31, 0, 0, 31], 'category': 0}, 'region_attributes': {}}}\n",
      "{'file_ref': '', 'size': 3394018, 'filename': '19_20221009_105653_SV1-04_SV_RD_8bit_RGB_50cm_Veldhoven_18000_25000.png', 'base64_img_data': '', 'file_attributes': {}, 'regions': {'0': {'shape_attributes': {'name': 'polygon', 'all_points_x': [185, 227, 225, 241, 241, 312, 312, 351, 353, 313, 314, 354, 357, 317, 317, 355, 356, 345, 345, 315, 316, 234, 231, 221, 223, 205, 205, 174, 173, 161, 161, 185, 185], 'all_points_y': [31, 32, 7, 8, 0, 0, 4, 2, 26, 26, 33, 30, 58, 56, 69, 65, 99, 99, 90, 88, 100, 103, 37, 36, 100, 100, 41, 41, 30, 31, 0, 0, 31], 'category': 0}, 'region_attributes': {}}, '1': {'shape_attributes': {'name': 'polygon', 'all_points_x': [185, 227, 225, 241, 241, 312, 312, 351, 353, 313, 314, 354, 357, 317, 317, 355, 356, 345, 345, 315, 316, 234, 231, 221, 223, 205, 205, 174, 173, 161, 161, 185, 185], 'all_points_y': [31, 32, 7, 8, 0, 0, 4, 2, 26, 26, 33, 30, 58, 56, 69, 65, 99, 99, 90, 88, 100, 103, 37, 36, 100, 100, 41, 41, 30, 31, 0, 0, 31], 'category': 0}, 'region_attributes': {}}}, 'origin_x': 160380.0, 'origin_y': 380046.0}\n",
      "2\n"
     ]
    },
    {
     "name": "stderr",
     "output_type": "stream",
     "text": [
      "Creating JSONs for Detectron2 on train:  56%|█████▌    | 12757/22719 [00:02<00:02, 3813.42it/s]"
     ]
    },
    {
     "name": "stdout",
     "output_type": "stream",
     "text": [
      "{'0': {'shape_attributes': {'name': 'polygon', 'all_points_x': [2, 6, 1, 25, 29, 35, 36, 66, 90, 53, 45, 20, 17, 4, 0, 0, 2], 'all_points_y': [841, 840, 800, 796, 834, 830, 823, 821, 989, 993, 905, 909, 901, 901, 901, 822, 841], 'category': 0}, 'region_attributes': {}}}\n",
      "{'0': {'shape_attributes': {'name': 'polygon', 'all_points_x': [2, 6, 1, 25, 29, 35, 36, 66, 90, 53, 45, 20, 17, 4, 0, 0, 2], 'all_points_y': [841, 840, 800, 796, 834, 830, 823, 821, 989, 993, 905, 909, 901, 901, 901, 822, 841], 'category': 0}, 'region_attributes': {}}, '1': {'shape_attributes': {'name': 'polygon', 'all_points_x': [2, 6, 1, 25, 29, 35, 36, 66, 90, 53, 45, 20, 17, 4, 0, 0, 2], 'all_points_y': [841, 840, 800, 796, 834, 830, 823, 821, 989, 993, 905, 909, 901, 901, 901, 822, 841], 'category': 0}, 'region_attributes': {}}}\n",
      "{'file_ref': '', 'size': 66462, 'filename': '7_20220811_110743_SV1-04_SV_RD_8bit_RGB_50cm_EttenLeur_30000_7000.png', 'base64_img_data': '', 'file_attributes': {}, 'regions': {'0': {'shape_attributes': {'name': 'polygon', 'all_points_x': [2, 6, 1, 25, 29, 35, 36, 66, 90, 53, 45, 20, 17, 4, 0, 0, 2], 'all_points_y': [841, 840, 800, 796, 834, 830, 823, 821, 989, 993, 905, 909, 901, 901, 901, 822, 841], 'category': 0}, 'region_attributes': {}}, '1': {'shape_attributes': {'name': 'polygon', 'all_points_x': [2, 6, 1, 25, 29, 35, 36, 66, 90, 53, 45, 20, 17, 4, 0, 0, 2], 'all_points_y': [841, 840, 800, 796, 834, 830, 823, 821, 989, 993, 905, 909, 901, 901, 901, 822, 841], 'category': 0}, 'region_attributes': {}}}, 'origin_x': 100974.0, 'origin_y': 398908.0}\n",
      "2\n",
      "{'0': {'shape_attributes': {'name': 'polygon', 'all_points_x': [353, 366, 371, 371, 396, 396, 327, 326, 353, 353, 385, 412, 420, 420, 392, 381, 354, 324, 324, 358, 358, 380, 326, 327, 380, 330, 380, 379, 353, 353, 423, 423, 355, 357, 405, 406, 313, 302, 303, 281, 281, 248, 252, 276, 273, 282, 285, 305, 301, 270, 261, 263, 215, 218, 238, 237, 260, 261, 303, 302, 261, 261, 215, 217, 251, 249, 255, 255, 353, 353], 'all_points_y': [1, 0, 0, 11, 14, 46, 48, 61, 59, 72, 88, 87, 90, 123, 124, 117, 117, 119, 123, 121, 134, 150, 151, 158, 169, 178, 195, 199, 201, 218, 224, 255, 254, 297, 301, 352, 354, 358, 345, 337, 343, 343, 296, 296, 313, 313, 325, 334, 149, 135, 133, 148, 134, 98, 100, 114, 125, 104, 125, 99, 82, 94, 77, 57, 66, 25, 25, 0, 0, 1], 'category': 0}, 'region_attributes': {}}}\n",
      "{'0': {'shape_attributes': {'name': 'polygon', 'all_points_x': [353, 366, 371, 371, 396, 396, 327, 326, 353, 353, 385, 412, 420, 420, 392, 381, 354, 324, 324, 358, 358, 380, 326, 327, 380, 330, 380, 379, 353, 353, 423, 423, 355, 357, 405, 406, 313, 302, 303, 281, 281, 248, 252, 276, 273, 282, 285, 305, 301, 270, 261, 263, 215, 218, 238, 237, 260, 261, 303, 302, 261, 261, 215, 217, 251, 249, 255, 255, 353, 353], 'all_points_y': [1, 0, 0, 11, 14, 46, 48, 61, 59, 72, 88, 87, 90, 123, 124, 117, 117, 119, 123, 121, 134, 150, 151, 158, 169, 178, 195, 199, 201, 218, 224, 255, 254, 297, 301, 352, 354, 358, 345, 337, 343, 343, 296, 296, 313, 313, 325, 334, 149, 135, 133, 148, 134, 98, 100, 114, 125, 104, 125, 99, 82, 94, 77, 57, 66, 25, 25, 0, 0, 1], 'category': 0}, 'region_attributes': {}}, '1': {'shape_attributes': {'name': 'polygon', 'all_points_x': [353, 366, 371, 371, 396, 396, 327, 326, 353, 353, 385, 412, 420, 420, 392, 381, 354, 324, 324, 358, 358, 380, 326, 327, 380, 330, 380, 379, 353, 353, 423, 423, 355, 357, 405, 406, 313, 302, 303, 281, 281, 248, 252, 276, 273, 282, 285, 305, 301, 270, 261, 263, 215, 218, 238, 237, 260, 261, 303, 302, 261, 261, 215, 217, 251, 249, 255, 255, 353, 353], 'all_points_y': [1, 0, 0, 11, 14, 46, 48, 61, 59, 72, 88, 87, 90, 123, 124, 117, 117, 119, 123, 121, 134, 150, 151, 158, 169, 178, 195, 199, 201, 218, 224, 255, 254, 297, 301, 352, 354, 358, 345, 337, 343, 343, 296, 296, 313, 313, 325, 334, 149, 135, 133, 148, 134, 98, 100, 114, 125, 104, 125, 99, 82, 94, 77, 57, 66, 25, 25, 0, 0, 1], 'category': 0}, 'region_attributes': {}}}\n",
      "{'file_ref': '', 'size': 3063797, 'filename': '10_20220719_105318_SV1-04_SV_RD_8bit_RGB_50cm_Heel_10000_19000.png', 'base64_img_data': '', 'file_attributes': {}, 'regions': {'0': {'shape_attributes': {'name': 'polygon', 'all_points_x': [353, 366, 371, 371, 396, 396, 327, 326, 353, 353, 385, 412, 420, 420, 392, 381, 354, 324, 324, 358, 358, 380, 326, 327, 380, 330, 380, 379, 353, 353, 423, 423, 355, 357, 405, 406, 313, 302, 303, 281, 281, 248, 252, 276, 273, 282, 285, 305, 301, 270, 261, 263, 215, 218, 238, 237, 260, 261, 303, 302, 261, 261, 215, 217, 251, 249, 255, 255, 353, 353], 'all_points_y': [1, 0, 0, 11, 14, 46, 48, 61, 59, 72, 88, 87, 90, 123, 124, 117, 117, 119, 123, 121, 134, 150, 151, 158, 169, 178, 195, 199, 201, 218, 224, 255, 254, 297, 301, 352, 354, 358, 345, 337, 343, 343, 296, 296, 313, 313, 325, 334, 149, 135, 133, 148, 134, 98, 100, 114, 125, 104, 125, 99, 82, 94, 77, 57, 66, 25, 25, 0, 0, 1], 'category': 0}, 'region_attributes': {}}, '1': {'shape_attributes': {'name': 'polygon', 'all_points_x': [353, 366, 371, 371, 396, 396, 327, 326, 353, 353, 385, 412, 420, 420, 392, 381, 354, 324, 324, 358, 358, 380, 326, 327, 380, 330, 380, 379, 353, 353, 423, 423, 355, 357, 405, 406, 313, 302, 303, 281, 281, 248, 252, 276, 273, 282, 285, 305, 301, 270, 261, 263, 215, 218, 238, 237, 260, 261, 303, 302, 261, 261, 215, 217, 251, 249, 255, 255, 353, 353], 'all_points_y': [1, 0, 0, 11, 14, 46, 48, 61, 59, 72, 88, 87, 90, 123, 124, 117, 117, 119, 123, 121, 134, 150, 151, 158, 169, 178, 195, 199, 201, 218, 224, 255, 254, 297, 301, 352, 354, 358, 345, 337, 343, 343, 296, 296, 313, 313, 325, 334, 149, 135, 133, 148, 134, 98, 100, 114, 125, 104, 125, 99, 82, 94, 77, 57, 66, 25, 25, 0, 0, 1], 'category': 0}, 'region_attributes': {}}}, 'origin_x': 195456.0, 'origin_y': 359608.0}\n",
      "3\n",
      "{'0': {'shape_attributes': {'name': 'polygon', 'all_points_x': [877, 954, 1000, 1000, 968, 933, 956, 941, 881, 832, 786, 777, 877], 'all_points_y': [596, 575, 717, 938, 946, 830, 822, 783, 804, 655, 671, 629, 596], 'category': 0}, 'region_attributes': {}}}\n",
      "{'0': {'shape_attributes': {'name': 'polygon', 'all_points_x': [877, 954, 1000, 1000, 968, 933, 956, 941, 881, 832, 786, 777, 877], 'all_points_y': [596, 575, 717, 938, 946, 830, 822, 783, 804, 655, 671, 629, 596], 'category': 0}, 'region_attributes': {}}, '1': {'shape_attributes': {'name': 'polygon', 'all_points_x': [877, 954, 1000, 1000, 968, 933, 956, 941, 881, 832, 786, 777, 877], 'all_points_y': [596, 575, 717, 938, 946, 830, 822, 783, 804, 655, 671, 629, 596], 'category': 0}, 'region_attributes': {}}}\n",
      "{'0': {'shape_attributes': {'name': 'polygon', 'all_points_x': [877, 954, 1000, 1000, 968, 933, 956, 941, 881, 832, 786, 777, 877], 'all_points_y': [596, 575, 717, 938, 946, 830, 822, 783, 804, 655, 671, 629, 596], 'category': 0}, 'region_attributes': {}}, '1': {'shape_attributes': {'name': 'polygon', 'all_points_x': [877, 954, 1000, 1000, 968, 933, 956, 941, 881, 832, 786, 777, 877], 'all_points_y': [596, 575, 717, 938, 946, 830, 822, 783, 804, 655, 671, 629, 596], 'category': 0}, 'region_attributes': {}}, '2': {'shape_attributes': {'name': 'polygon', 'all_points_x': [877, 954, 1000, 1000, 968, 933, 956, 941, 881, 832, 786, 777, 877], 'all_points_y': [596, 575, 717, 938, 946, 830, 822, 783, 804, 655, 671, 629, 596], 'category': 0}, 'region_attributes': {}}}\n",
      "{'file_ref': '', 'size': 3269050, 'filename': '14_20220830_110404_SV1-03_SV_RD_8bit_RGB_50cm_Amsterdam_11000_14000.png', 'base64_img_data': '', 'file_attributes': {}, 'regions': {'0': {'shape_attributes': {'name': 'polygon', 'all_points_x': [877, 954, 1000, 1000, 968, 933, 956, 941, 881, 832, 786, 777, 877], 'all_points_y': [596, 575, 717, 938, 946, 830, 822, 783, 804, 655, 671, 629, 596], 'category': 0}, 'region_attributes': {}}, '1': {'shape_attributes': {'name': 'polygon', 'all_points_x': [877, 954, 1000, 1000, 968, 933, 956, 941, 881, 832, 786, 777, 877], 'all_points_y': [596, 575, 717, 938, 946, 830, 822, 783, 804, 655, 671, 629, 596], 'category': 0}, 'region_attributes': {}}, '2': {'shape_attributes': {'name': 'polygon', 'all_points_x': [877, 954, 1000, 1000, 968, 933, 956, 941, 881, 832, 786, 777, 877], 'all_points_y': [596, 575, 717, 938, 946, 830, 822, 783, 804, 655, 671, 629, 596], 'category': 0}, 'region_attributes': {}}}, 'origin_x': 119780.0, 'origin_y': 493972.0}\n",
      "2\n"
     ]
    },
    {
     "name": "stderr",
     "output_type": "stream",
     "text": [
      "Creating JSONs for Detectron2 on train:  60%|██████    | 13711/22719 [00:03<00:02, 3954.10it/s]"
     ]
    },
    {
     "name": "stdout",
     "output_type": "stream",
     "text": [
      "{'0': {'shape_attributes': {'name': 'polygon', 'all_points_x': [999, 1000, 1000, 999], 'all_points_y': [476, 474, 477, 476], 'category': 0}, 'region_attributes': {}}}\n",
      "{'0': {'shape_attributes': {'name': 'polygon', 'all_points_x': [999, 1000, 1000, 999], 'all_points_y': [476, 474, 477, 476], 'category': 0}, 'region_attributes': {}}, '1': {'shape_attributes': {'name': 'polygon', 'all_points_x': [999, 1000, 1000, 999], 'all_points_y': [476, 474, 477, 476], 'category': 0}, 'region_attributes': {}}}\n",
      "{'file_ref': '', 'size': 3403362, 'filename': '10_20220719_105318_SV1-04_SV_RD_8bit_RGB_50cm_Heel_19000_19000.png', 'base64_img_data': '', 'file_attributes': {}, 'regions': {'0': {'shape_attributes': {'name': 'polygon', 'all_points_x': [999, 1000, 1000, 999], 'all_points_y': [476, 474, 477, 476], 'category': 0}, 'region_attributes': {}}, '1': {'shape_attributes': {'name': 'polygon', 'all_points_x': [999, 1000, 1000, 999], 'all_points_y': [476, 474, 477, 476], 'category': 0}, 'region_attributes': {}}}, 'origin_x': 195456.0, 'origin_y': 355108.0}\n",
      "2\n",
      "{'0': {'shape_attributes': {'name': 'polygon', 'all_points_x': [173, 177, 205, 199, 220, 225, 352, 341, 363, 378, 418, 431, 413, 420, 422, 431, 432, 408, 402, 408, 405, 396, 390, 373, 379, 371, 374, 383, 387, 360, 358, 361, 358, 346, 340, 325, 328, 324, 328, 335, 339, 324, 316, 311, 314, 305, 276, 281, 286, 289, 264, 263, 259, 232, 232, 218, 211, 204, 181, 181, 149, 130, 152, 144, 173], 'all_points_y': [867, 895, 888, 862, 858, 882, 848, 808, 801, 852, 841, 892, 899, 927, 944, 943, 961, 972, 953, 952, 934, 937, 914, 920, 941, 944, 953, 953, 976, 986, 964, 962, 949, 951, 929, 935, 952, 956, 970, 969, 994, 1000, 1000, 979, 978, 950, 961, 985, 983, 1000, 1000, 992, 978, 983, 992, 1000, 1000, 989, 998, 1000, 1000, 915, 909, 876, 867], 'category': 0}, 'region_attributes': {}}}\n",
      "{'0': {'shape_attributes': {'name': 'polygon', 'all_points_x': [173, 177, 205, 199, 220, 225, 352, 341, 363, 378, 418, 431, 413, 420, 422, 431, 432, 408, 402, 408, 405, 396, 390, 373, 379, 371, 374, 383, 387, 360, 358, 361, 358, 346, 340, 325, 328, 324, 328, 335, 339, 324, 316, 311, 314, 305, 276, 281, 286, 289, 264, 263, 259, 232, 232, 218, 211, 204, 181, 181, 149, 130, 152, 144, 173], 'all_points_y': [867, 895, 888, 862, 858, 882, 848, 808, 801, 852, 841, 892, 899, 927, 944, 943, 961, 972, 953, 952, 934, 937, 914, 920, 941, 944, 953, 953, 976, 986, 964, 962, 949, 951, 929, 935, 952, 956, 970, 969, 994, 1000, 1000, 979, 978, 950, 961, 985, 983, 1000, 1000, 992, 978, 983, 992, 1000, 1000, 989, 998, 1000, 1000, 915, 909, 876, 867], 'category': 0}, 'region_attributes': {}}, '1': {'shape_attributes': {'name': 'polygon', 'all_points_x': [173, 177, 205, 199, 220, 225, 352, 341, 363, 378, 418, 431, 413, 420, 422, 431, 432, 408, 402, 408, 405, 396, 390, 373, 379, 371, 374, 383, 387, 360, 358, 361, 358, 346, 340, 325, 328, 324, 328, 335, 339, 324, 316, 311, 314, 305, 276, 281, 286, 289, 264, 263, 259, 232, 232, 218, 211, 204, 181, 181, 149, 130, 152, 144, 173], 'all_points_y': [867, 895, 888, 862, 858, 882, 848, 808, 801, 852, 841, 892, 899, 927, 944, 943, 961, 972, 953, 952, 934, 937, 914, 920, 941, 944, 953, 953, 976, 986, 964, 962, 949, 951, 929, 935, 952, 956, 970, 969, 994, 1000, 1000, 979, 978, 950, 961, 985, 983, 1000, 1000, 992, 978, 983, 992, 1000, 1000, 989, 998, 1000, 1000, 915, 909, 876, 867], 'category': 0}, 'region_attributes': {}}}\n",
      "{'file_ref': '', 'size': 3284976, 'filename': '8_20221009_105642_SV1-04_SV_RD_8bit_RGB_50cm_Lunteren_20000_17000.png', 'base64_img_data': '', 'file_attributes': {}, 'regions': {'0': {'shape_attributes': {'name': 'polygon', 'all_points_x': [173, 177, 205, 199, 220, 225, 352, 341, 363, 378, 418, 431, 413, 420, 422, 431, 432, 408, 402, 408, 405, 396, 390, 373, 379, 371, 374, 383, 387, 360, 358, 361, 358, 346, 340, 325, 328, 324, 328, 335, 339, 324, 316, 311, 314, 305, 276, 281, 286, 289, 264, 263, 259, 232, 232, 218, 211, 204, 181, 181, 149, 130, 152, 144, 173], 'all_points_y': [867, 895, 888, 862, 858, 882, 848, 808, 801, 852, 841, 892, 899, 927, 944, 943, 961, 972, 953, 952, 934, 937, 914, 920, 941, 944, 953, 953, 976, 986, 964, 962, 949, 951, 929, 935, 952, 956, 970, 969, 994, 1000, 1000, 979, 978, 950, 961, 985, 983, 1000, 1000, 992, 978, 983, 992, 1000, 1000, 989, 998, 1000, 1000, 915, 909, 876, 867], 'category': 0}, 'region_attributes': {}}, '1': {'shape_attributes': {'name': 'polygon', 'all_points_x': [173, 177, 205, 199, 220, 225, 352, 341, 363, 378, 418, 431, 413, 420, 422, 431, 432, 408, 402, 408, 405, 396, 390, 373, 379, 371, 374, 383, 387, 360, 358, 361, 358, 346, 340, 325, 328, 324, 328, 335, 339, 324, 316, 311, 314, 305, 276, 281, 286, 289, 264, 263, 259, 232, 232, 218, 211, 204, 181, 181, 149, 130, 152, 144, 173], 'all_points_y': [867, 895, 888, 862, 858, 882, 848, 808, 801, 852, 841, 892, 899, 927, 944, 943, 961, 972, 953, 952, 934, 937, 914, 920, 941, 944, 953, 953, 976, 986, 964, 962, 949, 951, 929, 935, 952, 956, 970, 969, 994, 1000, 1000, 979, 978, 950, 961, 985, 983, 1000, 1000, 992, 978, 983, 992, 1000, 1000, 989, 998, 1000, 1000, 915, 909, 876, 867], 'category': 0}, 'region_attributes': {}}}, 'origin_x': 173920.0, 'origin_y': 452346.0}\n",
      "2\n",
      "{'0': {'shape_attributes': {'name': 'polygon', 'all_points_x': [21, 2, 19, 34, 62, 53, 47, 36, 39, 34, 45, 8, 0, 0, 21], 'all_points_y': [299, 314, 330, 310, 345, 354, 345, 360, 362, 371, 385, 435, 411, 275, 299], 'category': 0}, 'region_attributes': {}}}\n",
      "{'0': {'shape_attributes': {'name': 'polygon', 'all_points_x': [21, 2, 19, 34, 62, 53, 47, 36, 39, 34, 45, 8, 0, 0, 21], 'all_points_y': [299, 314, 330, 310, 345, 354, 345, 360, 362, 371, 385, 435, 411, 275, 299], 'category': 0}, 'region_attributes': {}}, '1': {'shape_attributes': {'name': 'polygon', 'all_points_x': [21, 2, 19, 34, 62, 53, 47, 36, 39, 34, 45, 8, 0, 0, 21], 'all_points_y': [299, 314, 330, 310, 345, 354, 345, 360, 362, 371, 385, 435, 411, 275, 299], 'category': 0}, 'region_attributes': {}}}\n",
      "{'file_ref': '', 'size': 3192508, 'filename': '20_20220729_103928_SV2-01_SV_RD_8bit_RGB_50cm_Nuenen_25000_3000.png', 'base64_img_data': '', 'file_attributes': {}, 'regions': {'0': {'shape_attributes': {'name': 'polygon', 'all_points_x': [21, 2, 19, 34, 62, 53, 47, 36, 39, 34, 45, 8, 0, 0, 21], 'all_points_y': [299, 314, 330, 310, 345, 354, 345, 360, 362, 371, 385, 435, 411, 275, 299], 'category': 0}, 'region_attributes': {}}, '1': {'shape_attributes': {'name': 'polygon', 'all_points_x': [21, 2, 19, 34, 62, 53, 47, 36, 39, 34, 45, 8, 0, 0, 21], 'all_points_y': [299, 314, 330, 310, 345, 354, 345, 360, 362, 371, 385, 435, 411, 275, 299], 'category': 0}, 'region_attributes': {}}}, 'origin_x': 159036.0, 'origin_y': 386054.0}\n",
      "3\n",
      "{'0': {'shape_attributes': {'name': 'polygon', 'all_points_x': [833, 873, 842, 865, 891, 912, 870, 895, 935, 950, 917, 943, 983, 1000, 1000, 995, 974, 1000, 1000, 985, 958, 937, 971, 945, 911, 818, 846, 824, 795, 783, 813, 788, 774, 783, 769, 757, 703, 725, 690, 709, 736, 753, 728, 717, 684, 774, 833], 'all_points_y': [278, 247, 202, 188, 234, 221, 162, 142, 208, 192, 147, 118, 177, 166, 286, 277, 297, 337, 348, 358, 308, 328, 378, 397, 337, 418, 468, 488, 438, 447, 490, 512, 495, 482, 453, 464, 393, 373, 325, 307, 355, 336, 283, 292, 253, 187, 278], 'category': 0}, 'region_attributes': {}}}\n",
      "{'0': {'shape_attributes': {'name': 'polygon', 'all_points_x': [833, 873, 842, 865, 891, 912, 870, 895, 935, 950, 917, 943, 983, 1000, 1000, 995, 974, 1000, 1000, 985, 958, 937, 971, 945, 911, 818, 846, 824, 795, 783, 813, 788, 774, 783, 769, 757, 703, 725, 690, 709, 736, 753, 728, 717, 684, 774, 833], 'all_points_y': [278, 247, 202, 188, 234, 221, 162, 142, 208, 192, 147, 118, 177, 166, 286, 277, 297, 337, 348, 358, 308, 328, 378, 397, 337, 418, 468, 488, 438, 447, 490, 512, 495, 482, 453, 464, 393, 373, 325, 307, 355, 336, 283, 292, 253, 187, 278], 'category': 0}, 'region_attributes': {}}, '1': {'shape_attributes': {'name': 'polygon', 'all_points_x': [415, 396, 424, 413, 381, 345, 397, 369, 180, 126, 87, 31, 77, 66, 6, 0, 0, 54, 38, 591, 415], 'all_points_y': [131, 105, 85, 68, 6, 32, 94, 114, 263, 184, 216, 142, 96, 74, 117, 105, 74, 34, 0, 0, 131], 'category': 0}, 'region_attributes': {}}}\n",
      "{'0': {'shape_attributes': {'name': 'polygon', 'all_points_x': [833, 873, 842, 865, 891, 912, 870, 895, 935, 950, 917, 943, 983, 1000, 1000, 995, 974, 1000, 1000, 985, 958, 937, 971, 945, 911, 818, 846, 824, 795, 783, 813, 788, 774, 783, 769, 757, 703, 725, 690, 709, 736, 753, 728, 717, 684, 774, 833], 'all_points_y': [278, 247, 202, 188, 234, 221, 162, 142, 208, 192, 147, 118, 177, 166, 286, 277, 297, 337, 348, 358, 308, 328, 378, 397, 337, 418, 468, 488, 438, 447, 490, 512, 495, 482, 453, 464, 393, 373, 325, 307, 355, 336, 283, 292, 253, 187, 278], 'category': 0}, 'region_attributes': {}}, '1': {'shape_attributes': {'name': 'polygon', 'all_points_x': [415, 396, 424, 413, 381, 345, 397, 369, 180, 126, 87, 31, 77, 66, 6, 0, 0, 54, 38, 591, 415], 'all_points_y': [131, 105, 85, 68, 6, 32, 94, 114, 263, 184, 216, 142, 96, 74, 117, 105, 74, 34, 0, 0, 131], 'category': 0}, 'region_attributes': {}}, '2': {'shape_attributes': {'name': 'polygon', 'all_points_x': [415, 396, 424, 413, 381, 345, 397, 369, 180, 126, 87, 31, 77, 66, 6, 0, 0, 54, 38, 591, 415], 'all_points_y': [131, 105, 85, 68, 6, 32, 94, 114, 263, 184, 216, 142, 96, 74, 117, 105, 74, 34, 0, 0, 131], 'category': 0}, 'region_attributes': {}}}\n",
      "{'file_ref': '', 'size': 3250406, 'filename': '10_20220719_105318_SV1-04_SV_RD_8bit_RGB_50cm_Heel_27000_12000.png', 'base64_img_data': '', 'file_attributes': {}, 'regions': {'0': {'shape_attributes': {'name': 'polygon', 'all_points_x': [833, 873, 842, 865, 891, 912, 870, 895, 935, 950, 917, 943, 983, 1000, 1000, 995, 974, 1000, 1000, 985, 958, 937, 971, 945, 911, 818, 846, 824, 795, 783, 813, 788, 774, 783, 769, 757, 703, 725, 690, 709, 736, 753, 728, 717, 684, 774, 833], 'all_points_y': [278, 247, 202, 188, 234, 221, 162, 142, 208, 192, 147, 118, 177, 166, 286, 277, 297, 337, 348, 358, 308, 328, 378, 397, 337, 418, 468, 488, 438, 447, 490, 512, 495, 482, 453, 464, 393, 373, 325, 307, 355, 336, 283, 292, 253, 187, 278], 'category': 0}, 'region_attributes': {}}, '1': {'shape_attributes': {'name': 'polygon', 'all_points_x': [415, 396, 424, 413, 381, 345, 397, 369, 180, 126, 87, 31, 77, 66, 6, 0, 0, 54, 38, 591, 415], 'all_points_y': [131, 105, 85, 68, 6, 32, 94, 114, 263, 184, 216, 142, 96, 74, 117, 105, 74, 34, 0, 0, 131], 'category': 0}, 'region_attributes': {}}, '2': {'shape_attributes': {'name': 'polygon', 'all_points_x': [415, 396, 424, 413, 381, 345, 397, 369, 180, 126, 87, 31, 77, 66, 6, 0, 0, 54, 38, 591, 415], 'all_points_y': [131, 105, 85, 68, 6, 32, 94, 114, 263, 184, 216, 142, 96, 74, 117, 105, 74, 34, 0, 0, 131], 'category': 0}, 'region_attributes': {}}}, 'origin_x': 191956.0, 'origin_y': 351108.0}\n",
      "2\n",
      "{'0': {'shape_attributes': {'name': 'polygon', 'all_points_x': [851, 837, 854, 847, 827, 813, 835, 843, 853, 858, 863, 870, 857, 864, 919, 905, 899, 851], 'all_points_y': [895, 881, 859, 850, 875, 858, 834, 819, 811, 804, 811, 803, 795, 787, 836, 840, 833, 895], 'category': 0}, 'region_attributes': {}}}\n",
      "{'0': {'shape_attributes': {'name': 'polygon', 'all_points_x': [851, 837, 854, 847, 827, 813, 835, 843, 853, 858, 863, 870, 857, 864, 919, 905, 899, 851], 'all_points_y': [895, 881, 859, 850, 875, 858, 834, 819, 811, 804, 811, 803, 795, 787, 836, 840, 833, 895], 'category': 0}, 'region_attributes': {}}, '1': {'shape_attributes': {'name': 'polygon', 'all_points_x': [851, 837, 854, 847, 827, 813, 835, 843, 853, 858, 863, 870, 857, 864, 919, 905, 899, 851], 'all_points_y': [895, 881, 859, 850, 875, 858, 834, 819, 811, 804, 811, 803, 795, 787, 836, 840, 833, 895], 'category': 0}, 'region_attributes': {}}}\n",
      "{'file_ref': '', 'size': 2812290, 'filename': '12_20220719_105242_SV1-04_SV_RD_8bit_RGB_50cm_Eemshaven_28000_21000.png', 'base64_img_data': '', 'file_attributes': {}, 'regions': {'0': {'shape_attributes': {'name': 'polygon', 'all_points_x': [851, 837, 854, 847, 827, 813, 835, 843, 853, 858, 863, 870, 857, 864, 919, 905, 899, 851], 'all_points_y': [895, 881, 859, 850, 875, 858, 834, 819, 811, 804, 811, 803, 795, 787, 836, 840, 833, 895], 'category': 0}, 'region_attributes': {}}, '1': {'shape_attributes': {'name': 'polygon', 'all_points_x': [851, 837, 854, 847, 827, 813, 835, 843, 853, 858, 863, 870, 857, 864, 919, 905, 899, 851], 'all_points_y': [895, 881, 859, 850, 875, 858, 834, 819, 811, 804, 811, 803, 795, 787, 836, 840, 833, 895], 'category': 0}, 'region_attributes': {}}}, 'origin_x': 253098.0, 'origin_y': 606282.0}\n"
     ]
    },
    {
     "name": "stderr",
     "output_type": "stream",
     "text": [
      "Creating JSONs for Detectron2 on train:  67%|██████▋   | 15239/22719 [00:03<00:01, 5553.88it/s]"
     ]
    },
    {
     "name": "stdout",
     "output_type": "stream",
     "text": [
      "2\n",
      "{'0': {'shape_attributes': {'name': 'polygon', 'all_points_x': [362, 526, 559, 548, 551, 562, 572, 514, 500, 490, 503, 482, 468, 459, 475, 453, 441, 428, 444, 422, 412, 402, 415, 395, 383, 370, 386, 360, 348, 312, 337, 305, 292, 283, 249, 361, 358, 252, 245, 351, 342, 242, 234, 334, 362], 'all_points_y': [810, 746, 830, 839, 858, 850, 874, 896, 854, 859, 898, 903, 867, 870, 911, 919, 878, 883, 921, 929, 891, 896, 936, 942, 900, 905, 946, 958, 913, 924, 966, 984, 944, 948, 862, 819, 811, 850, 840, 801, 779, 816, 796, 759, 810], 'category': 0}, 'region_attributes': {}}}\n",
      "{'0': {'shape_attributes': {'name': 'polygon', 'all_points_x': [362, 526, 559, 548, 551, 562, 572, 514, 500, 490, 503, 482, 468, 459, 475, 453, 441, 428, 444, 422, 412, 402, 415, 395, 383, 370, 386, 360, 348, 312, 337, 305, 292, 283, 249, 361, 358, 252, 245, 351, 342, 242, 234, 334, 362], 'all_points_y': [810, 746, 830, 839, 858, 850, 874, 896, 854, 859, 898, 903, 867, 870, 911, 919, 878, 883, 921, 929, 891, 896, 936, 942, 900, 905, 946, 958, 913, 924, 966, 984, 944, 948, 862, 819, 811, 850, 840, 801, 779, 816, 796, 759, 810], 'category': 0}, 'region_attributes': {}}, '1': {'shape_attributes': {'name': 'polygon', 'all_points_x': [362, 526, 559, 548, 551, 562, 572, 514, 500, 490, 503, 482, 468, 459, 475, 453, 441, 428, 444, 422, 412, 402, 415, 395, 383, 370, 386, 360, 348, 312, 337, 305, 292, 283, 249, 361, 358, 252, 245, 351, 342, 242, 234, 334, 362], 'all_points_y': [810, 746, 830, 839, 858, 850, 874, 896, 854, 859, 898, 903, 867, 870, 911, 919, 878, 883, 921, 929, 891, 896, 936, 942, 900, 905, 946, 958, 913, 924, 966, 984, 944, 948, 862, 819, 811, 850, 840, 801, 779, 816, 796, 759, 810], 'category': 0}, 'region_attributes': {}}}\n",
      "{'file_ref': '', 'size': 2141469, 'filename': '32_20221012_104910_SV2-01_SV_RD_8bit_RGB_50cm_Fijnaart_6000_25000.png', 'base64_img_data': '', 'file_attributes': {}, 'regions': {'0': {'shape_attributes': {'name': 'polygon', 'all_points_x': [362, 526, 559, 548, 551, 562, 572, 514, 500, 490, 503, 482, 468, 459, 475, 453, 441, 428, 444, 422, 412, 402, 415, 395, 383, 370, 386, 360, 348, 312, 337, 305, 292, 283, 249, 361, 358, 252, 245, 351, 342, 242, 234, 334, 362], 'all_points_y': [810, 746, 830, 839, 858, 850, 874, 896, 854, 859, 898, 903, 867, 870, 911, 919, 878, 883, 921, 929, 891, 896, 936, 942, 900, 905, 946, 958, 913, 924, 966, 984, 944, 948, 862, 819, 811, 850, 840, 801, 779, 816, 796, 759, 810], 'category': 0}, 'region_attributes': {}}, '1': {'shape_attributes': {'name': 'polygon', 'all_points_x': [362, 526, 559, 548, 551, 562, 572, 514, 500, 490, 503, 482, 468, 459, 475, 453, 441, 428, 444, 422, 412, 402, 415, 395, 383, 370, 386, 360, 348, 312, 337, 305, 292, 283, 249, 361, 358, 252, 245, 351, 342, 242, 234, 334, 362], 'all_points_y': [810, 746, 830, 839, 858, 850, 874, 896, 854, 859, 898, 903, 867, 870, 911, 919, 878, 883, 921, 929, 891, 896, 936, 942, 900, 905, 946, 958, 913, 924, 966, 984, 944, 948, 862, 819, 811, 850, 840, 801, 779, 816, 796, 759, 810], 'category': 0}, 'region_attributes': {}}}, 'origin_x': 99094.0, 'origin_y': 409094.0}\n",
      "2\n",
      "{'0': {'shape_attributes': {'name': 'polygon', 'all_points_x': [611, 597, 595, 567, 567, 553, 551, 564, 571, 568, 556, 557, 539, 536, 582, 581, 595, 598, 611], 'all_points_y': [453, 454, 449, 453, 458, 459, 436, 435, 424, 408, 410, 414, 416, 388, 380, 372, 369, 379, 453], 'category': 0}, 'region_attributes': {}}}\n",
      "{'0': {'shape_attributes': {'name': 'polygon', 'all_points_x': [611, 597, 595, 567, 567, 553, 551, 564, 571, 568, 556, 557, 539, 536, 582, 581, 595, 598, 611], 'all_points_y': [453, 454, 449, 453, 458, 459, 436, 435, 424, 408, 410, 414, 416, 388, 380, 372, 369, 379, 453], 'category': 0}, 'region_attributes': {}}, '1': {'shape_attributes': {'name': 'polygon', 'all_points_x': [611, 597, 595, 567, 567, 553, 551, 564, 571, 568, 556, 557, 539, 536, 582, 581, 595, 598, 611], 'all_points_y': [453, 454, 449, 453, 458, 459, 436, 435, 424, 408, 410, 414, 416, 388, 380, 372, 369, 379, 453], 'category': 0}, 'region_attributes': {}}}\n",
      "{'file_ref': '', 'size': 253751, 'filename': '32_20221012_104910_SV2-01_SV_RD_8bit_RGB_50cm_Fijnaart_32000_5000.png', 'base64_img_data': '', 'file_attributes': {}, 'regions': {'0': {'shape_attributes': {'name': 'polygon', 'all_points_x': [611, 597, 595, 567, 567, 553, 551, 564, 571, 568, 556, 557, 539, 536, 582, 581, 595, 598, 611], 'all_points_y': [453, 454, 449, 453, 458, 459, 436, 435, 424, 408, 410, 414, 416, 388, 380, 372, 369, 379, 453], 'category': 0}, 'region_attributes': {}}, '1': {'shape_attributes': {'name': 'polygon', 'all_points_x': [611, 597, 595, 567, 567, 553, 551, 564, 571, 568, 556, 557, 539, 536, 582, 581, 595, 598, 611], 'all_points_y': [453, 454, 449, 453, 458, 459, 436, 435, 424, 408, 410, 414, 416, 388, 380, 372, 369, 379, 453], 'category': 0}, 'region_attributes': {}}}, 'origin_x': 89094.0, 'origin_y': 396094.0}\n",
      "2\n",
      "{'0': {'shape_attributes': {'name': 'polygon', 'all_points_x': [40, 0, 0, 39, 40], 'all_points_y': [11, 10, 0, 0, 11], 'category': 0}, 'region_attributes': {}}}\n",
      "{'0': {'shape_attributes': {'name': 'polygon', 'all_points_x': [40, 0, 0, 39, 40], 'all_points_y': [11, 10, 0, 0, 11], 'category': 0}, 'region_attributes': {}}, '1': {'shape_attributes': {'name': 'polygon', 'all_points_x': [40, 0, 0, 39, 40], 'all_points_y': [11, 10, 0, 0, 11], 'category': 0}, 'region_attributes': {}}}\n",
      "{'file_ref': '', 'size': 66462, 'filename': '20_20220729_103928_SV2-01_SV_RD_8bit_RGB_50cm_Nuenen_37000_6000.png', 'base64_img_data': '', 'file_attributes': {}, 'regions': {'0': {'shape_attributes': {'name': 'polygon', 'all_points_x': [40, 0, 0, 39, 40], 'all_points_y': [11, 10, 0, 0, 11], 'category': 0}, 'region_attributes': {}}, '1': {'shape_attributes': {'name': 'polygon', 'all_points_x': [40, 0, 0, 39, 40], 'all_points_y': [11, 10, 0, 0, 11], 'category': 0}, 'region_attributes': {}}}, 'origin_x': 160536.0, 'origin_y': 380054.0}\n",
      "3\n",
      "{'0': {'shape_attributes': {'name': 'polygon', 'all_points_x': [884, 918, 939, 919, 930, 952, 957, 965, 974, 952, 966, 985, 991, 1000, 1000, 971, 935, 900, 878, 843, 884], 'all_points_y': [115, 135, 96, 84, 62, 78, 70, 73, 57, 45, 27, 39, 30, 38, 80, 121, 183, 160, 202, 179, 115], 'category': 0}, 'region_attributes': {}}}\n",
      "{'0': {'shape_attributes': {'name': 'polygon', 'all_points_x': [884, 918, 939, 919, 930, 952, 957, 965, 974, 952, 966, 985, 991, 1000, 1000, 971, 935, 900, 878, 843, 884], 'all_points_y': [115, 135, 96, 84, 62, 78, 70, 73, 57, 45, 27, 39, 30, 38, 80, 121, 183, 160, 202, 179, 115], 'category': 0}, 'region_attributes': {}}, '1': {'shape_attributes': {'name': 'polygon', 'all_points_x': [915, 810, 946, 1000, 1000, 915], 'all_points_y': [276, 202, 0, 0, 154, 276], 'category': 0}, 'region_attributes': {}}}\n",
      "{'0': {'shape_attributes': {'name': 'polygon', 'all_points_x': [884, 918, 939, 919, 930, 952, 957, 965, 974, 952, 966, 985, 991, 1000, 1000, 971, 935, 900, 878, 843, 884], 'all_points_y': [115, 135, 96, 84, 62, 78, 70, 73, 57, 45, 27, 39, 30, 38, 80, 121, 183, 160, 202, 179, 115], 'category': 0}, 'region_attributes': {}}, '1': {'shape_attributes': {'name': 'polygon', 'all_points_x': [915, 810, 946, 1000, 1000, 915], 'all_points_y': [276, 202, 0, 0, 154, 276], 'category': 0}, 'region_attributes': {}}, '2': {'shape_attributes': {'name': 'polygon', 'all_points_x': [915, 810, 946, 1000, 1000, 915], 'all_points_y': [276, 202, 0, 0, 154, 276], 'category': 0}, 'region_attributes': {}}}\n",
      "{'file_ref': '', 'size': 3206795, 'filename': '33_20220714_105920_SV1-03_SV_RD_8bit_RGB_50cm_Oploo_16000_21000.png', 'base64_img_data': '', 'file_attributes': {}, 'regions': {'0': {'shape_attributes': {'name': 'polygon', 'all_points_x': [884, 918, 939, 919, 930, 952, 957, 965, 974, 952, 966, 985, 991, 1000, 1000, 971, 935, 900, 878, 843, 884], 'all_points_y': [115, 135, 96, 84, 62, 78, 70, 73, 57, 45, 27, 39, 30, 38, 80, 121, 183, 160, 202, 179, 115], 'category': 0}, 'region_attributes': {}}, '1': {'shape_attributes': {'name': 'polygon', 'all_points_x': [915, 810, 946, 1000, 1000, 915], 'all_points_y': [276, 202, 0, 0, 154, 276], 'category': 0}, 'region_attributes': {}}, '2': {'shape_attributes': {'name': 'polygon', 'all_points_x': [915, 810, 946, 1000, 1000, 915], 'all_points_y': [276, 202, 0, 0, 154, 276], 'category': 0}, 'region_attributes': {}}}, 'origin_x': 190930.0, 'origin_y': 405718.0}\n",
      "2\n",
      "{'0': {'shape_attributes': {'name': 'polygon', 'all_points_x': [470, 414, 415, 356, 330, 314, 278, 232, 137, 139, 207, 206, 53, 62, 21, 15, 0, 0, 6, 7, 0, 0, 11, 11, 0, 0, 470, 470], 'all_points_y': [49, 53, 92, 92, 92, 92, 90, 91, 92, 214, 206, 311, 314, 275, 315, 200, 203, 155, 154, 128, 128, 82, 82, 37, 37, 0, 0, 49], 'category': 0}, 'region_attributes': {}}}\n",
      "{'0': {'shape_attributes': {'name': 'polygon', 'all_points_x': [470, 414, 415, 356, 330, 314, 278, 232, 137, 139, 207, 206, 53, 62, 21, 15, 0, 0, 6, 7, 0, 0, 11, 11, 0, 0, 470, 470], 'all_points_y': [49, 53, 92, 92, 92, 92, 90, 91, 92, 214, 206, 311, 314, 275, 315, 200, 203, 155, 154, 128, 128, 82, 82, 37, 37, 0, 0, 49], 'category': 0}, 'region_attributes': {}}, '1': {'shape_attributes': {'name': 'polygon', 'all_points_x': [470, 414, 415, 356, 330, 314, 278, 232, 137, 139, 207, 206, 53, 62, 21, 15, 0, 0, 6, 7, 0, 0, 11, 11, 0, 0, 470, 470], 'all_points_y': [49, 53, 92, 92, 92, 92, 90, 91, 92, 214, 206, 311, 314, 275, 315, 200, 203, 155, 154, 128, 128, 82, 82, 37, 37, 0, 0, 49], 'category': 0}, 'region_attributes': {}}}\n",
      "{'file_ref': '', 'size': 3103903, 'filename': '16_20220730_110228_SV2-01_SV_RD_8bit_RGB_50cm_Ketelmeer_12000_21000.png', 'base64_img_data': '', 'file_attributes': {}, 'regions': {'0': {'shape_attributes': {'name': 'polygon', 'all_points_x': [470, 414, 415, 356, 330, 314, 278, 232, 137, 139, 207, 206, 53, 62, 21, 15, 0, 0, 6, 7, 0, 0, 11, 11, 0, 0, 470, 470], 'all_points_y': [49, 53, 92, 92, 92, 92, 90, 91, 92, 214, 206, 311, 314, 275, 315, 200, 203, 155, 154, 128, 128, 82, 82, 37, 37, 0, 0, 49], 'category': 0}, 'region_attributes': {}}, '1': {'shape_attributes': {'name': 'polygon', 'all_points_x': [470, 414, 415, 356, 330, 314, 278, 232, 137, 139, 207, 206, 53, 62, 21, 15, 0, 0, 6, 7, 0, 0, 11, 11, 0, 0, 470, 470], 'all_points_y': [49, 53, 92, 92, 92, 92, 90, 91, 92, 214, 206, 311, 314, 275, 315, 200, 203, 155, 154, 128, 128, 82, 82, 37, 37, 0, 0, 49], 'category': 0}, 'region_attributes': {}}}, 'origin_x': 183486.0, 'origin_y': 514507.0}\n",
      "3\n",
      "{'0': {'shape_attributes': {'name': 'polygon', 'all_points_x': [738, 760, 770, 800, 814, 790, 859, 880, 891, 880, 871, 857, 763, 742, 743, 733, 719, 691, 728, 708, 716, 681, 738], 'all_points_y': [8, 43, 34, 28, 47, 64, 160, 139, 150, 178, 177, 172, 248, 219, 207, 192, 200, 161, 135, 107, 101, 52, 8], 'category': 0}, 'region_attributes': {}}}\n",
      "{'0': {'shape_attributes': {'name': 'polygon', 'all_points_x': [738, 760, 770, 800, 814, 790, 859, 880, 891, 880, 871, 857, 763, 742, 743, 733, 719, 691, 728, 708, 716, 681, 738], 'all_points_y': [8, 43, 34, 28, 47, 64, 160, 139, 150, 178, 177, 172, 248, 219, 207, 192, 200, 161, 135, 107, 101, 52, 8], 'category': 0}, 'region_attributes': {}}, '1': {'shape_attributes': {'name': 'polygon', 'all_points_x': [738, 760, 770, 800, 814, 790, 859, 880, 891, 880, 871, 857, 763, 742, 743, 733, 719, 691, 728, 708, 716, 681, 738], 'all_points_y': [8, 43, 34, 28, 47, 64, 160, 139, 150, 178, 177, 172, 248, 219, 207, 192, 200, 161, 135, 107, 101, 52, 8], 'category': 0}, 'region_attributes': {}}}\n",
      "{'0': {'shape_attributes': {'name': 'polygon', 'all_points_x': [738, 760, 770, 800, 814, 790, 859, 880, 891, 880, 871, 857, 763, 742, 743, 733, 719, 691, 728, 708, 716, 681, 738], 'all_points_y': [8, 43, 34, 28, 47, 64, 160, 139, 150, 178, 177, 172, 248, 219, 207, 192, 200, 161, 135, 107, 101, 52, 8], 'category': 0}, 'region_attributes': {}}, '1': {'shape_attributes': {'name': 'polygon', 'all_points_x': [738, 760, 770, 800, 814, 790, 859, 880, 891, 880, 871, 857, 763, 742, 743, 733, 719, 691, 728, 708, 716, 681, 738], 'all_points_y': [8, 43, 34, 28, 47, 64, 160, 139, 150, 178, 177, 172, 248, 219, 207, 192, 200, 161, 135, 107, 101, 52, 8], 'category': 0}, 'region_attributes': {}}, '2': {'shape_attributes': {'name': 'polygon', 'all_points_x': [738, 760, 770, 800, 814, 790, 859, 880, 891, 880, 871, 857, 763, 742, 743, 733, 719, 691, 728, 708, 716, 681, 738], 'all_points_y': [8, 43, 34, 28, 47, 64, 160, 139, 150, 178, 177, 172, 248, 219, 207, 192, 200, 161, 135, 107, 101, 52, 8], 'category': 0}, 'region_attributes': {}}}\n",
      "{'file_ref': '', 'size': 3408288, 'filename': '24_20221009_105649_SV1-04_SV_RD_8bit_RGB_50cm_Schijndel_23000_16000.png', 'base64_img_data': '', 'file_attributes': {}, 'regions': {'0': {'shape_attributes': {'name': 'polygon', 'all_points_x': [738, 760, 770, 800, 814, 790, 859, 880, 891, 880, 871, 857, 763, 742, 743, 733, 719, 691, 728, 708, 716, 681, 738], 'all_points_y': [8, 43, 34, 28, 47, 64, 160, 139, 150, 178, 177, 172, 248, 219, 207, 192, 200, 161, 135, 107, 101, 52, 8], 'category': 0}, 'region_attributes': {}}, '1': {'shape_attributes': {'name': 'polygon', 'all_points_x': [738, 760, 770, 800, 814, 790, 859, 880, 891, 880, 871, 857, 763, 742, 743, 733, 719, 691, 728, 708, 716, 681, 738], 'all_points_y': [8, 43, 34, 28, 47, 64, 160, 139, 150, 178, 177, 172, 248, 219, 207, 192, 200, 161, 135, 107, 101, 52, 8], 'category': 0}, 'region_attributes': {}}, '2': {'shape_attributes': {'name': 'polygon', 'all_points_x': [738, 760, 770, 800, 814, 790, 859, 880, 891, 880, 871, 857, 763, 742, 743, 733, 719, 691, 728, 708, 716, 681, 738], 'all_points_y': [8, 43, 34, 28, 47, 64, 160, 139, 150, 178, 177, 172, 248, 219, 207, 192, 200, 161, 135, 107, 101, 52, 8], 'category': 0}, 'region_attributes': {}}}, 'origin_x': 161736.5, 'origin_y': 401990.0}\n"
     ]
    },
    {
     "name": "stderr",
     "output_type": "stream",
     "text": [
      "Creating JSONs for Detectron2 on train:  72%|███████▏  | 16419/22719 [00:03<00:01, 5484.62it/s]"
     ]
    },
    {
     "name": "stdout",
     "output_type": "stream",
     "text": [
      "2\n",
      "{'0': {'shape_attributes': {'name': 'polygon', 'all_points_x': [95, 63, 101, 112, 111, 95], 'all_points_y': [39, 0, 0, 14, 21, 39], 'category': 0}, 'region_attributes': {}}}\n",
      "{'0': {'shape_attributes': {'name': 'polygon', 'all_points_x': [95, 63, 101, 112, 111, 95], 'all_points_y': [39, 0, 0, 14, 21, 39], 'category': 0}, 'region_attributes': {}}, '1': {'shape_attributes': {'name': 'polygon', 'all_points_x': [95, 63, 101, 112, 111, 95], 'all_points_y': [39, 0, 0, 14, 21, 39], 'category': 0}, 'region_attributes': {}}}\n",
      "{'file_ref': '', 'size': 3434636, 'filename': '25_20220906_104605_SV1-03_SV_RD_8bit_RGB_50cm_Heerlen_17000_18000.png', 'base64_img_data': '', 'file_attributes': {}, 'regions': {'0': {'shape_attributes': {'name': 'polygon', 'all_points_x': [95, 63, 101, 112, 111, 95], 'all_points_y': [39, 0, 0, 14, 21, 39], 'category': 0}, 'region_attributes': {}}, '1': {'shape_attributes': {'name': 'polygon', 'all_points_x': [95, 63, 101, 112, 111, 95], 'all_points_y': [39, 0, 0, 14, 21, 39], 'category': 0}, 'region_attributes': {}}}, 'origin_x': 199436.0, 'origin_y': 320092.0}\n",
      "2\n",
      "{'0': {'shape_attributes': {'name': 'polygon', 'all_points_x': [750, 715, 695, 691, 732, 717, 700, 673, 713, 670, 638, 616, 590, 575, 521, 676, 760, 750], 'all_points_y': [104, 80, 100, 106, 132, 147, 138, 179, 214, 273, 245, 269, 243, 263, 220, 25, 90, 104], 'category': 0}, 'region_attributes': {}}}\n",
      "{'0': {'shape_attributes': {'name': 'polygon', 'all_points_x': [750, 715, 695, 691, 732, 717, 700, 673, 713, 670, 638, 616, 590, 575, 521, 676, 760, 750], 'all_points_y': [104, 80, 100, 106, 132, 147, 138, 179, 214, 273, 245, 269, 243, 263, 220, 25, 90, 104], 'category': 0}, 'region_attributes': {}}, '1': {'shape_attributes': {'name': 'polygon', 'all_points_x': [750, 715, 695, 691, 732, 717, 700, 673, 713, 670, 638, 616, 590, 575, 521, 676, 760, 750], 'all_points_y': [104, 80, 100, 106, 132, 147, 138, 179, 214, 273, 245, 269, 243, 263, 220, 25, 90, 104], 'category': 0}, 'region_attributes': {}}}\n",
      "{'file_ref': '', 'size': 2996226, 'filename': '30_20220719_105317_SV1-04_SV_RD_8bit_RGB_50cm_Helden_16000_15000.png', 'base64_img_data': '', 'file_attributes': {}, 'regions': {'0': {'shape_attributes': {'name': 'polygon', 'all_points_x': [750, 715, 695, 691, 732, 717, 700, 673, 713, 670, 638, 616, 590, 575, 521, 676, 760, 750], 'all_points_y': [104, 80, 100, 106, 132, 147, 138, 179, 214, 273, 245, 269, 243, 263, 220, 25, 90, 104], 'category': 0}, 'region_attributes': {}}, '1': {'shape_attributes': {'name': 'polygon', 'all_points_x': [750, 715, 695, 691, 732, 717, 700, 673, 713, 670, 638, 616, 590, 575, 521, 676, 760, 750], 'all_points_y': [104, 80, 100, 106, 132, 147, 138, 179, 214, 273, 245, 269, 243, 263, 220, 25, 90, 104], 'category': 0}, 'region_attributes': {}}}, 'origin_x': 196195.5, 'origin_y': 368854.0}\n",
      "2\n",
      "{'0': {'shape_attributes': {'name': 'polygon', 'all_points_x': [634, 646, 669, 657, 671, 681, 713, 702, 737, 749, 777, 762, 781, 795, 834, 803, 764, 757, 730, 743, 718, 707, 663, 671, 609, 598, 567, 572, 564, 588, 620, 634], 'all_points_y': [254, 222, 233, 262, 269, 243, 257, 288, 307, 274, 289, 325, 333, 296, 313, 397, 377, 398, 381, 354, 350, 375, 350, 329, 301, 323, 299, 285, 279, 226, 240, 254], 'category': 0}, 'region_attributes': {}}}\n",
      "{'0': {'shape_attributes': {'name': 'polygon', 'all_points_x': [634, 646, 669, 657, 671, 681, 713, 702, 737, 749, 777, 762, 781, 795, 834, 803, 764, 757, 730, 743, 718, 707, 663, 671, 609, 598, 567, 572, 564, 588, 620, 634], 'all_points_y': [254, 222, 233, 262, 269, 243, 257, 288, 307, 274, 289, 325, 333, 296, 313, 397, 377, 398, 381, 354, 350, 375, 350, 329, 301, 323, 299, 285, 279, 226, 240, 254], 'category': 0}, 'region_attributes': {}}, '1': {'shape_attributes': {'name': 'polygon', 'all_points_x': [634, 646, 669, 657, 671, 681, 713, 702, 737, 749, 777, 762, 781, 795, 834, 803, 764, 757, 730, 743, 718, 707, 663, 671, 609, 598, 567, 572, 564, 588, 620, 634], 'all_points_y': [254, 222, 233, 262, 269, 243, 257, 288, 307, 274, 289, 325, 333, 296, 313, 397, 377, 398, 381, 354, 350, 375, 350, 329, 301, 323, 299, 285, 279, 226, 240, 254], 'category': 0}, 'region_attributes': {}}}\n",
      "{'file_ref': '', 'size': 2696204, 'filename': '2_20220724_110844_SV1-04_SV_RD_8bit_RGB_50cm_Dongen_25000_22000.png', 'base64_img_data': '', 'file_attributes': {}, 'regions': {'0': {'shape_attributes': {'name': 'polygon', 'all_points_x': [634, 646, 669, 657, 671, 681, 713, 702, 737, 749, 777, 762, 781, 795, 834, 803, 764, 757, 730, 743, 718, 707, 663, 671, 609, 598, 567, 572, 564, 588, 620, 634], 'all_points_y': [254, 222, 233, 262, 269, 243, 257, 288, 307, 274, 289, 325, 333, 296, 313, 397, 377, 398, 381, 354, 350, 375, 350, 329, 301, 323, 299, 285, 279, 226, 240, 254], 'category': 0}, 'region_attributes': {}}, '1': {'shape_attributes': {'name': 'polygon', 'all_points_x': [634, 646, 669, 657, 671, 681, 713, 702, 737, 749, 777, 762, 781, 795, 834, 803, 764, 757, 730, 743, 718, 707, 663, 671, 609, 598, 567, 572, 564, 588, 620, 634], 'all_points_y': [254, 222, 233, 262, 269, 243, 257, 288, 307, 274, 289, 325, 333, 296, 313, 397, 377, 398, 381, 354, 350, 375, 350, 329, 301, 323, 299, 285, 279, 226, 240, 254], 'category': 0}, 'region_attributes': {}}}, 'origin_x': 129604.0, 'origin_y': 401372.0}\n",
      "2\n",
      "{'0': {'shape_attributes': {'name': 'polygon', 'all_points_x': [189, 191, 133, 130, 36, 33, 0, 0, 3, 0, 0, 25, 28, 36, 33, 64, 67, 75, 68, 96, 101, 110, 106, 137, 137, 144, 142, 163, 168, 177, 175, 196, 201, 207, 202, 220, 224, 232, 228, 253, 258, 271, 264, 329, 337, 385, 399, 408, 374, 370, 345, 351, 189], 'all_points_y': [425, 444, 454, 441, 455, 424, 427, 287, 287, 267, 264, 261, 288, 287, 260, 255, 276, 271, 253, 252, 274, 273, 250, 246, 266, 266, 242, 235, 266, 266, 238, 238, 259, 259, 234, 232, 256, 255, 232, 228, 256, 255, 225, 222, 253, 250, 354, 388, 389, 365, 368, 405, 425], 'category': 0}, 'region_attributes': {}}}\n",
      "{'0': {'shape_attributes': {'name': 'polygon', 'all_points_x': [189, 191, 133, 130, 36, 33, 0, 0, 3, 0, 0, 25, 28, 36, 33, 64, 67, 75, 68, 96, 101, 110, 106, 137, 137, 144, 142, 163, 168, 177, 175, 196, 201, 207, 202, 220, 224, 232, 228, 253, 258, 271, 264, 329, 337, 385, 399, 408, 374, 370, 345, 351, 189], 'all_points_y': [425, 444, 454, 441, 455, 424, 427, 287, 287, 267, 264, 261, 288, 287, 260, 255, 276, 271, 253, 252, 274, 273, 250, 246, 266, 266, 242, 235, 266, 266, 238, 238, 259, 259, 234, 232, 256, 255, 232, 228, 256, 255, 225, 222, 253, 250, 354, 388, 389, 365, 368, 405, 425], 'category': 0}, 'region_attributes': {}}, '1': {'shape_attributes': {'name': 'polygon', 'all_points_x': [189, 191, 133, 130, 36, 33, 0, 0, 3, 0, 0, 25, 28, 36, 33, 64, 67, 75, 68, 96, 101, 110, 106, 137, 137, 144, 142, 163, 168, 177, 175, 196, 201, 207, 202, 220, 224, 232, 228, 253, 258, 271, 264, 329, 337, 385, 399, 408, 374, 370, 345, 351, 189], 'all_points_y': [425, 444, 454, 441, 455, 424, 427, 287, 287, 267, 264, 261, 288, 287, 260, 255, 276, 271, 253, 252, 274, 273, 250, 246, 266, 266, 242, 235, 266, 266, 238, 238, 259, 259, 234, 232, 256, 255, 232, 228, 256, 255, 225, 222, 253, 250, 354, 388, 389, 365, 368, 405, 425], 'category': 0}, 'region_attributes': {}}}\n",
      "{'file_ref': '', 'size': 2617185, 'filename': '23_20220717_103405_SV1-01_SV_RD_8bit_RGB_50cm_Made_5000_25000.png', 'base64_img_data': '', 'file_attributes': {}, 'regions': {'0': {'shape_attributes': {'name': 'polygon', 'all_points_x': [189, 191, 133, 130, 36, 33, 0, 0, 3, 0, 0, 25, 28, 36, 33, 64, 67, 75, 68, 96, 101, 110, 106, 137, 137, 144, 142, 163, 168, 177, 175, 196, 201, 207, 202, 220, 224, 232, 228, 253, 258, 271, 264, 329, 337, 385, 399, 408, 374, 370, 345, 351, 189], 'all_points_y': [425, 444, 454, 441, 455, 424, 427, 287, 287, 267, 264, 261, 288, 287, 260, 255, 276, 271, 253, 252, 274, 273, 250, 246, 266, 266, 242, 235, 266, 266, 238, 238, 259, 259, 234, 232, 256, 255, 232, 228, 256, 255, 225, 222, 253, 250, 354, 388, 389, 365, 368, 405, 425], 'category': 0}, 'region_attributes': {}}, '1': {'shape_attributes': {'name': 'polygon', 'all_points_x': [189, 191, 133, 130, 36, 33, 0, 0, 3, 0, 0, 25, 28, 36, 33, 64, 67, 75, 68, 96, 101, 110, 106, 137, 137, 144, 142, 163, 168, 177, 175, 196, 201, 207, 202, 220, 224, 232, 228, 253, 258, 271, 264, 329, 337, 385, 399, 408, 374, 370, 345, 351, 189], 'all_points_y': [425, 444, 454, 441, 455, 424, 427, 287, 287, 267, 264, 261, 288, 287, 260, 255, 276, 271, 253, 252, 274, 273, 250, 246, 266, 266, 242, 235, 266, 266, 238, 238, 259, 259, 234, 232, 256, 255, 232, 228, 256, 255, 225, 222, 253, 250, 354, 388, 389, 365, 368, 405, 425], 'category': 0}, 'region_attributes': {}}}, 'origin_x': 117200.5, 'origin_y': 412160.5}\n",
      "2\n",
      "{'0': {'shape_attributes': {'name': 'polygon', 'all_points_x': [14, 16, 0, 0, 14], 'all_points_y': [950, 981, 981, 952, 950], 'category': 0}, 'region_attributes': {}}}\n",
      "{'0': {'shape_attributes': {'name': 'polygon', 'all_points_x': [14, 16, 0, 0, 14], 'all_points_y': [950, 981, 981, 952, 950], 'category': 0}, 'region_attributes': {}}, '1': {'shape_attributes': {'name': 'polygon', 'all_points_x': [14, 16, 0, 0, 14], 'all_points_y': [950, 981, 981, 952, 950], 'category': 0}, 'region_attributes': {}}}\n",
      "{'file_ref': '', 'size': 66462, 'filename': '20_20220729_103928_SV2-01_SV_RD_8bit_RGB_50cm_Nuenen_36000_6000.png', 'base64_img_data': '', 'file_attributes': {}, 'regions': {'0': {'shape_attributes': {'name': 'polygon', 'all_points_x': [14, 16, 0, 0, 14], 'all_points_y': [950, 981, 981, 952, 950], 'category': 0}, 'region_attributes': {}}, '1': {'shape_attributes': {'name': 'polygon', 'all_points_x': [14, 16, 0, 0, 14], 'all_points_y': [950, 981, 981, 952, 950], 'category': 0}, 'region_attributes': {}}}, 'origin_x': 160536.0, 'origin_y': 380554.0}\n"
     ]
    },
    {
     "name": "stderr",
     "output_type": "stream",
     "text": [
      "Creating JSONs for Detectron2 on train:  77%|███████▋  | 17553/22719 [00:03<00:01, 5000.24it/s]"
     ]
    },
    {
     "name": "stdout",
     "output_type": "stream",
     "text": [
      "2\n",
      "{'0': {'shape_attributes': {'name': 'polygon', 'all_points_x': [420, 401, 400, 356, 358, 379, 380, 379, 352, 348, 341, 341, 325, 325, 353, 353, 381, 380, 350, 351, 324, 324, 352, 352, 390, 389, 352, 353, 255, 255, 212, 214, 267, 272, 303, 303, 275, 275, 259, 259, 216, 216, 250, 273, 306, 304, 271, 266, 266, 214, 218, 266, 274, 305, 306, 363, 418, 420], 'all_points_y': [841, 841, 828, 830, 841, 838, 854, 885, 885, 883, 882, 877, 877, 899, 896, 902, 901, 935, 935, 928, 931, 952, 952, 959, 960, 983, 984, 1000, 1000, 990, 966, 947, 966, 948, 957, 939, 926, 914, 913, 937, 916, 895, 909, 904, 911, 885, 878, 867, 877, 872, 809, 828, 817, 828, 791, 789, 807, 841], 'category': 0}, 'region_attributes': {}}}\n",
      "{'0': {'shape_attributes': {'name': 'polygon', 'all_points_x': [420, 401, 400, 356, 358, 379, 380, 379, 352, 348, 341, 341, 325, 325, 353, 353, 381, 380, 350, 351, 324, 324, 352, 352, 390, 389, 352, 353, 255, 255, 212, 214, 267, 272, 303, 303, 275, 275, 259, 259, 216, 216, 250, 273, 306, 304, 271, 266, 266, 214, 218, 266, 274, 305, 306, 363, 418, 420], 'all_points_y': [841, 841, 828, 830, 841, 838, 854, 885, 885, 883, 882, 877, 877, 899, 896, 902, 901, 935, 935, 928, 931, 952, 952, 959, 960, 983, 984, 1000, 1000, 990, 966, 947, 966, 948, 957, 939, 926, 914, 913, 937, 916, 895, 909, 904, 911, 885, 878, 867, 877, 872, 809, 828, 817, 828, 791, 789, 807, 841], 'category': 0}, 'region_attributes': {}}, '1': {'shape_attributes': {'name': 'polygon', 'all_points_x': [420, 401, 400, 356, 358, 379, 380, 379, 352, 348, 341, 341, 325, 325, 353, 353, 381, 380, 350, 351, 324, 324, 352, 352, 390, 389, 352, 353, 255, 255, 212, 214, 267, 272, 303, 303, 275, 275, 259, 259, 216, 216, 250, 273, 306, 304, 271, 266, 266, 214, 218, 266, 274, 305, 306, 363, 418, 420], 'all_points_y': [841, 841, 828, 830, 841, 838, 854, 885, 885, 883, 882, 877, 877, 899, 896, 902, 901, 935, 935, 928, 931, 952, 952, 959, 960, 983, 984, 1000, 1000, 990, 966, 947, 966, 948, 957, 939, 926, 914, 913, 937, 916, 895, 909, 904, 911, 885, 878, 867, 877, 872, 809, 828, 817, 828, 791, 789, 807, 841], 'category': 0}, 'region_attributes': {}}}\n",
      "{'file_ref': '', 'size': 2907518, 'filename': '10_20220719_105318_SV1-04_SV_RD_8bit_RGB_50cm_Heel_9000_19000.png', 'base64_img_data': '', 'file_attributes': {}, 'regions': {'0': {'shape_attributes': {'name': 'polygon', 'all_points_x': [420, 401, 400, 356, 358, 379, 380, 379, 352, 348, 341, 341, 325, 325, 353, 353, 381, 380, 350, 351, 324, 324, 352, 352, 390, 389, 352, 353, 255, 255, 212, 214, 267, 272, 303, 303, 275, 275, 259, 259, 216, 216, 250, 273, 306, 304, 271, 266, 266, 214, 218, 266, 274, 305, 306, 363, 418, 420], 'all_points_y': [841, 841, 828, 830, 841, 838, 854, 885, 885, 883, 882, 877, 877, 899, 896, 902, 901, 935, 935, 928, 931, 952, 952, 959, 960, 983, 984, 1000, 1000, 990, 966, 947, 966, 948, 957, 939, 926, 914, 913, 937, 916, 895, 909, 904, 911, 885, 878, 867, 877, 872, 809, 828, 817, 828, 791, 789, 807, 841], 'category': 0}, 'region_attributes': {}}, '1': {'shape_attributes': {'name': 'polygon', 'all_points_x': [420, 401, 400, 356, 358, 379, 380, 379, 352, 348, 341, 341, 325, 325, 353, 353, 381, 380, 350, 351, 324, 324, 352, 352, 390, 389, 352, 353, 255, 255, 212, 214, 267, 272, 303, 303, 275, 275, 259, 259, 216, 216, 250, 273, 306, 304, 271, 266, 266, 214, 218, 266, 274, 305, 306, 363, 418, 420], 'all_points_y': [841, 841, 828, 830, 841, 838, 854, 885, 885, 883, 882, 877, 877, 899, 896, 902, 901, 935, 935, 928, 931, 952, 952, 959, 960, 983, 984, 1000, 1000, 990, 966, 947, 966, 948, 957, 939, 926, 914, 913, 937, 916, 895, 909, 904, 911, 885, 878, 867, 877, 872, 809, 828, 817, 828, 791, 789, 807, 841], 'category': 0}, 'region_attributes': {}}}, 'origin_x': 195456.0, 'origin_y': 360108.0}\n",
      "2\n",
      "{'0': {'shape_attributes': {'name': 'polygon', 'all_points_x': [854, 862, 878, 871, 893, 899, 901, 895, 914, 918, 922, 917, 941, 945, 951, 952, 982, 1000, 1000, 969, 961, 936, 933, 920, 902, 903, 872, 866, 840, 840, 827, 774, 774, 729, 726, 737, 735, 758, 760, 766, 764, 794, 795, 831, 825, 854], 'all_points_y': [425, 489, 489, 447, 444, 486, 485, 444, 442, 483, 482, 442, 438, 476, 472, 465, 463, 589, 632, 635, 547, 551, 543, 543, 545, 554, 560, 551, 553, 566, 553, 559, 570, 570, 544, 544, 520, 520, 529, 528, 480, 474, 506, 502, 428, 425], 'category': 0}, 'region_attributes': {}}}\n",
      "{'0': {'shape_attributes': {'name': 'polygon', 'all_points_x': [854, 862, 878, 871, 893, 899, 901, 895, 914, 918, 922, 917, 941, 945, 951, 952, 982, 1000, 1000, 969, 961, 936, 933, 920, 902, 903, 872, 866, 840, 840, 827, 774, 774, 729, 726, 737, 735, 758, 760, 766, 764, 794, 795, 831, 825, 854], 'all_points_y': [425, 489, 489, 447, 444, 486, 485, 444, 442, 483, 482, 442, 438, 476, 472, 465, 463, 589, 632, 635, 547, 551, 543, 543, 545, 554, 560, 551, 553, 566, 553, 559, 570, 570, 544, 544, 520, 520, 529, 528, 480, 474, 506, 502, 428, 425], 'category': 0}, 'region_attributes': {}}, '1': {'shape_attributes': {'name': 'polygon', 'all_points_x': [854, 862, 878, 871, 893, 899, 901, 895, 914, 918, 922, 917, 941, 945, 951, 952, 982, 1000, 1000, 969, 961, 936, 933, 920, 902, 903, 872, 866, 840, 840, 827, 774, 774, 729, 726, 737, 735, 758, 760, 766, 764, 794, 795, 831, 825, 854], 'all_points_y': [425, 489, 489, 447, 444, 486, 485, 444, 442, 483, 482, 442, 438, 476, 472, 465, 463, 589, 632, 635, 547, 551, 543, 543, 545, 554, 560, 551, 553, 566, 553, 559, 570, 570, 544, 544, 520, 520, 529, 528, 480, 474, 506, 502, 428, 425], 'category': 0}, 'region_attributes': {}}}\n",
      "{'file_ref': '', 'size': 66462, 'filename': '1_20220803_105917_SV2-01_SV_RD_8bit_RGB_50cm_OudGastel_27000_37000.png', 'base64_img_data': '', 'file_attributes': {}, 'regions': {'0': {'shape_attributes': {'name': 'polygon', 'all_points_x': [854, 862, 878, 871, 893, 899, 901, 895, 914, 918, 922, 917, 941, 945, 951, 952, 982, 1000, 1000, 969, 961, 936, 933, 920, 902, 903, 872, 866, 840, 840, 827, 774, 774, 729, 726, 737, 735, 758, 760, 766, 764, 794, 795, 831, 825, 854], 'all_points_y': [425, 489, 489, 447, 444, 486, 485, 444, 442, 483, 482, 442, 438, 476, 472, 465, 463, 589, 632, 635, 547, 551, 543, 543, 545, 554, 560, 551, 553, 566, 553, 559, 570, 570, 544, 544, 520, 520, 529, 528, 480, 474, 506, 502, 428, 425], 'category': 0}, 'region_attributes': {}}, '1': {'shape_attributes': {'name': 'polygon', 'all_points_x': [854, 862, 878, 871, 893, 899, 901, 895, 914, 918, 922, 917, 941, 945, 951, 952, 982, 1000, 1000, 969, 961, 936, 933, 920, 902, 903, 872, 866, 840, 840, 827, 774, 774, 729, 726, 737, 735, 758, 760, 766, 764, 794, 795, 831, 825, 854], 'all_points_y': [425, 489, 489, 447, 444, 486, 485, 444, 442, 483, 482, 442, 438, 476, 472, 465, 463, 589, 632, 635, 547, 551, 543, 543, 545, 554, 560, 551, 553, 566, 553, 559, 570, 570, 544, 544, 520, 520, 529, 528, 480, 474, 506, 502, 428, 425], 'category': 0}, 'region_attributes': {}}}, 'origin_x': 100516.0, 'origin_y': 398729.0}\n",
      "2\n",
      "{'0': {'shape_attributes': {'name': 'polygon', 'all_points_x': [698, 706, 722, 715, 737, 743, 745, 739, 758, 762, 766, 761, 785, 789, 795, 796, 826, 850, 813, 805, 780, 777, 764, 746, 747, 716, 710, 684, 684, 671, 618, 618, 573, 570, 581, 579, 602, 604, 610, 608, 638, 639, 675, 669, 698], 'all_points_y': [155, 219, 219, 177, 174, 216, 215, 174, 172, 213, 212, 172, 168, 206, 202, 195, 193, 361, 365, 277, 281, 273, 273, 275, 284, 290, 281, 283, 296, 283, 289, 300, 300, 274, 274, 250, 250, 259, 258, 210, 204, 236, 232, 158, 155], 'category': 0}, 'region_attributes': {}}}\n",
      "{'0': {'shape_attributes': {'name': 'polygon', 'all_points_x': [698, 706, 722, 715, 737, 743, 745, 739, 758, 762, 766, 761, 785, 789, 795, 796, 826, 850, 813, 805, 780, 777, 764, 746, 747, 716, 710, 684, 684, 671, 618, 618, 573, 570, 581, 579, 602, 604, 610, 608, 638, 639, 675, 669, 698], 'all_points_y': [155, 219, 219, 177, 174, 216, 215, 174, 172, 213, 212, 172, 168, 206, 202, 195, 193, 361, 365, 277, 281, 273, 273, 275, 284, 290, 281, 283, 296, 283, 289, 300, 300, 274, 274, 250, 250, 259, 258, 210, 204, 236, 232, 158, 155], 'category': 0}, 'region_attributes': {}}, '1': {'shape_attributes': {'name': 'polygon', 'all_points_x': [698, 706, 722, 715, 737, 743, 745, 739, 758, 762, 766, 761, 785, 789, 795, 796, 826, 850, 813, 805, 780, 777, 764, 746, 747, 716, 710, 684, 684, 671, 618, 618, 573, 570, 581, 579, 602, 604, 610, 608, 638, 639, 675, 669, 698], 'all_points_y': [155, 219, 219, 177, 174, 216, 215, 174, 172, 213, 212, 172, 168, 206, 202, 195, 193, 361, 365, 277, 281, 273, 273, 275, 284, 290, 281, 283, 296, 283, 289, 300, 300, 274, 274, 250, 250, 259, 258, 210, 204, 236, 232, 158, 155], 'category': 0}, 'region_attributes': {}}}\n",
      "{'file_ref': '', 'size': 2989631, 'filename': '32_20221012_104910_SV2-01_SV_RD_8bit_RGB_50cm_Fijnaart_27000_28000.png', 'base64_img_data': '', 'file_attributes': {}, 'regions': {'0': {'shape_attributes': {'name': 'polygon', 'all_points_x': [698, 706, 722, 715, 737, 743, 745, 739, 758, 762, 766, 761, 785, 789, 795, 796, 826, 850, 813, 805, 780, 777, 764, 746, 747, 716, 710, 684, 684, 671, 618, 618, 573, 570, 581, 579, 602, 604, 610, 608, 638, 639, 675, 669, 698], 'all_points_y': [155, 219, 219, 177, 174, 216, 215, 174, 172, 213, 212, 172, 168, 206, 202, 195, 193, 361, 365, 277, 281, 273, 273, 275, 284, 290, 281, 283, 296, 283, 289, 300, 300, 274, 274, 250, 250, 259, 258, 210, 204, 236, 232, 158, 155], 'category': 0}, 'region_attributes': {}}, '1': {'shape_attributes': {'name': 'polygon', 'all_points_x': [698, 706, 722, 715, 737, 743, 745, 739, 758, 762, 766, 761, 785, 789, 795, 796, 826, 850, 813, 805, 780, 777, 764, 746, 747, 716, 710, 684, 684, 671, 618, 618, 573, 570, 581, 579, 602, 604, 610, 608, 638, 639, 675, 669, 698], 'all_points_y': [155, 219, 219, 177, 174, 216, 215, 174, 172, 213, 212, 172, 168, 206, 202, 195, 193, 361, 365, 277, 281, 273, 273, 275, 284, 290, 281, 283, 296, 283, 289, 300, 300, 274, 274, 250, 250, 259, 258, 210, 204, 236, 232, 158, 155], 'category': 0}, 'region_attributes': {}}}, 'origin_x': 100594.0, 'origin_y': 398594.0}\n",
      "3\n",
      "{'0': {'shape_attributes': {'name': 'polygon', 'all_points_x': [927, 930, 961, 980, 961, 958, 951, 929, 916, 915, 920, 916, 908, 899, 905, 896, 891, 881, 927], 'all_points_y': [388, 399, 434, 453, 473, 466, 467, 484, 466, 460, 451, 444, 450, 440, 435, 428, 433, 427, 388], 'category': 0}, 'region_attributes': {}}}\n",
      "{'0': {'shape_attributes': {'name': 'polygon', 'all_points_x': [927, 930, 961, 980, 961, 958, 951, 929, 916, 915, 920, 916, 908, 899, 905, 896, 891, 881, 927], 'all_points_y': [388, 399, 434, 453, 473, 466, 467, 484, 466, 460, 451, 444, 450, 440, 435, 428, 433, 427, 388], 'category': 0}, 'region_attributes': {}}, '1': {'shape_attributes': {'name': 'polygon', 'all_points_x': [927, 930, 961, 980, 961, 958, 951, 929, 916, 915, 920, 916, 908, 899, 905, 896, 891, 881, 927], 'all_points_y': [388, 399, 434, 453, 473, 466, 467, 484, 466, 460, 451, 444, 450, 440, 435, 428, 433, 427, 388], 'category': 0}, 'region_attributes': {}}}\n",
      "{'0': {'shape_attributes': {'name': 'polygon', 'all_points_x': [927, 930, 961, 980, 961, 958, 951, 929, 916, 915, 920, 916, 908, 899, 905, 896, 891, 881, 927], 'all_points_y': [388, 399, 434, 453, 473, 466, 467, 484, 466, 460, 451, 444, 450, 440, 435, 428, 433, 427, 388], 'category': 0}, 'region_attributes': {}}, '1': {'shape_attributes': {'name': 'polygon', 'all_points_x': [927, 930, 961, 980, 961, 958, 951, 929, 916, 915, 920, 916, 908, 899, 905, 896, 891, 881, 927], 'all_points_y': [388, 399, 434, 453, 473, 466, 467, 484, 466, 460, 451, 444, 450, 440, 435, 428, 433, 427, 388], 'category': 0}, 'region_attributes': {}}, '2': {'shape_attributes': {'name': 'polygon', 'all_points_x': [927, 930, 961, 980, 961, 958, 951, 929, 916, 915, 920, 916, 908, 899, 905, 896, 891, 881, 927], 'all_points_y': [388, 399, 434, 453, 473, 466, 467, 484, 466, 460, 451, 444, 450, 440, 435, 428, 433, 427, 388], 'category': 0}, 'region_attributes': {}}}\n",
      "{'file_ref': '', 'size': 3304326, 'filename': '9_20220717_105004_SV2-01_SV_RD_8bit_RGB_50cm_Heerlen_14000_15000.png', 'base64_img_data': '', 'file_attributes': {}, 'regions': {'0': {'shape_attributes': {'name': 'polygon', 'all_points_x': [927, 930, 961, 980, 961, 958, 951, 929, 916, 915, 920, 916, 908, 899, 905, 896, 891, 881, 927], 'all_points_y': [388, 399, 434, 453, 473, 466, 467, 484, 466, 460, 451, 444, 450, 440, 435, 428, 433, 427, 388], 'category': 0}, 'region_attributes': {}}, '1': {'shape_attributes': {'name': 'polygon', 'all_points_x': [927, 930, 961, 980, 961, 958, 951, 929, 916, 915, 920, 916, 908, 899, 905, 896, 891, 881, 927], 'all_points_y': [388, 399, 434, 453, 473, 466, 467, 484, 466, 460, 451, 444, 450, 440, 435, 428, 433, 427, 388], 'category': 0}, 'region_attributes': {}}, '2': {'shape_attributes': {'name': 'polygon', 'all_points_x': [927, 930, 961, 980, 961, 958, 951, 929, 916, 915, 920, 916, 908, 899, 905, 896, 891, 881, 927], 'all_points_y': [388, 399, 434, 453, 473, 466, 467, 484, 466, 460, 451, 444, 450, 440, 435, 428, 433, 427, 388], 'category': 0}, 'region_attributes': {}}}, 'origin_x': 195418.0, 'origin_y': 323435.0}\n",
      "2\n",
      "{'0': {'shape_attributes': {'name': 'polygon', 'all_points_x': [982, 941, 973, 941, 902, 886, 925, 905, 770, 768, 802, 822, 875, 844, 872, 899, 948, 917, 946, 969, 999, 973, 967, 988, 1000, 1000, 982], 'all_points_y': [793, 836, 875, 904, 864, 884, 921, 941, 798, 794, 761, 793, 739, 707, 682, 711, 668, 640, 614, 643, 618, 589, 584, 567, 583, 808, 793], 'category': 0}, 'region_attributes': {}}}\n",
      "{'0': {'shape_attributes': {'name': 'polygon', 'all_points_x': [982, 941, 973, 941, 902, 886, 925, 905, 770, 768, 802, 822, 875, 844, 872, 899, 948, 917, 946, 969, 999, 973, 967, 988, 1000, 1000, 982], 'all_points_y': [793, 836, 875, 904, 864, 884, 921, 941, 798, 794, 761, 793, 739, 707, 682, 711, 668, 640, 614, 643, 618, 589, 584, 567, 583, 808, 793], 'category': 0}, 'region_attributes': {}}, '1': {'shape_attributes': {'name': 'polygon', 'all_points_x': [982, 941, 973, 941, 902, 886, 925, 905, 770, 768, 802, 822, 875, 844, 872, 899, 948, 917, 946, 969, 999, 973, 967, 988, 1000, 1000, 982], 'all_points_y': [793, 836, 875, 904, 864, 884, 921, 941, 798, 794, 761, 793, 739, 707, 682, 711, 668, 640, 614, 643, 618, 589, 584, 567, 583, 808, 793], 'category': 0}, 'region_attributes': {}}}\n",
      "{'file_ref': '', 'size': 3369409, 'filename': '9_20220717_105004_SV2-01_SV_RD_8bit_RGB_50cm_Heerlen_20000_22000.png', 'base64_img_data': '', 'file_attributes': {}, 'regions': {'0': {'shape_attributes': {'name': 'polygon', 'all_points_x': [982, 941, 973, 941, 902, 886, 925, 905, 770, 768, 802, 822, 875, 844, 872, 899, 948, 917, 946, 969, 999, 973, 967, 988, 1000, 1000, 982], 'all_points_y': [793, 836, 875, 904, 864, 884, 921, 941, 798, 794, 761, 793, 739, 707, 682, 711, 668, 640, 614, 643, 618, 589, 584, 567, 583, 808, 793], 'category': 0}, 'region_attributes': {}}, '1': {'shape_attributes': {'name': 'polygon', 'all_points_x': [982, 941, 973, 941, 902, 886, 925, 905, 770, 768, 802, 822, 875, 844, 872, 899, 948, 917, 946, 969, 999, 973, 967, 988, 1000, 1000, 982], 'all_points_y': [793, 836, 875, 904, 864, 884, 921, 941, 798, 794, 761, 793, 739, 707, 682, 711, 668, 640, 614, 643, 618, 589, 584, 567, 583, 808, 793], 'category': 0}, 'region_attributes': {}}}, 'origin_x': 198918.0, 'origin_y': 320435.0}\n",
      "2\n",
      "{'0': {'shape_attributes': {'name': 'polygon', 'all_points_x': [988, 974, 989, 958, 933, 916, 937, 929, 1000, 1000, 988], 'all_points_y': [905, 876, 864, 803, 816, 785, 775, 743, 712, 900, 905], 'category': 0}, 'region_attributes': {}}}\n",
      "{'0': {'shape_attributes': {'name': 'polygon', 'all_points_x': [988, 974, 989, 958, 933, 916, 937, 929, 1000, 1000, 988], 'all_points_y': [905, 876, 864, 803, 816, 785, 775, 743, 712, 900, 905], 'category': 0}, 'region_attributes': {}}, '1': {'shape_attributes': {'name': 'polygon', 'all_points_x': [988, 974, 989, 958, 933, 916, 937, 929, 1000, 1000, 988], 'all_points_y': [905, 876, 864, 803, 816, 785, 775, 743, 712, 900, 905], 'category': 0}, 'region_attributes': {}}}\n",
      "{'file_ref': '', 'size': 3211648, 'filename': '33_20220714_105920_SV1-03_SV_RD_8bit_RGB_50cm_Oploo_6000_17000.png', 'base64_img_data': '', 'file_attributes': {}, 'regions': {'0': {'shape_attributes': {'name': 'polygon', 'all_points_x': [988, 974, 989, 958, 933, 916, 937, 929, 1000, 1000, 988], 'all_points_y': [905, 876, 864, 803, 816, 785, 775, 743, 712, 900, 905], 'category': 0}, 'region_attributes': {}}, '1': {'shape_attributes': {'name': 'polygon', 'all_points_x': [988, 974, 989, 958, 933, 916, 937, 929, 1000, 1000, 988], 'all_points_y': [905, 876, 864, 803, 816, 785, 775, 743, 712, 900, 905], 'category': 0}, 'region_attributes': {}}}, 'origin_x': 188930.0, 'origin_y': 410718.0}\n"
     ]
    },
    {
     "name": "stderr",
     "output_type": "stream",
     "text": [
      "Creating JSONs for Detectron2 on train:  83%|████████▎ | 18893/22719 [00:03<00:00, 5897.05it/s]"
     ]
    },
    {
     "name": "stdout",
     "output_type": "stream",
     "text": [
      "2\n",
      "{'0': {'shape_attributes': {'name': 'polygon', 'all_points_x': [543, 543, 562, 568, 583, 576, 583, 590, 606, 598, 560, 545, 549, 550, 566, 569, 610, 607, 567, 469, 465, 472, 543], 'all_points_y': [460, 482, 486, 476, 489, 501, 506, 496, 514, 524, 489, 490, 558, 616, 611, 579, 542, 582, 624, 622, 489, 459, 460], 'category': 0}, 'region_attributes': {}}}\n",
      "{'0': {'shape_attributes': {'name': 'polygon', 'all_points_x': [543, 543, 562, 568, 583, 576, 583, 590, 606, 598, 560, 545, 549, 550, 566, 569, 610, 607, 567, 469, 465, 472, 543], 'all_points_y': [460, 482, 486, 476, 489, 501, 506, 496, 514, 524, 489, 490, 558, 616, 611, 579, 542, 582, 624, 622, 489, 459, 460], 'category': 0}, 'region_attributes': {}}, '1': {'shape_attributes': {'name': 'polygon', 'all_points_x': [543, 543, 562, 568, 583, 576, 583, 590, 606, 598, 560, 545, 549, 550, 566, 569, 610, 607, 567, 469, 465, 472, 543], 'all_points_y': [460, 482, 486, 476, 489, 501, 506, 496, 514, 524, 489, 490, 558, 616, 611, 579, 542, 582, 624, 622, 489, 459, 460], 'category': 0}, 'region_attributes': {}}}\n",
      "{'file_ref': '', 'size': 3136368, 'filename': '26_20220614_105852_SV1-03_SV_RD_8bit_RGB_50cm_Schaijk_12000_7000.png', 'base64_img_data': '', 'file_attributes': {}, 'regions': {'0': {'shape_attributes': {'name': 'polygon', 'all_points_x': [543, 543, 562, 568, 583, 576, 583, 590, 606, 598, 560, 545, 549, 550, 566, 569, 610, 607, 567, 469, 465, 472, 543], 'all_points_y': [460, 482, 486, 476, 489, 501, 506, 496, 514, 524, 489, 490, 558, 616, 611, 579, 542, 582, 624, 622, 489, 459, 460], 'category': 0}, 'region_attributes': {}}, '1': {'shape_attributes': {'name': 'polygon', 'all_points_x': [543, 543, 562, 568, 583, 576, 583, 590, 606, 598, 560, 545, 549, 550, 566, 569, 610, 607, 567, 469, 465, 472, 543], 'all_points_y': [460, 482, 486, 476, 489, 501, 506, 496, 514, 524, 489, 490, 558, 616, 611, 579, 542, 582, 624, 622, 489, 459, 460], 'category': 0}, 'region_attributes': {}}}, 'origin_x': 166084.0, 'origin_y': 419836.0}\n",
      "2\n",
      "{'0': {'shape_attributes': {'name': 'polygon', 'all_points_x': [872, 873, 849, 849, 842, 841, 872], 'all_points_y': [933, 1000, 1000, 963, 963, 933, 933], 'category': 0}, 'region_attributes': {}}}\n",
      "{'0': {'shape_attributes': {'name': 'polygon', 'all_points_x': [872, 873, 849, 849, 842, 841, 872], 'all_points_y': [933, 1000, 1000, 963, 963, 933, 933], 'category': 0}, 'region_attributes': {}}, '1': {'shape_attributes': {'name': 'polygon', 'all_points_x': [872, 873, 849, 849, 842, 841, 872], 'all_points_y': [933, 1000, 1000, 963, 963, 933, 933], 'category': 0}, 'region_attributes': {}}}\n",
      "{'file_ref': '', 'size': 66462, 'filename': '20_20220729_103928_SV2-01_SV_RD_8bit_RGB_50cm_Nuenen_36000_5000.png', 'base64_img_data': '', 'file_attributes': {}, 'regions': {'0': {'shape_attributes': {'name': 'polygon', 'all_points_x': [872, 873, 849, 849, 842, 841, 872], 'all_points_y': [933, 1000, 1000, 963, 963, 933, 933], 'category': 0}, 'region_attributes': {}}, '1': {'shape_attributes': {'name': 'polygon', 'all_points_x': [872, 873, 849, 849, 842, 841, 872], 'all_points_y': [933, 1000, 1000, 963, 963, 933, 933], 'category': 0}, 'region_attributes': {}}}, 'origin_x': 160036.0, 'origin_y': 380554.0}\n",
      "3\n",
      "{'0': {'shape_attributes': {'name': 'polygon', 'all_points_x': [13, 62, 98, 54, 68, 0, 0, 13], 'all_points_y': [758, 748, 861, 872, 920, 938, 717, 758], 'category': 0}, 'region_attributes': {}}}\n",
      "{'0': {'shape_attributes': {'name': 'polygon', 'all_points_x': [13, 62, 98, 54, 68, 0, 0, 13], 'all_points_y': [758, 748, 861, 872, 920, 938, 717, 758], 'category': 0}, 'region_attributes': {}}, '1': {'shape_attributes': {'name': 'polygon', 'all_points_x': [13, 62, 98, 54, 68, 0, 0, 13], 'all_points_y': [758, 748, 861, 872, 920, 938, 717, 758], 'category': 0}, 'region_attributes': {}}}\n",
      "{'0': {'shape_attributes': {'name': 'polygon', 'all_points_x': [13, 62, 98, 54, 68, 0, 0, 13], 'all_points_y': [758, 748, 861, 872, 920, 938, 717, 758], 'category': 0}, 'region_attributes': {}}, '1': {'shape_attributes': {'name': 'polygon', 'all_points_x': [13, 62, 98, 54, 68, 0, 0, 13], 'all_points_y': [758, 748, 861, 872, 920, 938, 717, 758], 'category': 0}, 'region_attributes': {}}, '2': {'shape_attributes': {'name': 'polygon', 'all_points_x': [13, 62, 98, 54, 68, 0, 0, 13], 'all_points_y': [758, 748, 861, 872, 920, 938, 717, 758], 'category': 0}, 'region_attributes': {}}}\n",
      "{'file_ref': '', 'size': 3011335, 'filename': '14_20220830_110404_SV1-03_SV_RD_8bit_RGB_50cm_Amsterdam_11000_15000.png', 'base64_img_data': '', 'file_attributes': {}, 'regions': {'0': {'shape_attributes': {'name': 'polygon', 'all_points_x': [13, 62, 98, 54, 68, 0, 0, 13], 'all_points_y': [758, 748, 861, 872, 920, 938, 717, 758], 'category': 0}, 'region_attributes': {}}, '1': {'shape_attributes': {'name': 'polygon', 'all_points_x': [13, 62, 98, 54, 68, 0, 0, 13], 'all_points_y': [758, 748, 861, 872, 920, 938, 717, 758], 'category': 0}, 'region_attributes': {}}, '2': {'shape_attributes': {'name': 'polygon', 'all_points_x': [13, 62, 98, 54, 68, 0, 0, 13], 'all_points_y': [758, 748, 861, 872, 920, 938, 717, 758], 'category': 0}, 'region_attributes': {}}}, 'origin_x': 120280.0, 'origin_y': 493972.0}\n",
      "3\n",
      "{'0': {'shape_attributes': {'name': 'polygon', 'all_points_x': [542, 579, 565, 590, 587, 561, 550, 580, 562, 540, 532, 556, 551, 527, 521, 557, 543, 505, 498, 532, 529, 493, 486, 509, 505, 480, 475, 499, 494, 467, 462, 476, 434, 447, 413, 426, 453, 461, 433, 436, 465, 472, 444, 448, 477, 482, 457, 469, 499, 524, 502, 516, 477, 380, 409, 390, 396, 387, 371, 370, 425, 433, 469, 477, 501, 507, 522, 597, 636, 589, 639, 646, 596, 649, 665, 652, 639, 622, 629, 595, 590, 548, 542], 'all_points_y': [566, 549, 517, 506, 501, 509, 486, 474, 437, 449, 429, 417, 411, 419, 397, 380, 349, 366, 340, 324, 317, 332, 309, 299, 292, 302, 282, 272, 261, 272, 248, 239, 254, 286, 299, 332, 319, 342, 354, 365, 353, 375, 387, 394, 381, 403, 415, 448, 436, 522, 534, 563, 590, 331, 319, 271, 267, 246, 238, 219, 200, 227, 212, 231, 230, 254, 279, 358, 452, 475, 455, 472, 503, 479, 504, 523, 562, 570, 589, 599, 574, 588, 566], 'category': 0}, 'region_attributes': {}}}\n",
      "{'0': {'shape_attributes': {'name': 'polygon', 'all_points_x': [542, 579, 565, 590, 587, 561, 550, 580, 562, 540, 532, 556, 551, 527, 521, 557, 543, 505, 498, 532, 529, 493, 486, 509, 505, 480, 475, 499, 494, 467, 462, 476, 434, 447, 413, 426, 453, 461, 433, 436, 465, 472, 444, 448, 477, 482, 457, 469, 499, 524, 502, 516, 477, 380, 409, 390, 396, 387, 371, 370, 425, 433, 469, 477, 501, 507, 522, 597, 636, 589, 639, 646, 596, 649, 665, 652, 639, 622, 629, 595, 590, 548, 542], 'all_points_y': [566, 549, 517, 506, 501, 509, 486, 474, 437, 449, 429, 417, 411, 419, 397, 380, 349, 366, 340, 324, 317, 332, 309, 299, 292, 302, 282, 272, 261, 272, 248, 239, 254, 286, 299, 332, 319, 342, 354, 365, 353, 375, 387, 394, 381, 403, 415, 448, 436, 522, 534, 563, 590, 331, 319, 271, 267, 246, 238, 219, 200, 227, 212, 231, 230, 254, 279, 358, 452, 475, 455, 472, 503, 479, 504, 523, 562, 570, 589, 599, 574, 588, 566], 'category': 0}, 'region_attributes': {}}, '1': {'shape_attributes': {'name': 'polygon', 'all_points_x': [723, 607, 648, 676, 692, 685, 692, 703, 756, 730, 735, 769, 779, 752, 787, 815, 819, 796, 849, 890, 968, 1000, 1000, 999, 1000, 1000, 981, 983, 974, 969, 923, 924, 916, 912, 856, 849, 841, 822, 828, 779, 755, 765, 761, 787, 797, 825, 821, 881, 839, 744, 756, 726, 723], 'all_points_y': [417, 112, 94, 159, 147, 131, 128, 149, 126, 60, 57, 144, 143, 58, 49, 110, 110, 42, 22, 128, 105, 185, 396, 396, 399, 490, 494, 506, 513, 499, 516, 527, 530, 518, 536, 545, 530, 537, 557, 573, 500, 493, 481, 466, 487, 480, 460, 445, 325, 364, 397, 413, 417], 'category': 0}, 'region_attributes': {}}}\n",
      "{'0': {'shape_attributes': {'name': 'polygon', 'all_points_x': [542, 579, 565, 590, 587, 561, 550, 580, 562, 540, 532, 556, 551, 527, 521, 557, 543, 505, 498, 532, 529, 493, 486, 509, 505, 480, 475, 499, 494, 467, 462, 476, 434, 447, 413, 426, 453, 461, 433, 436, 465, 472, 444, 448, 477, 482, 457, 469, 499, 524, 502, 516, 477, 380, 409, 390, 396, 387, 371, 370, 425, 433, 469, 477, 501, 507, 522, 597, 636, 589, 639, 646, 596, 649, 665, 652, 639, 622, 629, 595, 590, 548, 542], 'all_points_y': [566, 549, 517, 506, 501, 509, 486, 474, 437, 449, 429, 417, 411, 419, 397, 380, 349, 366, 340, 324, 317, 332, 309, 299, 292, 302, 282, 272, 261, 272, 248, 239, 254, 286, 299, 332, 319, 342, 354, 365, 353, 375, 387, 394, 381, 403, 415, 448, 436, 522, 534, 563, 590, 331, 319, 271, 267, 246, 238, 219, 200, 227, 212, 231, 230, 254, 279, 358, 452, 475, 455, 472, 503, 479, 504, 523, 562, 570, 589, 599, 574, 588, 566], 'category': 0}, 'region_attributes': {}}, '1': {'shape_attributes': {'name': 'polygon', 'all_points_x': [723, 607, 648, 676, 692, 685, 692, 703, 756, 730, 735, 769, 779, 752, 787, 815, 819, 796, 849, 890, 968, 1000, 1000, 999, 1000, 1000, 981, 983, 974, 969, 923, 924, 916, 912, 856, 849, 841, 822, 828, 779, 755, 765, 761, 787, 797, 825, 821, 881, 839, 744, 756, 726, 723], 'all_points_y': [417, 112, 94, 159, 147, 131, 128, 149, 126, 60, 57, 144, 143, 58, 49, 110, 110, 42, 22, 128, 105, 185, 396, 396, 399, 490, 494, 506, 513, 499, 516, 527, 530, 518, 536, 545, 530, 537, 557, 573, 500, 493, 481, 466, 487, 480, 460, 445, 325, 364, 397, 413, 417], 'category': 0}, 'region_attributes': {}}, '2': {'shape_attributes': {'name': 'polygon', 'all_points_x': [723, 607, 648, 676, 692, 685, 692, 703, 756, 730, 735, 769, 779, 752, 787, 815, 819, 796, 849, 890, 968, 1000, 1000, 999, 1000, 1000, 981, 983, 974, 969, 923, 924, 916, 912, 856, 849, 841, 822, 828, 779, 755, 765, 761, 787, 797, 825, 821, 881, 839, 744, 756, 726, 723], 'all_points_y': [417, 112, 94, 159, 147, 131, 128, 149, 126, 60, 57, 144, 143, 58, 49, 110, 110, 42, 22, 128, 105, 185, 396, 396, 399, 490, 494, 506, 513, 499, 516, 527, 530, 518, 536, 545, 530, 537, 557, 573, 500, 493, 481, 466, 487, 480, 460, 445, 325, 364, 397, 413, 417], 'category': 0}, 'region_attributes': {}}}\n",
      "{'file_ref': '', 'size': 3387335, 'filename': '31_20220905_105531_SV2-01_SV_RD_8bit_RGB_50cm_Nuenen_28000_16000.png', 'base64_img_data': '', 'file_attributes': {}, 'regions': {'0': {'shape_attributes': {'name': 'polygon', 'all_points_x': [542, 579, 565, 590, 587, 561, 550, 580, 562, 540, 532, 556, 551, 527, 521, 557, 543, 505, 498, 532, 529, 493, 486, 509, 505, 480, 475, 499, 494, 467, 462, 476, 434, 447, 413, 426, 453, 461, 433, 436, 465, 472, 444, 448, 477, 482, 457, 469, 499, 524, 502, 516, 477, 380, 409, 390, 396, 387, 371, 370, 425, 433, 469, 477, 501, 507, 522, 597, 636, 589, 639, 646, 596, 649, 665, 652, 639, 622, 629, 595, 590, 548, 542], 'all_points_y': [566, 549, 517, 506, 501, 509, 486, 474, 437, 449, 429, 417, 411, 419, 397, 380, 349, 366, 340, 324, 317, 332, 309, 299, 292, 302, 282, 272, 261, 272, 248, 239, 254, 286, 299, 332, 319, 342, 354, 365, 353, 375, 387, 394, 381, 403, 415, 448, 436, 522, 534, 563, 590, 331, 319, 271, 267, 246, 238, 219, 200, 227, 212, 231, 230, 254, 279, 358, 452, 475, 455, 472, 503, 479, 504, 523, 562, 570, 589, 599, 574, 588, 566], 'category': 0}, 'region_attributes': {}}, '1': {'shape_attributes': {'name': 'polygon', 'all_points_x': [723, 607, 648, 676, 692, 685, 692, 703, 756, 730, 735, 769, 779, 752, 787, 815, 819, 796, 849, 890, 968, 1000, 1000, 999, 1000, 1000, 981, 983, 974, 969, 923, 924, 916, 912, 856, 849, 841, 822, 828, 779, 755, 765, 761, 787, 797, 825, 821, 881, 839, 744, 756, 726, 723], 'all_points_y': [417, 112, 94, 159, 147, 131, 128, 149, 126, 60, 57, 144, 143, 58, 49, 110, 110, 42, 22, 128, 105, 185, 396, 396, 399, 490, 494, 506, 513, 499, 516, 527, 530, 518, 536, 545, 530, 537, 557, 573, 500, 493, 481, 466, 487, 480, 460, 445, 325, 364, 397, 413, 417], 'category': 0}, 'region_attributes': {}}, '2': {'shape_attributes': {'name': 'polygon', 'all_points_x': [723, 607, 648, 676, 692, 685, 692, 703, 756, 730, 735, 769, 779, 752, 787, 815, 819, 796, 849, 890, 968, 1000, 1000, 999, 1000, 1000, 981, 983, 974, 969, 923, 924, 916, 912, 856, 849, 841, 822, 828, 779, 755, 765, 761, 787, 797, 825, 821, 881, 839, 744, 756, 726, 723], 'all_points_y': [417, 112, 94, 159, 147, 131, 128, 149, 126, 60, 57, 144, 143, 58, 49, 110, 110, 42, 22, 128, 105, 185, 396, 396, 399, 490, 494, 506, 513, 499, 516, 527, 530, 518, 536, 545, 530, 537, 557, 573, 500, 493, 481, 466, 487, 480, 460, 445, 325, 364, 397, 413, 417], 'category': 0}, 'region_attributes': {}}}, 'origin_x': 164680.0, 'origin_y': 384330.5}\n"
     ]
    },
    {
     "name": "stderr",
     "output_type": "stream",
     "text": [
      "Creating JSONs for Detectron2 on train:  90%|████████▉ | 20369/22719 [00:04<00:00, 6470.74it/s]"
     ]
    },
    {
     "name": "stdout",
     "output_type": "stream",
     "text": [
      "2\n",
      "{'0': {'shape_attributes': {'name': 'polygon', 'all_points_x': [767, 757, 918, 926, 952, 947, 961, 956, 966, 970, 1000, 1000, 998, 994, 946, 907, 862, 844, 759, 742, 753, 736, 715, 683, 743, 767], 'all_points_y': [521, 542, 625, 609, 625, 640, 645, 664, 667, 656, 673, 708, 707, 718, 695, 762, 733, 721, 674, 653, 625, 611, 655, 632, 508, 521], 'category': 0}, 'region_attributes': {}}}\n",
      "{'0': {'shape_attributes': {'name': 'polygon', 'all_points_x': [767, 757, 918, 926, 952, 947, 961, 956, 966, 970, 1000, 1000, 998, 994, 946, 907, 862, 844, 759, 742, 753, 736, 715, 683, 743, 767], 'all_points_y': [521, 542, 625, 609, 625, 640, 645, 664, 667, 656, 673, 708, 707, 718, 695, 762, 733, 721, 674, 653, 625, 611, 655, 632, 508, 521], 'category': 0}, 'region_attributes': {}}, '1': {'shape_attributes': {'name': 'polygon', 'all_points_x': [767, 757, 918, 926, 952, 947, 961, 956, 966, 970, 1000, 1000, 998, 994, 946, 907, 862, 844, 759, 742, 753, 736, 715, 683, 743, 767], 'all_points_y': [521, 542, 625, 609, 625, 640, 645, 664, 667, 656, 673, 708, 707, 718, 695, 762, 733, 721, 674, 653, 625, 611, 655, 632, 508, 521], 'category': 0}, 'region_attributes': {}}}\n",
      "{'file_ref': '', 'size': 3136776, 'filename': '22_20220922_110553_SV2-01_SV_RD_8bit_RGB_50cm_Spijkenisse_22000_15000.png', 'base64_img_data': '', 'file_attributes': {}, 'regions': {'0': {'shape_attributes': {'name': 'polygon', 'all_points_x': [767, 757, 918, 926, 952, 947, 961, 956, 966, 970, 1000, 1000, 998, 994, 946, 907, 862, 844, 759, 742, 753, 736, 715, 683, 743, 767], 'all_points_y': [521, 542, 625, 609, 625, 640, 645, 664, 667, 656, 673, 708, 707, 718, 695, 762, 733, 721, 674, 653, 625, 611, 655, 632, 508, 521], 'category': 0}, 'region_attributes': {}}, '1': {'shape_attributes': {'name': 'polygon', 'all_points_x': [767, 757, 918, 926, 952, 947, 961, 956, 966, 970, 1000, 1000, 998, 994, 946, 907, 862, 844, 759, 742, 753, 736, 715, 683, 743, 767], 'all_points_y': [521, 542, 625, 609, 625, 640, 645, 664, 667, 656, 673, 708, 707, 718, 695, 762, 733, 721, 674, 653, 625, 611, 655, 632, 508, 521], 'category': 0}, 'region_attributes': {}}}, 'origin_x': 77282.0, 'origin_y': 428766.0}\n",
      "2\n",
      "{'0': {'shape_attributes': {'name': 'polygon', 'all_points_x': [782, 900, 911, 978, 1000, 1000, 971, 971, 1000, 1000, 977, 977, 1000, 1000, 841, 782], 'all_points_y': [769, 741, 783, 757, 837, 942, 953, 959, 949, 987, 993, 1000, 993, 1000, 1000, 769], 'category': 0}, 'region_attributes': {}}}\n",
      "{'0': {'shape_attributes': {'name': 'polygon', 'all_points_x': [782, 900, 911, 978, 1000, 1000, 971, 971, 1000, 1000, 977, 977, 1000, 1000, 841, 782], 'all_points_y': [769, 741, 783, 757, 837, 942, 953, 959, 949, 987, 993, 1000, 993, 1000, 1000, 769], 'category': 0}, 'region_attributes': {}}, '1': {'shape_attributes': {'name': 'polygon', 'all_points_x': [782, 900, 911, 978, 1000, 1000, 971, 971, 1000, 1000, 977, 977, 1000, 1000, 841, 782], 'all_points_y': [769, 741, 783, 757, 837, 942, 953, 959, 949, 987, 993, 1000, 993, 1000, 1000, 769], 'category': 0}, 'region_attributes': {}}}\n",
      "{'file_ref': '', 'size': 66462, 'filename': '23_20220717_103405_SV1-01_SV_RD_8bit_RGB_50cm_Made_3000_23000.png', 'base64_img_data': '', 'file_attributes': {}, 'regions': {'0': {'shape_attributes': {'name': 'polygon', 'all_points_x': [782, 900, 911, 978, 1000, 1000, 971, 971, 1000, 1000, 977, 977, 1000, 1000, 841, 782], 'all_points_y': [769, 741, 783, 757, 837, 942, 953, 959, 949, 987, 993, 1000, 993, 1000, 1000, 769], 'category': 0}, 'region_attributes': {}}, '1': {'shape_attributes': {'name': 'polygon', 'all_points_x': [782, 900, 911, 978, 1000, 1000, 971, 971, 1000, 1000, 977, 977, 1000, 1000, 841, 782], 'all_points_y': [769, 741, 783, 757, 837, 942, 953, 959, 949, 987, 993, 1000, 993, 1000, 1000, 769], 'category': 0}, 'region_attributes': {}}}, 'origin_x': 116200.5, 'origin_y': 413160.5}\n",
      "2\n",
      "{'0': {'shape_attributes': {'name': 'polygon', 'all_points_x': [978, 1000, 1000, 946, 959, 872, 978], 'all_points_y': [759, 773, 1000, 1000, 981, 925, 759], 'category': 0}, 'region_attributes': {}}}\n",
      "{'0': {'shape_attributes': {'name': 'polygon', 'all_points_x': [978, 1000, 1000, 946, 959, 872, 978], 'all_points_y': [759, 773, 1000, 1000, 981, 925, 759], 'category': 0}, 'region_attributes': {}}, '1': {'shape_attributes': {'name': 'polygon', 'all_points_x': [978, 1000, 1000, 946, 959, 872, 978], 'all_points_y': [759, 773, 1000, 1000, 981, 925, 759], 'category': 0}, 'region_attributes': {}}}\n",
      "{'file_ref': '', 'size': 2809419, 'filename': '33_20220714_105920_SV1-03_SV_RD_8bit_RGB_50cm_Oploo_15000_21000.png', 'base64_img_data': '', 'file_attributes': {}, 'regions': {'0': {'shape_attributes': {'name': 'polygon', 'all_points_x': [978, 1000, 1000, 946, 959, 872, 978], 'all_points_y': [759, 773, 1000, 1000, 981, 925, 759], 'category': 0}, 'region_attributes': {}}, '1': {'shape_attributes': {'name': 'polygon', 'all_points_x': [978, 1000, 1000, 946, 959, 872, 978], 'all_points_y': [759, 773, 1000, 1000, 981, 925, 759], 'category': 0}, 'region_attributes': {}}}, 'origin_x': 190930.0, 'origin_y': 406218.0}\n",
      "2\n",
      "{'0': {'shape_attributes': {'name': 'polygon', 'all_points_x': [995, 1000, 1000, 980, 946, 905, 937, 905, 866, 850, 889, 869, 734, 732, 766, 786, 839, 808, 831, 840, 863, 891, 1000, 1000, 995], 'all_points_y': [64, 69, 119, 136, 107, 150, 189, 218, 178, 198, 235, 255, 112, 108, 75, 107, 53, 21, 0, 0, 25, 0, 0, 58, 64], 'category': 0}, 'region_attributes': {}}}\n",
      "{'0': {'shape_attributes': {'name': 'polygon', 'all_points_x': [995, 1000, 1000, 980, 946, 905, 937, 905, 866, 850, 889, 869, 734, 732, 766, 786, 839, 808, 831, 840, 863, 891, 1000, 1000, 995], 'all_points_y': [64, 69, 119, 136, 107, 150, 189, 218, 178, 198, 235, 255, 112, 108, 75, 107, 53, 21, 0, 0, 25, 0, 0, 58, 64], 'category': 0}, 'region_attributes': {}}, '1': {'shape_attributes': {'name': 'polygon', 'all_points_x': [995, 1000, 1000, 980, 946, 905, 937, 905, 866, 850, 889, 869, 734, 732, 766, 786, 839, 808, 831, 840, 863, 891, 1000, 1000, 995], 'all_points_y': [64, 69, 119, 136, 107, 150, 189, 218, 178, 198, 235, 255, 112, 108, 75, 107, 53, 21, 0, 0, 25, 0, 0, 58, 64], 'category': 0}, 'region_attributes': {}}}\n",
      "{'file_ref': '', 'size': 3393697, 'filename': '25_20220906_104605_SV1-03_SV_RD_8bit_RGB_50cm_Heerlen_17000_17000.png', 'base64_img_data': '', 'file_attributes': {}, 'regions': {'0': {'shape_attributes': {'name': 'polygon', 'all_points_x': [995, 1000, 1000, 980, 946, 905, 937, 905, 866, 850, 889, 869, 734, 732, 766, 786, 839, 808, 831, 840, 863, 891, 1000, 1000, 995], 'all_points_y': [64, 69, 119, 136, 107, 150, 189, 218, 178, 198, 235, 255, 112, 108, 75, 107, 53, 21, 0, 0, 25, 0, 0, 58, 64], 'category': 0}, 'region_attributes': {}}, '1': {'shape_attributes': {'name': 'polygon', 'all_points_x': [995, 1000, 1000, 980, 946, 905, 937, 905, 866, 850, 889, 869, 734, 732, 766, 786, 839, 808, 831, 840, 863, 891, 1000, 1000, 995], 'all_points_y': [64, 69, 119, 136, 107, 150, 189, 218, 178, 198, 235, 255, 112, 108, 75, 107, 53, 21, 0, 0, 25, 0, 0, 58, 64], 'category': 0}, 'region_attributes': {}}}, 'origin_x': 198936.0, 'origin_y': 320092.0}\n",
      "2\n",
      "{'0': {'shape_attributes': {'name': 'polygon', 'all_points_x': [35, 44, 71, 64, 99, 117, 124, 181, 137, 151, 193, 160, 110, 117, 114, 88, 79, 59, 74, 46, 34, 21, 19, 0, 0, 35], 'all_points_y': [613, 605, 631, 641, 671, 671, 693, 730, 804, 836, 878, 921, 878, 864, 834, 810, 823, 807, 792, 769, 769, 755, 737, 722, 582, 613], 'category': 0}, 'region_attributes': {}}}\n",
      "{'0': {'shape_attributes': {'name': 'polygon', 'all_points_x': [35, 44, 71, 64, 99, 117, 124, 181, 137, 151, 193, 160, 110, 117, 114, 88, 79, 59, 74, 46, 34, 21, 19, 0, 0, 35], 'all_points_y': [613, 605, 631, 641, 671, 671, 693, 730, 804, 836, 878, 921, 878, 864, 834, 810, 823, 807, 792, 769, 769, 755, 737, 722, 582, 613], 'category': 0}, 'region_attributes': {}}, '1': {'shape_attributes': {'name': 'polygon', 'all_points_x': [35, 44, 71, 64, 99, 117, 124, 181, 137, 151, 193, 160, 110, 117, 114, 88, 79, 59, 74, 46, 34, 21, 19, 0, 0, 35], 'all_points_y': [613, 605, 631, 641, 671, 671, 693, 730, 804, 836, 878, 921, 878, 864, 834, 810, 823, 807, 792, 769, 769, 755, 737, 722, 582, 613], 'category': 0}, 'region_attributes': {}}}\n",
      "{'file_ref': '', 'size': 2753341, 'filename': '12_20220719_105242_SV1-04_SV_RD_8bit_RGB_50cm_Eemshaven_25000_22000.png', 'base64_img_data': '', 'file_attributes': {}, 'regions': {'0': {'shape_attributes': {'name': 'polygon', 'all_points_x': [35, 44, 71, 64, 99, 117, 124, 181, 137, 151, 193, 160, 110, 117, 114, 88, 79, 59, 74, 46, 34, 21, 19, 0, 0, 35], 'all_points_y': [613, 605, 631, 641, 671, 671, 693, 730, 804, 836, 878, 921, 878, 864, 834, 810, 823, 807, 792, 769, 769, 755, 737, 722, 582, 613], 'category': 0}, 'region_attributes': {}}, '1': {'shape_attributes': {'name': 'polygon', 'all_points_x': [35, 44, 71, 64, 99, 117, 124, 181, 137, 151, 193, 160, 110, 117, 114, 88, 79, 59, 74, 46, 34, 21, 19, 0, 0, 35], 'all_points_y': [613, 605, 631, 641, 671, 671, 693, 730, 804, 836, 878, 921, 878, 864, 834, 810, 823, 807, 792, 769, 769, 755, 737, 722, 582, 613], 'category': 0}, 'region_attributes': {}}}, 'origin_x': 253598.0, 'origin_y': 607782.0}\n"
     ]
    },
    {
     "name": "stderr",
     "output_type": "stream",
     "text": [
      "Creating JSONs for Detectron2 on train: 100%|██████████| 22719/22719 [00:04<00:00, 5071.28it/s]"
     ]
    },
    {
     "name": "stdout",
     "output_type": "stream",
     "text": [
      "2\n",
      "{'0': {'shape_attributes': {'name': 'polygon', 'all_points_x': [503, 487, 476, 506, 492, 535, 542, 569, 566, 585, 591, 615, 634, 646, 625, 622, 551, 578, 499, 488, 504, 503], 'all_points_y': [623, 630, 586, 575, 506, 492, 518, 511, 491, 481, 509, 503, 498, 552, 560, 552, 571, 670, 689, 636, 632, 623], 'category': 0}, 'region_attributes': {}}}\n",
      "{'0': {'shape_attributes': {'name': 'polygon', 'all_points_x': [503, 487, 476, 506, 492, 535, 542, 569, 566, 585, 591, 615, 634, 646, 625, 622, 551, 578, 499, 488, 504, 503], 'all_points_y': [623, 630, 586, 575, 506, 492, 518, 511, 491, 481, 509, 503, 498, 552, 560, 552, 571, 670, 689, 636, 632, 623], 'category': 0}, 'region_attributes': {}}, '1': {'shape_attributes': {'name': 'polygon', 'all_points_x': [503, 487, 476, 506, 492, 535, 542, 569, 566, 585, 591, 615, 634, 646, 625, 622, 551, 578, 499, 488, 504, 503], 'all_points_y': [623, 630, 586, 575, 506, 492, 518, 511, 491, 481, 509, 503, 498, 552, 560, 552, 571, 670, 689, 636, 632, 623], 'category': 0}, 'region_attributes': {}}}\n",
      "{'file_ref': '', 'size': 66462, 'filename': '4_20221110_104809_SV2-01_SV_RD_8bit_RGB_50cm_Arcen_33000_6000.png', 'base64_img_data': '', 'file_attributes': {}, 'regions': {'0': {'shape_attributes': {'name': 'polygon', 'all_points_x': [503, 487, 476, 506, 492, 535, 542, 569, 566, 585, 591, 615, 634, 646, 625, 622, 551, 578, 499, 488, 504, 503], 'all_points_y': [623, 630, 586, 575, 506, 492, 518, 511, 491, 481, 509, 503, 498, 552, 560, 552, 571, 670, 689, 636, 632, 623], 'category': 0}, 'region_attributes': {}}, '1': {'shape_attributes': {'name': 'polygon', 'all_points_x': [503, 487, 476, 506, 492, 535, 542, 569, 566, 585, 591, 615, 634, 646, 625, 622, 551, 578, 499, 488, 504, 503], 'all_points_y': [623, 630, 586, 575, 506, 492, 518, 511, 491, 481, 509, 503, 498, 552, 560, 552, 571, 670, 689, 636, 632, 623], 'category': 0}, 'region_attributes': {}}}, 'origin_x': 204458.0, 'origin_y': 381999.5}\n",
      "2\n",
      "{'0': {'shape_attributes': {'name': 'polygon', 'all_points_x': [994, 986, 1000, 1000, 994], 'all_points_y': [577, 554, 548, 575, 577], 'category': 0}, 'region_attributes': {}}}\n",
      "{'0': {'shape_attributes': {'name': 'polygon', 'all_points_x': [994, 986, 1000, 1000, 994], 'all_points_y': [577, 554, 548, 575, 577], 'category': 0}, 'region_attributes': {}}, '1': {'shape_attributes': {'name': 'polygon', 'all_points_x': [994, 986, 1000, 1000, 994], 'all_points_y': [577, 554, 548, 575, 577], 'category': 0}, 'region_attributes': {}}}\n",
      "{'file_ref': '', 'size': 66462, 'filename': '32_20221012_104910_SV2-01_SV_RD_8bit_RGB_50cm_Fijnaart_2000_36000.png', 'base64_img_data': '', 'file_attributes': {}, 'regions': {'0': {'shape_attributes': {'name': 'polygon', 'all_points_x': [994, 986, 1000, 1000, 994], 'all_points_y': [577, 554, 548, 575, 577], 'category': 0}, 'region_attributes': {}}, '1': {'shape_attributes': {'name': 'polygon', 'all_points_x': [994, 986, 1000, 1000, 994], 'all_points_y': [577, 554, 548, 575, 577], 'category': 0}, 'region_attributes': {}}}, 'origin_x': 104594.0, 'origin_y': 411094.0}\n",
      "2\n",
      "{'0': {'shape_attributes': {'name': 'polygon', 'all_points_x': [184, 185, 161, 161, 154, 153, 184], 'all_points_y': [917, 1000, 1000, 947, 947, 917, 917], 'category': 0}, 'region_attributes': {}}}\n",
      "{'0': {'shape_attributes': {'name': 'polygon', 'all_points_x': [184, 185, 161, 161, 154, 153, 184], 'all_points_y': [917, 1000, 1000, 947, 947, 917, 917], 'category': 0}, 'region_attributes': {}}, '1': {'shape_attributes': {'name': 'polygon', 'all_points_x': [184, 185, 161, 161, 154, 153, 184], 'all_points_y': [917, 1000, 1000, 947, 947, 917, 917], 'category': 0}, 'region_attributes': {}}}\n",
      "{'file_ref': '', 'size': 3463747, 'filename': '19_20221009_105653_SV1-04_SV_RD_8bit_RGB_50cm_Veldhoven_17000_25000.png', 'base64_img_data': '', 'file_attributes': {}, 'regions': {'0': {'shape_attributes': {'name': 'polygon', 'all_points_x': [184, 185, 161, 161, 154, 153, 184], 'all_points_y': [917, 1000, 1000, 947, 947, 917, 917], 'category': 0}, 'region_attributes': {}}, '1': {'shape_attributes': {'name': 'polygon', 'all_points_x': [184, 185, 161, 161, 154, 153, 184], 'all_points_y': [917, 1000, 1000, 947, 947, 917, 917], 'category': 0}, 'region_attributes': {}}}, 'origin_x': 160380.0, 'origin_y': 380546.0}\n"
     ]
    },
    {
     "name": "stderr",
     "output_type": "stream",
     "text": [
      "\n"
     ]
    }
   ],
   "source": [
    "# Training set\n",
    "\n",
    "# Create an empty dictionary to store the training set of annotations and their pixel coordinates\n",
    "train_dict = {}\n",
    "\n",
    "# Loop over each image in the training set\n",
    "for file in tqdm(train, desc=\"Creating JSONs for Detectron2 on train\", ncols=150, bar_format=\"{l_bar}{bar:10}{r_bar}\"):\n",
    "    file_path = os.path.join(nso_small_tiles, file)\n",
    "    img_id = file.split(\".tif\")[0]\n",
    "    geojson_path = os.path.join(nso_geojson, f\"{img_id}.geojson\")\n",
    "    \n",
    "    #Not all tiles have annotations, thus:\n",
    "    if os.path.exists(geojson_path):\n",
    "        \n",
    "        # Load the geojson in gj\n",
    "        with open(geojson_path) as f:\n",
    "            gj = geojson.load(f)\n",
    "        \n",
    "        # Create a dictionary to store the regions (annotations spatial features) for the image\n",
    "        regions = {}\n",
    "        num_buildings = len(gj[\"features\"])\n",
    "        print (num_buildings) \n",
    "        # Open the image with gdal to get pixel size and origin if feature exists\n",
    "        if num_buildings > 0:\n",
    "            gdal_image = gdal.Open(file_path)\n",
    "            \n",
    "            # Get the pixel width and height(0.5 for nso) and the origin coordinates\n",
    "            #https://www.gis.usu.edu/~chrisg/python/2009/lectures/ospy_slides4.pdf\n",
    "            pixel_width, pixel_height = gdal_image.GetGeoTransform()[1], gdal_image.GetGeoTransform()[5]\n",
    "            originX, originY = gdal_image.GetGeoTransform()[0], gdal_image.GetGeoTransform()[3]\n",
    "            \n",
    "            # Loop over each building/assets in the image\n",
    "            for i in range(num_buildings):\n",
    "                \n",
    "                # Get the polygon points for the asset\n",
    "                #https://stackoverflow.com/questions/23306653/python-accessing-nested-json-data\n",
    "                points = gj[\"features\"][i][\"geometry\"][\"coordinates\"][0]\n",
    "                \n",
    "                # If there is only one point, unwarp it=>check\n",
    "                if len(points) == 1:\n",
    "                    points = points[0]\n",
    "\n",
    "                #Empty lists to store pixel coordinates\n",
    "                all_points_x, all_points_y = [], []\n",
    "                \n",
    "                # Convert the lat/long points to pixel coordinates by substacting origin\n",
    "                for j in range(len(points)):\n",
    "                    all_points_x.append(int(round((points[j][0] - originX) / pixel_width)))\n",
    "                    all_points_y.append(int(round((points[j][1] - originY) / pixel_height)))\n",
    "                    \n",
    "                # Create a dictionary to store the asset footprint\n",
    "                regions[str(i)] = {\"shape_attributes\":\n",
    "                                       {\"name\": \"polygon\",\n",
    "                                        \"all_points_x\": all_points_x,\n",
    "                                        \"all_points_y\": all_points_y,\n",
    "                                        \"category\": 0\n",
    "                                       },\n",
    "                                   \"region_attributes\": {}\n",
    "                                  }\n",
    "                print (regions)\n",
    "        #Should probably save origin x and y here but we still have the og tiles and imgid and allow to stich tiles back together\n",
    "        #TODO: same for tiles without annot.Eg create json with empty regions in the else\n",
    "        dictionary = {\"file_ref\": '',\n",
    "                      \"size\": os.path.getsize(file_path),\n",
    "                      \"filename\": file.replace(\".tif\", \".png\"),\n",
    "                      \"base64_img_data\": '',\n",
    "                      \"file_attributes\": {},\n",
    "                      \"regions\": regions,\n",
    "                      \"origin_x\": originX,\n",
    "                      \"origin_y\": originY\n",
    "                     }\n",
    "        print (dictionary)\n",
    "        train_dict[file.replace(\".tif\", \".png\")] = dictionary\n",
    "    else:\n",
    "        continue\n",
    "\n",
    "with open(\"../NSO/train/nso.json\", \"w\") as f:\n",
    "    json.dump(train_dict, f)"
   ]
  },
  {
   "cell_type": "code",
   "execution_count": 19,
   "id": "6f301403",
   "metadata": {},
   "outputs": [
    {
     "name": "stderr",
     "output_type": "stream",
     "text": [
      "Creating JSONs for Detectron2 on val: 100%|██████████| 7573/7573 [00:01<00:00, 5875.29it/s]\n"
     ]
    }
   ],
   "source": [
    "#Validation set\n",
    "val_dict = {}\n",
    "\n",
    "for file in tqdm(val, desc=\"Creating JSONs for Detectron2 on val\", ncols=150, bar_format=\"{l_bar}{bar:10}{r_bar}\"):\n",
    "    file_path = os.path.join(nso_small_tiles, file)\n",
    "    img_id = file.split(\".tif\")[0]\n",
    "    geojson_path = os.path.join(nso_geojson, f\"{img_id}.geojson\")\n",
    "    if os.path.exists(geojson_path): \n",
    "        with open(geojson_path) as f:\n",
    "            gj = geojson.load(f)\n",
    "\n",
    "        regions = {}\n",
    "        num_buildings = len(gj[\"features\"])\n",
    "        if num_buildings > 0:\n",
    "            gdal_image = gdal.Open(file_path)\n",
    "            pixel_width, pixel_height = gdal_image.GetGeoTransform()[1], gdal_image.GetGeoTransform()[5]\n",
    "            originX, originY = gdal_image.GetGeoTransform()[0], gdal_image.GetGeoTransform()[3]\n",
    "\n",
    "            for i in range(num_buildings):\n",
    "                points = gj[\"features\"][i][\"geometry\"][\"coordinates\"][0]\n",
    "                if len(points) == 1:\n",
    "                    points = points[0]\n",
    "\n",
    "                all_points_x, all_points_y = [], []\n",
    "                for j in range(len(points)):\n",
    "                    all_points_x.append(int(round((points[j][0] - originX) / pixel_width)))\n",
    "                    all_points_y.append(int(round((points[j][1] - originY) / pixel_height)))\n",
    "\n",
    "                regions[str(i)] = {\"shape_attributes\":\n",
    "                                       {\"name\": \"polygon\",\n",
    "                                        \"all_points_x\": all_points_x,\n",
    "                                        \"all_points_y\": all_points_y,\n",
    "                                        \"category\": 0\n",
    "                                       },\n",
    "                                   \"region_attributes\": {}\n",
    "                                  }\n",
    "\n",
    "        dictionary = {\"file_ref\": '',\n",
    "                      \"size\": os.path.getsize(file_path),\n",
    "                      \"filename\": file.replace(\".tif\", \".png\"),\n",
    "                      \"base64_img_data\": '',\n",
    "                      \"file_attributes\": {},\n",
    "                      \"regions\": regions,\n",
    "                      \"origin_x\": originX,\n",
    "                      \"origin_y\": originY\n",
    "                     }\n",
    "\n",
    "        val_dict[file.replace(\".tif\", \".png\")] = dictionary\n",
    "\n",
    "with open(\"../NSO/val/nso.json\", \"w\") as f:\n",
    "    json.dump(val_dict, f)"
   ]
  },
  {
   "cell_type": "code",
   "execution_count": 22,
   "id": "ce8cb9be",
   "metadata": {},
   "outputs": [
    {
     "name": "stderr",
     "output_type": "stream",
     "text": [
      "Creating JSONs for Detectron2 on test: 100%|██████████| 7574/7574 [00:01<00:00, 5931.06it/s]\n"
     ]
    }
   ],
   "source": [
    "#Test set\n",
    "test_dict = {}\n",
    "\n",
    "for file in tqdm(test, desc=\"Creating JSONs for Detectron2 on test\", ncols=150, bar_format=\"{l_bar}{bar:10}{r_bar}\"):\n",
    "    file_path = os.path.join(nso_small_tiles, file)\n",
    "    img_id = file.split(\".tif\")[0]\n",
    "    geojson_path = os.path.join(nso_geojson, f\"{img_id}.geojson\")\n",
    "    if os.path.exists(geojson_path): \n",
    "        with open(geojson_path) as f:\n",
    "            gj = geojson.load(f)\n",
    "\n",
    "        regions = {}\n",
    "        num_buildings = len(gj[\"features\"])\n",
    "        if num_buildings > 0:\n",
    "            gdal_image = gdal.Open(file_path)\n",
    "            pixel_width, pixel_height = gdal_image.GetGeoTransform()[1], gdal_image.GetGeoTransform()[5]\n",
    "            originX, originY = gdal_image.GetGeoTransform()[0], gdal_image.GetGeoTransform()[3]\n",
    "\n",
    "            for i in range(num_buildings):\n",
    "                points = gj[\"features\"][i][\"geometry\"][\"coordinates\"][0]\n",
    "                if len(points) == 1:\n",
    "                    points = points[0]\n",
    "\n",
    "                all_points_x, all_points_y = [], []\n",
    "                for j in range(len(points)):\n",
    "                    all_points_x.append(int(round((points[j][0] - originX) / pixel_width)))\n",
    "                    all_points_y.append(int(round((points[j][1] - originY) / pixel_height)))\n",
    "\n",
    "                regions[str(i)] = {\"shape_attributes\":\n",
    "                                       {\"name\": \"polygon\",\n",
    "                                        \"all_points_x\": all_points_x,\n",
    "                                        \"all_points_y\": all_points_y,\n",
    "                                        \"category\": 0\n",
    "                                       },\n",
    "                                   \"region_attributes\": {}\n",
    "                                  }\n",
    "\n",
    "        dictionary = {\"file_ref\": '',\n",
    "                      \"size\": os.path.getsize(file_path),\n",
    "                      \"filename\": file.replace(\".tif\", \".png\"),\n",
    "                      \"base64_img_data\": '',\n",
    "                      \"file_attributes\": {},\n",
    "                      \"regions\": regions,\n",
    "                      \"origin_x\": originX,\n",
    "                      \"origin_y\": originY\n",
    "                     }\n",
    "\n",
    "        test_dict[file.replace(\".tif\", \".png\")] = dictionary\n",
    "\n",
    "with open(\"../NSO/test/nso.json\", \"w\") as f:\n",
    "    json.dump(test_dict, f)"
   ]
  },
  {
   "cell_type": "code",
   "execution_count": 20,
   "id": "6a964211",
   "metadata": {},
   "outputs": [],
   "source": [
    "# Create single via_region_data training dataset => can be skipped if only one .json file.=>But then change file name\n",
    "jsons = [\"../NSO/train/nso.json\"]\n",
    "\n",
    "result = {}\n",
    "for file in jsons:\n",
    "    with open(file, \"r\") as f:\n",
    "        loaded = json.load(f)\n",
    "        \n",
    "    #https://realpython.com/iterate-through-dictionary-python/\n",
    "    for key, value in loaded.items():\n",
    "        result[key] = value\n",
    "\n",
    "with open(\"../NSO/train/via_region_data.json\", \"w\") as file:\n",
    "    json.dump(result, file)"
   ]
  },
  {
   "cell_type": "code",
   "execution_count": 21,
   "id": "4426d33e",
   "metadata": {},
   "outputs": [
    {
     "name": "stdout",
     "output_type": "stream",
     "text": [
      "Done creating JSONs\n"
     ]
    }
   ],
   "source": [
    "# Create via_region JSON for entire validation dataset => can be skipped if only one .json file.=>But then change file name\n",
    "jsons = [\"../NSO/val/nso.json\"]\n",
    "\n",
    "result = {}\n",
    "for file in jsons:\n",
    "    with open(file, \"r\") as f:\n",
    "        loaded = json.load(f)\n",
    "    for key, value in loaded.items():\n",
    "        result[key] = value\n",
    "\n",
    "with open(\"../NSO/val/via_region_data.json\", \"w\") as file:\n",
    "    json.dump(result, file)\n",
    "\n",
    "print(\"Done creating JSONs\")\n"
   ]
  },
  {
   "cell_type": "code",
   "execution_count": 23,
   "id": "575969c2",
   "metadata": {},
   "outputs": [
    {
     "name": "stdout",
     "output_type": "stream",
     "text": [
      "Done creating JSONs\n"
     ]
    }
   ],
   "source": [
    "# Create via_region JSON for entire test dataset => can be skipped if only one .json file.=>But then change file name\n",
    "jsons = [\"../NSO/test/nso.json\"]\n",
    "\n",
    "result = {}\n",
    "for file in jsons:\n",
    "    with open(file, \"r\") as f:\n",
    "        loaded = json.load(f)\n",
    "    for key, value in loaded.items():\n",
    "        result[key] = value\n",
    "\n",
    "with open(\"../NSO/test/via_region_data.json\", \"w\") as file:\n",
    "    json.dump(result, file)\n",
    "\n",
    "print(\"Done creating JSONs\")"
   ]
  },
  {
   "cell_type": "code",
   "execution_count": null,
   "id": "4e63eec1",
   "metadata": {},
   "outputs": [],
   "source": []
  }
 ],
 "metadata": {
  "kernelspec": {
   "display_name": "py38",
   "language": "python",
   "name": "py38"
  },
  "language_info": {
   "codemirror_mode": {
    "name": "ipython",
    "version": 3
   },
   "file_extension": ".py",
   "mimetype": "text/x-python",
   "name": "python",
   "nbconvert_exporter": "python",
   "pygments_lexer": "ipython3",
   "version": "3.8.13"
  }
 },
 "nbformat": 4,
 "nbformat_minor": 5
}
