{
 "cells": [
  {
   "cell_type": "code",
   "execution_count": 3,
   "id": "6db215a1",
   "metadata": {},
   "outputs": [
    {
     "ename": "ModuleNotFoundError",
     "evalue": "No module named 'geojson'",
     "output_type": "error",
     "traceback": [
      "\u001b[0;31m---------------------------------------------------------------------------\u001b[0m",
      "\u001b[0;31mModuleNotFoundError\u001b[0m                       Traceback (most recent call last)",
      "Cell \u001b[0;32mIn[3], line 4\u001b[0m\n\u001b[1;32m      2\u001b[0m \u001b[38;5;28;01mimport\u001b[39;00m \u001b[38;5;21;01mos\u001b[39;00m\n\u001b[1;32m      3\u001b[0m \u001b[38;5;28;01mimport\u001b[39;00m \u001b[38;5;21;01mjson\u001b[39;00m\n\u001b[0;32m----> 4\u001b[0m \u001b[38;5;28;01mimport\u001b[39;00m \u001b[38;5;21;01mgeojson\u001b[39;00m\n\u001b[1;32m      5\u001b[0m \u001b[38;5;28;01mimport\u001b[39;00m \u001b[38;5;21;01mnumpy\u001b[39;00m \u001b[38;5;28;01mas\u001b[39;00m \u001b[38;5;21;01mnp\u001b[39;00m\n\u001b[1;32m      6\u001b[0m \u001b[38;5;28;01mimport\u001b[39;00m \u001b[38;5;21;01mpandas\u001b[39;00m \u001b[38;5;28;01mas\u001b[39;00m \u001b[38;5;21;01mpd\u001b[39;00m\n",
      "\u001b[0;31mModuleNotFoundError\u001b[0m: No module named 'geojson'"
     ]
    }
   ],
   "source": [
    "import os\n",
    "import os\n",
    "import json\n",
    "import geojson\n",
    "import numpy as np\n",
    "import pandas as pd\n",
    "from osgeo import gdal\n",
    "from sklearn.model_selection import train_test_split\n",
    "\n",
    "# custom functions\n",
    "import sys\n",
    "sys.path.append('../')\n",
    "from utils.functions import grab_certain_file, tif_to_png"
   ]
  },
  {
   "cell_type": "markdown",
   "id": "a54425a4",
   "metadata": {},
   "source": [
    "\"\"\"\n",
    "\n",
    "Split tiles into training, val and test set. Convert tif to png. Save tiles in destination folders.\n",
    "Source: https://github.com/rl02898/detectron2-spacenet edits for test\n",
    "\n",
    "\"\"\""
   ]
  },
  {
   "cell_type": "code",
   "execution_count": 2,
   "id": "60e40a61",
   "metadata": {},
   "outputs": [
    {
     "ename": "FileExistsError",
     "evalue": "[WinError 183] Cannot create a file when that file already exists: '../Satellite\\\\train_test'",
     "output_type": "error",
     "traceback": [
      "\u001b[1;31m---------------------------------------------------------------------------\u001b[0m",
      "\u001b[1;31mFileExistsError\u001b[0m                           Traceback (most recent call last)",
      "Cell \u001b[1;32mIn[2], line 5\u001b[0m\n\u001b[0;32m      3\u001b[0m folders \u001b[38;5;241m=\u001b[39m [\u001b[38;5;124m'\u001b[39m\u001b[38;5;124mtrain_test\u001b[39m\u001b[38;5;124m'\u001b[39m,\u001b[38;5;124m'\u001b[39m\u001b[38;5;124mtest_test\u001b[39m\u001b[38;5;124m'\u001b[39m,\u001b[38;5;124m'\u001b[39m\u001b[38;5;124mval_test\u001b[39m\u001b[38;5;124m'\u001b[39m]\n\u001b[0;32m      4\u001b[0m \u001b[38;5;28;01mfor\u001b[39;00m folder \u001b[38;5;129;01min\u001b[39;00m folders:\n\u001b[1;32m----> 5\u001b[0m     \u001b[43mos\u001b[49m\u001b[38;5;241;43m.\u001b[39;49m\u001b[43mmkdir\u001b[49m\u001b[43m(\u001b[49m\u001b[43mos\u001b[49m\u001b[38;5;241;43m.\u001b[39;49m\u001b[43mpath\u001b[49m\u001b[38;5;241;43m.\u001b[39;49m\u001b[43mjoin\u001b[49m\u001b[43m(\u001b[49m\u001b[43mroot_path\u001b[49m\u001b[43m,\u001b[49m\u001b[43mfolder\u001b[49m\u001b[43m)\u001b[49m\u001b[43m)\u001b[49m\n",
      "\u001b[1;31mFileExistsError\u001b[0m: [WinError 183] Cannot create a file when that file already exists: '../Satellite\\\\train_test'"
     ]
    }
   ],
   "source": [
    "# Creat train val and test folder in NSO directory\n",
    "root_path = '../Satellite'\n",
    "folders = ['train_test','test_test','val_test']\n",
    "for folder in folders:\n",
    "    os.mkdir(os.path.join(root_path,folder))"
   ]
  },
  {
   "cell_type": "code",
   "execution_count": 3,
   "id": "5e3f231c",
   "metadata": {},
   "outputs": [
    {
     "name": "stderr",
     "output_type": "stream",
     "text": [
      "Converting TIF images to PNG to ../Satellite/train_test:   0%|          | 0/723 [00:00<?, ?it/s]Converting TIF images to PNG to ../Satellite/train_test: 100%|██████████| 723/723 [07:01<00:00,  1.72it/s]\n"
     ]
    },
    {
     "name": "stdout",
     "output_type": "stream",
     "text": [
      "Done converting Satellite/train images\n"
     ]
    },
    {
     "name": "stderr",
     "output_type": "stream",
     "text": [
      "Converting TIF images to PNG to ../Satellite/val_test: 100%|██████████| 241/241 [02:44<00:00,  1.47it/s]\n"
     ]
    },
    {
     "name": "stdout",
     "output_type": "stream",
     "text": [
      "Done converting Satellite/val images\n"
     ]
    },
    {
     "name": "stderr",
     "output_type": "stream",
     "text": [
      "Converting TIF images to PNG to ../Satellite/test_test: 100%|██████████| 241/241 [03:42<00:00,  1.08it/s]"
     ]
    },
    {
     "name": "stdout",
     "output_type": "stream",
     "text": [
      "Done converting Satellite/test images\n"
     ]
    },
    {
     "name": "stderr",
     "output_type": "stream",
     "text": [
      "\n"
     ]
    }
   ],
   "source": [
    "# Source: https://russland.medium.com/using-detectron2-for-instance-segmentation-on-the-spacenet-dataset-94338f739cd0\n",
    "# Random seed, to get the same split results - Explanation (https://stackoverflow.com/questions/58955816/difference-between-shuffle-and-random-state-in-train-test-split)\n",
    "RANDOM_SEED = 560\n",
    "\n",
    "# Path to all images that have been split\n",
    "small_t = \"../Satellite/small_tiles_test\"\n",
    "\n",
    "# Select tiles and split them if no test set is needed \n",
    "#images = grab_certain_file(\".tif\", small_t)\n",
    "#train, val = train_test_split(nso_images, test_size=0.2, random_state=RANDOM_SEED)\n",
    "\n",
    "# If test set is needed: use this instead:\n",
    "images = grab_certain_file(\".tif\", small_t)\n",
    "train, test = train_test_split(images, test_size=0.20, random_state=RANDOM_SEED)\n",
    "train, val = train_test_split(train, test_size=0.25, random_state=RANDOM_SEED)\n",
    "\n",
    "\n",
    "# Convert TIFF to PNG and save in destination folder\n",
    "tif_to_png(train, small_t, \"../Satellite/train_test\")\n",
    "print(\"Done converting Satellite/train images\")\n",
    "tif_to_png(val, small_t, \"../Satellite/val_test\")\n",
    "print(\"Done converting Satellite/val images\")\n",
    "tif_to_png(test, small_t, \"../Satellite/test_test\")\n",
    "print(\"Done converting Satellite/test images\")"
   ]
  }
 ],
 "metadata": {
  "kernelspec": {
   "display_name": "Python 3 (ipykernel)",
   "language": "python",
   "name": "python3"
  },
  "language_info": {
   "codemirror_mode": {
    "name": "ipython",
    "version": 3
   },
   "file_extension": ".py",
   "mimetype": "text/x-python",
   "name": "python",
   "nbconvert_exporter": "python",
   "pygments_lexer": "ipython3",
   "version": "3.9.16"
  },
  "vscode": {
   "interpreter": {
    "hash": "31f2aee4e71d21fbe5cf8b01ff0e069b9275f58929596ceb00d14d90e3e16cd6"
   }
  }
 },
 "nbformat": 4,
 "nbformat_minor": 5
}
