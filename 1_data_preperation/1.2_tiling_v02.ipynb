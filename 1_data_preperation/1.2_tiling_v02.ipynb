{
 "cells": [
  {
   "cell_type": "code",
   "execution_count": 1,
   "metadata": {},
   "outputs": [
    {
     "name": "stderr",
     "output_type": "stream",
     "text": [
      "/scistor/ivm/jpl204/miniconda3/envs/nso/lib/python3.9/site-packages/geopandas/_compat.py:123: UserWarning: The Shapely GEOS version (3.8.0-CAPI-1.13.1 ) is incompatible with the GEOS version PyGEOS was compiled with (3.10.4-CAPI-1.16.2). Conversions between both will be slow.\n",
      "  warnings.warn(\n"
     ]
    }
   ],
   "source": [
    "import geopandas as gpd\n",
    "import pandas as pd\n",
    "import json\n",
    "import os\n",
    "import pygeos\n",
    "import shapely\n",
    "import rasterio\n",
    "import json\n",
    "import pyproj\n",
    "import numpy as np\n",
    "from pathlib import Path\n",
    "from tqdm import tqdm\n",
    "\n",
    "# custom functions\n",
    "import sys\n",
    "sys.path.append('../')\n",
    "from utils.tiling import split_geotiff, reproject, split_annotations_to_geojson"
   ]
  },
  {
   "cell_type": "code",
   "execution_count": 8,
   "metadata": {},
   "outputs": [],
   "source": [
    "### 1. Split geotiff args ###\n",
    "\n",
    "raster_folder = Path(\"../NSO/NSO_big_tiles\")\n",
    "tile_output_folder = Path(\"../NSO/NSO_small_tiles\")\n",
    "#make output directory if does not exist\n",
    "if not os.path.exists(tile_output_folder):\n",
    "    os.makedirs(tile_output_folder)\n",
    "#details of small tiles\n",
    "width = 1000 #width of the new tiles\n",
    "height = 1000 #height of the new tiles\n",
    "nso_pix = 0.5 #pixel size of the raster\n",
    "\n",
    "### 2. Reproject geodataframe of a annotation shapefile args ###\n",
    "\n",
    "annotations_crs = \"epsg:4326\"\n",
    "raster_crs = \"epsg:28992\"\n",
    "annotation_folder = Path(\"../NSO/annotations_shp\")\n",
    "# !!!!!! Save GIS made annotations to annotation folder!!!!!! #\n",
    "annotation_file = \"fixed_substations_NL_annotations_06-06-23.shp\"\n",
    "# path to the annotation shapefile \n",
    "shp_path = os.path.join(annotation_folder, annotation_file)\n",
    "\n",
    "### 3.Spit annotations args ###\n",
    "\n",
    "# Make folder for geojsons\n",
    "json_folder = Path(\"../NSO/geojsons\")\n",
    "if not os.path.exists(json_folder):\n",
    "    os.makedirs(json_folder)"
   ]
  },
  {
   "cell_type": "code",
   "execution_count": 6,
   "metadata": {},
   "outputs": [
    {
     "name": "stderr",
     "output_type": "stream",
     "text": [
      "100%|██████████| 169/169 [3:15:33<00:00, 69.43s/it]  \n"
     ]
    }
   ],
   "source": [
    "### Spliting a list of raster into several tiles of x width and y height skipping black tiles ###\n",
    "\n",
    "#loop through the big tiles (rasters) and split them into smaller tiles\n",
    "split_geotiff(raster_folder, tile_output_folder, width, height, nso_pix)"
   ]
  },
  {
   "cell_type": "code",
   "execution_count": 10,
   "metadata": {},
   "outputs": [
    {
     "name": "stderr",
     "output_type": "stream",
     "text": [
      "/scistor/ivm/jpl204/miniconda3/envs/nso/lib/python3.9/site-packages/pygeos/io.py:89: UserWarning: The shapely GEOS version (3.8.0-CAPI-1.13.1 ) is incompatible with the PyGEOS GEOS version (3.10.4-CAPI-1.16.2). Conversions between both will be slow\n",
      "  warnings.warn(\n"
     ]
    }
   ],
   "source": [
    "### Reproject the DataFrame of an annotation shapefile CRS to the target CRS as the raster tiles ###\n",
    "\n",
    "df = pd.DataFrame(gpd.read_file(shp_path).copy())\n",
    "\n",
    "# make df geometry column as a pygeos array\n",
    "df.geometry = pygeos.from_shapely(df.geometry)\n",
    "\n",
    "# reproject geometry column\n",
    "df.geometry = reproject(df, annotations_crs, raster_crs)\n"
   ]
  },
  {
   "cell_type": "code",
   "execution_count": null,
   "metadata": {},
   "outputs": [],
   "source": [
    "### Split annotations DataFrame into the new small tiles of width X and height Y & save it to geojson ###\n",
    "\n",
    "split_annotations_to_geojson(df, tile_output_folder, json_folder)"
   ]
  }
 ],
 "metadata": {
  "kernelspec": {
   "display_name": "Python 3 (ipykernel)",
   "language": "python",
   "name": "python3"
  },
  "language_info": {
   "codemirror_mode": {
    "name": "ipython",
    "version": 3
   },
   "file_extension": ".py",
   "mimetype": "text/x-python",
   "name": "python",
   "nbconvert_exporter": "python",
   "pygments_lexer": "ipython3",
   "version": "3.9.16"
  },
  "vscode": {
   "interpreter": {
    "hash": "5bc4db46b6a73bd30a11a2fa3e93f40c6d7b47ce177475cde816571bd5c02b40"
   }
  }
 },
 "nbformat": 4,
 "nbformat_minor": 2
}
