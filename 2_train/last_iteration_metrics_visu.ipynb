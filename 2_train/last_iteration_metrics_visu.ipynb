{
 "cells": [
  {
   "cell_type": "code",
   "execution_count": 3,
   "id": "80ec32bf",
   "metadata": {},
   "outputs": [
    {
     "name": "stdout",
     "output_type": "stream",
     "text": [
      "     bbox/AP  bbox/AP50  bbox/AP75   bbox/APl  bbox/APm  bbox/APs  data_time  \\\n",
      "0  13.796639  24.015057  14.087504  20.454856  7.877081       0.0   0.103148   \n",
      "\n",
      "    eta_seconds  fast_rcnn/cls_accuracy  fast_rcnn/false_negative  \\\n",
      "0  43055.366758                     1.0                  0.868421   \n",
      "\n",
      "   fast_rcnn/fg_cls_accuracy  iteration  loss_box_reg  loss_cls  loss_mask  \\\n",
      "0                   0.131579      20999           0.0  0.000025        0.0   \n",
      "\n",
      "   loss_rpn_cls  loss_rpn_loc     lr  mask_rcnn/accuracy  \\\n",
      "0      0.000014           0.0  0.001            0.789509   \n",
      "\n",
      "   mask_rcnn/false_negative  mask_rcnn/false_positive  \\\n",
      "0                  0.323743                   0.09716   \n",
      "\n",
      "   roi_head/num_bg_samples  roi_head/num_fg_samples  rpn/num_neg_anchors  \\\n",
      "0                    512.0                      0.0                128.0   \n",
      "\n",
      "   rpn/num_pos_anchors   segm/AP  segm/AP50  segm/AP75   segm/APl  segm/APm  \\\n",
      "0                  0.0  8.264294  22.363501   1.317695  13.219963   3.52643   \n",
      "\n",
      "   segm/APs      time  timetest  total_loss  validation_ap  validation_loss  \n",
      "0       0.0  0.621883      12.0    0.000037      21.957889         0.003392  \n"
     ]
    }
   ],
   "source": [
    "import json\n",
    "import pandas as pd\n",
    "#filename = \"../NSO/output/lr0001_DAfix/metrics.json\"\n",
    "#filename = \"../NSO/output/eval_full_augs_dc/metrics.json\"\n",
    "#filename = \"../NSO/output/lr0001_BS8/metrics.json\"\n",
    "#filename = \"../NSO/output/lr0001_BS16/metrics.json\"\n",
    "#filename = \"../NSO/output/lr0001_BS32/metrics.json\"\n",
    "filename = \"../NSO/output/lr001_BS4_empty-annot-25_test-3/metrics.json\"\n",
    "\n",
    "with open(filename, 'r') as file:\n",
    "    lines = file.readlines()\n",
    "\n",
    "    if lines:\n",
    "        last_line = lines[-2].strip()\n",
    "        data = json.loads(last_line)\n",
    "        df = pd.json_normalize(data)\n",
    "        with pd.option_context('display.max_columns', None): \n",
    "            print(df)\n",
    "    else:\n",
    "        print(\"The file is empty.\")\n"
   ]
  },
  {
   "cell_type": "code",
   "execution_count": null,
   "id": "279f04c0",
   "metadata": {},
   "outputs": [],
   "source": []
  }
 ],
 "metadata": {
  "kernelspec": {
   "display_name": "Python 3 (ipykernel)",
   "language": "python",
   "name": "python3"
  }
 },
 "nbformat": 4,
 "nbformat_minor": 5
}
