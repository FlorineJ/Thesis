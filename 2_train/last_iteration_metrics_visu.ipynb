{
 "cells": [
  {
   "cell_type": "code",
   "execution_count": 1,
   "id": "80ec32bf",
   "metadata": {},
   "outputs": [
    {
     "name": "stdout",
     "output_type": "stream",
     "text": [
      "   data_time  eta_seconds  fast_rcnn/cls_accuracy  fast_rcnn/false_negative  \\\n",
      "0   0.004016          0.0                0.996094                  0.078788   \n",
      "\n",
      "   fast_rcnn/fg_cls_accuracy  iteration  loss_box_reg  loss_cls  loss_mask  \\\n",
      "0                   0.921212       9999      0.021429  0.013642   0.050764   \n",
      "\n",
      "   loss_rpn_cls  loss_rpn_loc      lr  mask_rcnn/accuracy  \\\n",
      "0       0.00061      0.011975  0.0001             0.98196   \n",
      "\n",
      "   mask_rcnn/false_negative  mask_rcnn/false_positive  \\\n",
      "0                  0.017526                  0.019337   \n",
      "\n",
      "   roi_head/num_bg_samples  roi_head/num_fg_samples  rpn/num_neg_anchors  \\\n",
      "0                    496.5                     15.5                124.0   \n",
      "\n",
      "   rpn/num_pos_anchors      time  timetest  total_loss  validation_ap  \\\n",
      "0                  4.0  0.500114      12.0    0.104787      99.439496   \n",
      "\n",
      "   validation_loss  \n",
      "0         0.109986  \n"
     ]
    }
   ],
   "source": [
    "import json\n",
    "import pandas as pd\n",
    "#filename = \"../NSO/output/lr0001_DAfix/metrics.json\"\n",
    "#filename = \"../NSO/output/eval_full_augs_dc/metrics.json\"\n",
    "#filename = \"../NSO/output/lr0001_BS8/metrics.json\"\n",
    "#filename = \"../NSO/output/lr0001_BS16/metrics.json\"\n",
    "#filename = \"../NSO/output/lr0001_BS32/metrics.json\"\n",
    "filename = \"../Satellite/output/lr001_BS4_container_test_13/metrics.json\"\n",
    "\n",
    "with open(filename, 'r') as file:\n",
    "    lines = file.readlines()\n",
    "\n",
    "    if lines:\n",
    "        last_line = lines[-2].strip()\n",
    "        data = json.loads(last_line)\n",
    "        df = pd.json_normalize(data)\n",
    "        with pd.option_context('display.max_columns', None): \n",
    "            print(df)\n",
    "    else:\n",
    "        print(\"The file is empty.\")\n"
   ]
  },
  {
   "cell_type": "code",
   "execution_count": null,
   "id": "279f04c0",
   "metadata": {},
   "outputs": [],
   "source": []
  }
 ],
 "metadata": {
  "kernelspec": {
   "display_name": "Python 3 (ipykernel)",
   "language": "python",
   "name": "python3"
  },
  "language_info": {
   "codemirror_mode": {
    "name": "ipython",
    "version": 3
   },
   "file_extension": ".py",
   "mimetype": "text/x-python",
   "name": "python",
   "nbconvert_exporter": "python",
   "pygments_lexer": "ipython3",
   "version": "3.9.16"
  }
 },
 "nbformat": 4,
 "nbformat_minor": 5
}
